{
 "cells": [
  {
   "cell_type": "code",
   "execution_count": 1,
   "id": "9384c76f-a951-4f90-a73f-d3106230bf5c",
   "metadata": {},
   "outputs": [],
   "source": [
    "import os\n",
    "import numpy as np\n",
    "import xarray as xr\n",
    "from src.data_processing import process_smap, process_nldas, process_forcing, _subset_states\n",
    "from utils.global_paths import project_data_path, project_code_path, nldas_path\n",
    "from utils.subsets import subsets"
   ]
  },
  {
   "cell_type": "markdown",
   "id": "332416eb-c27b-406c-9408-cecafbde895d",
   "metadata": {
    "tags": []
   },
   "source": [
    "### CONUS"
   ]
  },
  {
   "cell_type": "code",
   "execution_count": 2,
   "id": "49f39e22-2567-4676-b1e3-c91b36f1a3b1",
   "metadata": {},
   "outputs": [],
   "source": [
    "subset_name = \"CONUS\"\n",
    "list_of_states = None"
   ]
  },
  {
   "cell_type": "code",
   "execution_count": 3,
   "id": "3042c557-36fc-42eb-8fbc-13fc79d729d5",
   "metadata": {},
   "outputs": [],
   "source": [
    "# Make directories\n",
    "output_path = f\"{project_data_path}/WBM/calibration/{subset_name}\"\n",
    "\n",
    "# Main\n",
    "if not os.path.isdir(output_path):\n",
    "    os.mkdir(output_path)\n",
    "    \n",
    "# Subs\n",
    "for sub in [\"SMAP\", \"VIC\", \"NOAH\", \"MOSAIC\"]:\n",
    "    if not os.path.isdir(f\"{output_path}/{sub}\"):\n",
    "        os.mkdir(f\"{output_path}/{sub}\")"
   ]
  },
  {
   "cell_type": "code",
   "execution_count": 19,
   "id": "251794fe-5a46-49d4-8f0d-926005dab269",
   "metadata": {},
   "outputs": [],
   "source": [
    "# Get and store grid\n",
    "nldas_grid = _subset_states(xr.open_dataset(f\"{nldas_path}/VIC/daily/NLDAS_VIC0125_H.A20221231.nc\"), list_of_states)  # random date\n",
    "\n",
    "np.save(f\"{project_code_path}/code/utils/grids/{subset_name}_lon.npy\", nldas_grid.lon.to_numpy())\n",
    "np.save(f\"{project_code_path}/code/utils/grids/{subset_name}_lat.npy\", nldas_grid.lat.to_numpy())"
   ]
  },
  {
   "cell_type": "code",
   "execution_count": 9,
   "id": "4a2cf1e4-8408-49c1-80fc-1988e46c64e8",
   "metadata": {},
   "outputs": [
    {
     "name": "stdout",
     "output_type": "stream",
     "text": [
      "CPU times: user 33.9 s, sys: 17.3 s, total: 51.2 s\n",
      "Wall time: 2min 12s\n"
     ]
    }
   ],
   "source": [
    "%%time\n",
    "# SMAP\n",
    "process_smap(subset_name, list_of_states)"
   ]
  },
  {
   "cell_type": "code",
   "execution_count": 10,
   "id": "966a8e81-2869-4960-8ce9-8ae9c7a27447",
   "metadata": {},
   "outputs": [
    {
     "name": "stdout",
     "output_type": "stream",
     "text": [
      "CPU times: user 3min 4s, sys: 1min 1s, total: 4min 5s\n",
      "Wall time: 8min 5s\n"
     ]
    }
   ],
   "source": [
    "%%time\n",
    "# NLDAS\n",
    "process_nldas(subset_name, list_of_states)"
   ]
  },
  {
   "cell_type": "code",
   "execution_count": 11,
   "id": "9ca6e5b6-6457-4a3f-85f5-96b2ee365c1c",
   "metadata": {},
   "outputs": [
    {
     "name": "stdout",
     "output_type": "stream",
     "text": [
      "CPU times: user 3min 18s, sys: 1min 32s, total: 4min 51s\n",
      "Wall time: 13min 8s\n"
     ]
    }
   ],
   "source": [
    "%%time\n",
    "# Forcing\n",
    "process_forcing(subset_name, list_of_states)"
   ]
  },
  {
   "cell_type": "markdown",
   "id": "946b761e-56e8-4f57-a936-b34893862375",
   "metadata": {},
   "source": [
    "### eCONUS"
   ]
  },
  {
   "cell_type": "code",
   "execution_count": 2,
   "id": "4f63b04c-9d38-4c37-94d2-ed77dde23fd1",
   "metadata": {},
   "outputs": [],
   "source": [
    "subset_name = \"eCONUS\"\n",
    "list_of_states = subsets[subset_name]"
   ]
  },
  {
   "cell_type": "code",
   "execution_count": 3,
   "id": "9742308f-6e68-441d-a940-f4e1ba010d05",
   "metadata": {},
   "outputs": [],
   "source": [
    "# Make directories\n",
    "output_path = f\"{project_data_path}/WBM/calibration/{subset_name}\"\n",
    "\n",
    "# Main\n",
    "if not os.path.isdir(output_path):\n",
    "    os.mkdir(output_path)\n",
    "    \n",
    "# Subs\n",
    "for sub in [\"SMAP\", \"VIC\", \"NOAH\", \"MOSAIC\"]:\n",
    "    if not os.path.isdir(f\"{output_path}/{sub}\"):\n",
    "        os.mkdir(f\"{output_path}/{sub}\")"
   ]
  },
  {
   "cell_type": "code",
   "execution_count": 4,
   "id": "6d93fca2-d350-4568-b5f1-f0ad6820a724",
   "metadata": {},
   "outputs": [],
   "source": [
    "# Get and store grid\n",
    "if not os.path.exists(f\"{project_code_path}/code/utils/grids/{subset_name}_lon.npy\"):\n",
    "    nldas_grid = _subset_states(xr.open_dataset(f\"{nldas_path}/VIC/daily/NLDAS_VIC0125_H.A20221231.nc\"), list_of_states)  # random date\n",
    "\n",
    "    np.save(f\"{project_code_path}/code/utils/grids/{subset_name}_lon.npy\", nldas_grid.lon.to_numpy())\n",
    "    np.save(f\"{project_code_path}/code/utils/grids/{subset_name}_lat.npy\", nldas_grid.lat.to_numpy())"
   ]
  },
  {
   "cell_type": "code",
   "execution_count": 5,
   "id": "55a33927-3a0f-4d59-a5a5-5a2ae50f97f5",
   "metadata": {},
   "outputs": [
    {
     "name": "stdout",
     "output_type": "stream",
     "text": [
      "SMAP already processed\n",
      "CPU times: user 631 µs, sys: 127 µs, total: 758 µs\n",
      "Wall time: 5.4 ms\n"
     ]
    }
   ],
   "source": [
    "%%time\n",
    "# SMAP\n",
    "process_smap(subset_name, list_of_states)"
   ]
  },
  {
   "cell_type": "code",
   "execution_count": 6,
   "id": "0aad8e47-54a7-4f7f-8450-9c17492f52aa",
   "metadata": {},
   "outputs": [
    {
     "name": "stdout",
     "output_type": "stream",
     "text": [
      "CPU times: user 49 µs, sys: 1.01 ms, total: 1.06 ms\n",
      "Wall time: 15 ms\n"
     ]
    }
   ],
   "source": [
    "%%time\n",
    "# NLDAS\n",
    "process_nldas(subset_name, list_of_states)"
   ]
  },
  {
   "cell_type": "code",
   "execution_count": 7,
   "id": "48ae2e87-6e10-492f-acc4-75cb386e01de",
   "metadata": {},
   "outputs": [
    {
     "name": "stdout",
     "output_type": "stream",
     "text": [
      "CPU times: user 1min 49s, sys: 27 s, total: 2min 16s\n",
      "Wall time: 3min 32s\n"
     ]
    }
   ],
   "source": [
    "%%time\n",
    "# Forcing\n",
    "process_forcing(subset_name, list_of_states)"
   ]
  },
  {
   "cell_type": "markdown",
   "id": "2ddb3eaa-f53f-46c9-ac05-076cb5e0fd2b",
   "metadata": {
    "tags": []
   },
   "source": [
    "### Midwest"
   ]
  },
  {
   "cell_type": "code",
   "execution_count": 2,
   "id": "a3932f38-84f2-4e08-bc51-d41bbe94d46c",
   "metadata": {},
   "outputs": [],
   "source": [
    "subset_name = \"midwest\"\n",
    "list_of_states = [\"North Dakota\", \"South Dakota\", \"Nebraska\", \"Kansas\",\n",
    "                  \"Minnesota\", \"Iowa\", \"Missouri\", \n",
    "                  \"Wisconsin\", \"Illinois\",\n",
    "                  \"Michigan\", \"Indiana\", \"Kentucky\", \"Ohio\"]"
   ]
  },
  {
   "cell_type": "code",
   "execution_count": 4,
   "id": "1821c37c-0821-4057-a119-98aa2280b9cf",
   "metadata": {},
   "outputs": [],
   "source": [
    "# Make directories\n",
    "output_path = f\"{project_data_path}/WBM/calibration/{subset_name}\"\n",
    "\n",
    "# Main\n",
    "if not os.path.isdir(output_path):\n",
    "    os.mkdir(output_path)\n",
    "    \n",
    "# Subs\n",
    "for sub in [\"SMAP\", \"VIC\", \"NOAH\", \"MOSAIC\"]:\n",
    "    if not os.path.isdir(f\"{output_path}/{sub}\"):\n",
    "        os.mkdir(f\"{output_path}/{sub}\")"
   ]
  },
  {
   "cell_type": "code",
   "execution_count": 5,
   "id": "029fc464-ab27-4911-b652-46cfbee3d581",
   "metadata": {},
   "outputs": [
    {
     "name": "stdout",
     "output_type": "stream",
     "text": [
      "CPU times: user 1min 34s, sys: 17.3 s, total: 1min 51s\n",
      "Wall time: 2min 58s\n"
     ]
    }
   ],
   "source": [
    "%%time\n",
    "# SMAP\n",
    "process_smap(subset_name, list_of_states)"
   ]
  },
  {
   "cell_type": "code",
   "execution_count": 6,
   "id": "af0b7b0e-35a2-4e1b-bb7d-d37e0938baea",
   "metadata": {},
   "outputs": [
    {
     "name": "stdout",
     "output_type": "stream",
     "text": [
      "CPU times: user 5min 20s, sys: 26.4 s, total: 5min 46s\n",
      "Wall time: 9min 23s\n"
     ]
    }
   ],
   "source": [
    "%%time\n",
    "# NLDAS\n",
    "process_nldas(subset_name, list_of_states)"
   ]
  },
  {
   "cell_type": "code",
   "execution_count": 7,
   "id": "7f37ef54-2625-4d18-bcf7-aa726e5d80ee",
   "metadata": {},
   "outputs": [
    {
     "name": "stdout",
     "output_type": "stream",
     "text": [
      "CPU times: user 6min 28s, sys: 32.8 s, total: 7min 1s\n",
      "Wall time: 10min 3s\n"
     ]
    }
   ],
   "source": [
    "%%time\n",
    "# Forcing\n",
    "process_forcing(subset_name, list_of_states)"
   ]
  },
  {
   "cell_type": "code",
   "execution_count": null,
   "id": "ede09040-de6b-4778-9455-68582da33a46",
   "metadata": {},
   "outputs": [],
   "source": []
  }
 ],
 "metadata": {
  "kernelspec": {
   "display_name": "Python 3 (ipykernel)",
   "language": "python",
   "name": "python3"
  },
  "language_info": {
   "codemirror_mode": {
    "name": "ipython",
    "version": 3
   },
   "file_extension": ".py",
   "mimetype": "text/x-python",
   "name": "python",
   "nbconvert_exporter": "python",
   "pygments_lexer": "ipython3",
   "version": "3.12.7"
  }
 },
 "nbformat": 4,
 "nbformat_minor": 5
}
