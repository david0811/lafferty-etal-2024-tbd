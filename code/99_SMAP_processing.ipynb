{
 "cells": [
  {
   "cell_type": "code",
   "execution_count": 1,
   "id": "bb5cdfc7-8906-4ef3-bd08-bd85464c72ff",
   "metadata": {},
   "outputs": [],
   "source": [
    "import numpy as np\n",
    "import pandas as pd\n",
    "import xarray as xr\n",
    "import xesmf as xe\n",
    "\n",
    "from datetime import date, timedelta\n",
    "import glob\n",
    "import os\n",
    "\n",
    "import dask\n",
    "\n",
    "import matplotlib.pyplot as plt"
   ]
  },
  {
   "cell_type": "markdown",
   "id": "fb697a2b-e356-4554-9362-544d693f1cf6",
   "metadata": {
    "tags": []
   },
   "source": [
    "## Dask cluster"
   ]
  },
  {
   "cell_type": "code",
   "execution_count": 2,
   "id": "7f954564-548b-4cf5-9379-6ece76ca15ca",
   "metadata": {
    "tags": []
   },
   "outputs": [],
   "source": [
    "from dask_jobqueue import SLURMCluster\n",
    "\n",
    "cluster = SLURMCluster(\n",
    "    account=\"pches\",\n",
    "    # account=\"open\",\n",
    "    cores=1,\n",
    "    memory=\"5GB\",\n",
    "    walltime=\"00:20:00\",\n",
    ")\n",
    "\n",
    "cluster.scale(jobs=20)"
   ]
  },
  {
   "cell_type": "code",
   "execution_count": 3,
   "id": "913be243-6e14-4a8e-9485-c0cfb624a75b",
   "metadata": {
    "tags": []
   },
   "outputs": [],
   "source": [
    "# print(cluster.job_script())"
   ]
  },
  {
   "cell_type": "code",
   "execution_count": 4,
   "id": "4e765605-9a60-41df-9131-160021fc9adc",
   "metadata": {},
   "outputs": [
    {
     "data": {
      "text/html": [
       "<div>\n",
       "    <div style=\"width: 24px; height: 24px; background-color: #e1e1e1; border: 3px solid #9D9D9D; border-radius: 5px; position: absolute;\"> </div>\n",
       "    <div style=\"margin-left: 48px;\">\n",
       "        <h3 style=\"margin-bottom: 0px;\">Client</h3>\n",
       "        <p style=\"color: #9D9D9D; margin-bottom: 0px;\">Client-9c70846e-882e-11ee-8d0c-00001029fe80</p>\n",
       "        <table style=\"width: 100%; text-align: left;\">\n",
       "\n",
       "        <tr>\n",
       "        \n",
       "            <td style=\"text-align: left;\"><strong>Connection method:</strong> Cluster object</td>\n",
       "            <td style=\"text-align: left;\"><strong>Cluster type:</strong> dask_jobqueue.SLURMCluster</td>\n",
       "        \n",
       "        </tr>\n",
       "\n",
       "        \n",
       "            <tr>\n",
       "                <td style=\"text-align: left;\">\n",
       "                    <strong>Dashboard: </strong> <a href=\"/proxy/8787/status\" target=\"_blank\">/proxy/8787/status</a>\n",
       "                </td>\n",
       "                <td style=\"text-align: left;\"></td>\n",
       "            </tr>\n",
       "        \n",
       "\n",
       "        </table>\n",
       "\n",
       "        \n",
       "            <button style=\"margin-bottom: 12px;\" data-commandlinker-command=\"dask:populate-and-launch-layout\" data-commandlinker-args='{\"url\": \"/proxy/8787/status\" }'>\n",
       "                Launch dashboard in JupyterLab\n",
       "            </button>\n",
       "        \n",
       "\n",
       "        \n",
       "            <details>\n",
       "            <summary style=\"margin-bottom: 20px;\"><h3 style=\"display: inline;\">Cluster Info</h3></summary>\n",
       "            <div class=\"jp-RenderedHTMLCommon jp-RenderedHTML jp-mod-trusted jp-OutputArea-output\">\n",
       "    <div style=\"width: 24px; height: 24px; background-color: #e1e1e1; border: 3px solid #9D9D9D; border-radius: 5px; position: absolute;\">\n",
       "    </div>\n",
       "    <div style=\"margin-left: 48px;\">\n",
       "        <h3 style=\"margin-bottom: 0px; margin-top: 0px;\">SLURMCluster</h3>\n",
       "        <p style=\"color: #9D9D9D; margin-bottom: 0px;\">1afa5ba6</p>\n",
       "        <table style=\"width: 100%; text-align: left;\">\n",
       "            <tr>\n",
       "                <td style=\"text-align: left;\">\n",
       "                    <strong>Dashboard:</strong> <a href=\"/proxy/8787/status\" target=\"_blank\">/proxy/8787/status</a>\n",
       "                </td>\n",
       "                <td style=\"text-align: left;\">\n",
       "                    <strong>Workers:</strong> 0\n",
       "                </td>\n",
       "            </tr>\n",
       "            <tr>\n",
       "                <td style=\"text-align: left;\">\n",
       "                    <strong>Total threads:</strong> 0\n",
       "                </td>\n",
       "                <td style=\"text-align: left;\">\n",
       "                    <strong>Total memory:</strong> 0 B\n",
       "                </td>\n",
       "            </tr>\n",
       "            \n",
       "        </table>\n",
       "\n",
       "        <details>\n",
       "            <summary style=\"margin-bottom: 20px;\">\n",
       "                <h3 style=\"display: inline;\">Scheduler Info</h3>\n",
       "            </summary>\n",
       "\n",
       "            <div style=\"\">\n",
       "    <div>\n",
       "        <div style=\"width: 24px; height: 24px; background-color: #FFF7E5; border: 3px solid #FF6132; border-radius: 5px; position: absolute;\"> </div>\n",
       "        <div style=\"margin-left: 48px;\">\n",
       "            <h3 style=\"margin-bottom: 0px;\">Scheduler</h3>\n",
       "            <p style=\"color: #9D9D9D; margin-bottom: 0px;\">Scheduler-89be6421-4e9a-4abe-b23d-6d40954f47c7</p>\n",
       "            <table style=\"width: 100%; text-align: left;\">\n",
       "                <tr>\n",
       "                    <td style=\"text-align: left;\">\n",
       "                        <strong>Comm:</strong> tcp://10.6.0.170:40933\n",
       "                    </td>\n",
       "                    <td style=\"text-align: left;\">\n",
       "                        <strong>Workers:</strong> 0\n",
       "                    </td>\n",
       "                </tr>\n",
       "                <tr>\n",
       "                    <td style=\"text-align: left;\">\n",
       "                        <strong>Dashboard:</strong> <a href=\"/proxy/8787/status\" target=\"_blank\">/proxy/8787/status</a>\n",
       "                    </td>\n",
       "                    <td style=\"text-align: left;\">\n",
       "                        <strong>Total threads:</strong> 0\n",
       "                    </td>\n",
       "                </tr>\n",
       "                <tr>\n",
       "                    <td style=\"text-align: left;\">\n",
       "                        <strong>Started:</strong> Just now\n",
       "                    </td>\n",
       "                    <td style=\"text-align: left;\">\n",
       "                        <strong>Total memory:</strong> 0 B\n",
       "                    </td>\n",
       "                </tr>\n",
       "            </table>\n",
       "        </div>\n",
       "    </div>\n",
       "\n",
       "    <details style=\"margin-left: 48px;\">\n",
       "        <summary style=\"margin-bottom: 20px;\">\n",
       "            <h3 style=\"display: inline;\">Workers</h3>\n",
       "        </summary>\n",
       "\n",
       "        \n",
       "\n",
       "    </details>\n",
       "</div>\n",
       "\n",
       "        </details>\n",
       "    </div>\n",
       "</div>\n",
       "            </details>\n",
       "        \n",
       "\n",
       "    </div>\n",
       "</div>"
      ],
      "text/plain": [
       "<Client: 'tcp://10.6.0.170:40933' processes=0 threads=0, memory=0 B>"
      ]
     },
     "execution_count": 4,
     "metadata": {},
     "output_type": "execute_result"
    }
   ],
   "source": [
    "from dask.distributed import Client\n",
    "\n",
    "client = Client(cluster)\n",
    "\n",
    "client"
   ]
  },
  {
   "cell_type": "markdown",
   "id": "a580151d-875f-4c32-8b76-9848b0432e6a",
   "metadata": {
    "jp-MarkdownHeadingCollapsed": true
   },
   "source": [
    "## NLDAS daily averages"
   ]
  },
  {
   "cell_type": "code",
   "execution_count": 7,
   "id": "4a767552-8dbe-4622-baf0-0ab716cc176c",
   "metadata": {},
   "outputs": [],
   "source": [
    "# Directories\n",
    "nldas_dir = \"/storage/group/pches/default/public/NLDAS\"\n",
    "log_dir = \"/storage/home/dcl5300/work/current_projects/wbm_soilM_crop_uc_lafferty-etal-2024-tbd/code/logs\""
   ]
  },
  {
   "cell_type": "code",
   "execution_count": 8,
   "id": "37165f12-df1a-4268-803e-27ae0426e27c",
   "metadata": {},
   "outputs": [],
   "source": [
    "def calculate_nldas_daily_avg(date, model, nldas_dir, out_dir, log_dir):\n",
    "\n",
    "    # Remove dashes\n",
    "    date_strf = date.strftime(\"%Y-%m-%d\").replace('-','')\n",
    "    \n",
    "    # Check if done\n",
    "    if os.path.isfile(f\"{out_dir}/NLDAS_{model}0125_H.A{date_strf}.nc\"):\n",
    "        return None\n",
    "        \n",
    "    # Read entire day (check if complete)\n",
    "    files = glob.glob(f'{nldas_dir}/NLDAS_{model}0125_H.A{date_strf}*')\n",
    "    if len(files) != 24:\n",
    "        with open(f'{log_dir}/NLDAS_{model}0125_H_{date_strf}.txt', 'w') as f:\n",
    "            f.write(f'Only {len(files)} files')\n",
    "            return None\n",
    "    \n",
    "    # Auto-combine\n",
    "    ds = xr.concat([xr.open_dataset(file) for file in files], dim='time')\n",
    "\n",
    "    # Resample to daily\n",
    "    if model == 'FORA':\n",
    "        ds_apcp = xr.Dataset({'APCP': ds['APCP'].resample(time='1D').sum()})\n",
    "        ds_tmp = xr.Dataset({'TMP': ds['TMP'].resample(time='1D').mean()}).isel(height=0).drop('height')\n",
    "\n",
    "        # Merge\n",
    "        ds_out = xr.merge([ds_apcp, ds_tmp])\n",
    "    else:\n",
    "        ds_out = ds.resample(time='1D').mean()\n",
    "\n",
    "    # Store \n",
    "    ds_out.to_netcdf(f\"{out_dir}/NLDAS_{model}0125_H.A{date_strf}.nc\")"
   ]
  },
  {
   "cell_type": "code",
   "execution_count": 9,
   "id": "ba9fbbe8-9176-4b57-a6f7-9ee30f83312f",
   "metadata": {},
   "outputs": [
    {
     "name": "stdout",
     "output_type": "stream",
     "text": [
      "CPU times: user 6.5 s, sys: 433 ms, total: 6.93 s\n",
      "Wall time: 31.6 s\n"
     ]
    }
   ],
   "source": [
    "%%time\n",
    "# Define dates\n",
    "start_date = date(2016, 1, 1)\n",
    "end_date = date(2022, 12, 31)\n",
    "delta = timedelta(days=1)\n",
    "\n",
    "# Loop for dask delayed\n",
    "delayed = []\n",
    "while start_date <= end_date:\n",
    "    delayed.append(dask.delayed(calculate_nldas_daily_avg)(date=start_date,\n",
    "                                                           model = 'FORA',\n",
    "                                                           nldas_dir=f'{nldas_dir}/forcing/',\n",
    "                                                           out_dir=f'{nldas_dir}/forcing/daily/',\n",
    "                                                           log_dir=log_dir))\n",
    "    start_date += delta\n",
    "\n",
    "# Compute\n",
    "_ = dask.compute(*delayed)"
   ]
  },
  {
   "cell_type": "markdown",
   "id": "d7416103-97a9-4e8e-aeb0-82f55b9ece3e",
   "metadata": {
    "jp-MarkdownHeadingCollapsed": true
   },
   "source": [
    "## SMAP daily averages"
   ]
  },
  {
   "cell_type": "code",
   "execution_count": 5,
   "id": "8e7b9cac-2e2d-465b-9af6-1c91770af076",
   "metadata": {},
   "outputs": [],
   "source": [
    "# Directories\n",
    "in_dir = \"/storage/group/pches/default/public/SMAP/raw_nc\"\n",
    "out_dir = \"/storage/group/pches/default/public/SMAP/processed\"\n",
    "log_dir = \"/storage/home/dcl5300/work/current_projects/wbm_soilM_crop_uc_lafferty-etal-2024-tbd/code/logs\""
   ]
  },
  {
   "cell_type": "code",
   "execution_count": 17,
   "id": "4d635b65-d1cc-46d4-a5e1-2aa9b0c003af",
   "metadata": {},
   "outputs": [],
   "source": [
    "def calculate_daily_avg(date, in_dir, out_dir, log_dir):\n",
    "    def _preprocess(ds):\n",
    "        # Add datetime\n",
    "        dt_all = ds.encoding[\"source\"][63:78]\n",
    "        datetime = pd.to_datetime(f\"{dt_all[:4]}-{dt_all[4:6]}-{dt_all[6:8]} {dt_all[9:11]}:30\", format=\"%Y-%m-%d %H:%M\")\n",
    "        ds = ds.expand_dims(time=[datetime])\n",
    "        # Select band data\n",
    "        ds = ds.isel(band=0)\n",
    "        # Rename coords\n",
    "        ds = ds.rename({'x':'lon', 'y':'lat'})\n",
    "        # Rename var\n",
    "        var_list = ds.encoding[\"source\"].split('_sm_')[1].split('_')\n",
    "        \n",
    "        if len(var_list) == 2:\n",
    "            var_name = f'sm_{var_list[0]}'\n",
    "        elif len(var_list) == 3:\n",
    "            var_name = f'sm_{var_list[0]}_{var_list[1]}'\n",
    "\n",
    "        ds = ds.rename({'band_data':var_name})\n",
    "        \n",
    "        # Drop unwanted vards\n",
    "        ds = ds.drop_vars(['band','spatial_ref'])\n",
    "        # Return\n",
    "        return ds\n",
    "\n",
    "    # Remove dashes\n",
    "    date_strf = date.strftime(\"%Y-%m-%d\").replace('-','')\n",
    "    \n",
    "    # Check if done\n",
    "    if os.path.isfile(f\"{out_dir}/SMAP_L4_SM_gph_all_{date_strf}.nc\"):\n",
    "        return None\n",
    "        \n",
    "    # Read entire day (check if complete)\n",
    "    files = glob.glob(f'{in_dir}/SMAP_L4_SM_gph_{date_strf}*.tif')\n",
    "    if len(files) != 8*4:\n",
    "        with open(f'{log_dir}/SMAP_L4_SM_gph_{date_strf}.txt', 'w') as f:\n",
    "            f.write(f'Only {len(files)} files')\n",
    "            return None\n",
    "    \n",
    "    # Auto-combine\n",
    "    ds = xr.combine_by_coords([_preprocess(xr.open_dataset(file)) for file in files])\n",
    "\n",
    "    # Resample to daily means\n",
    "    ds_out = ds.resample(time='1D').mean()\n",
    "\n",
    "    # Store \n",
    "    ds_out.to_netcdf(f\"{out_dir}/SMAP_L4_SM_gph_all_{date_strf}.nc\")"
   ]
  },
  {
   "cell_type": "code",
   "execution_count": 19,
   "id": "c1435abb-3cee-4768-91fe-06a863f73db0",
   "metadata": {},
   "outputs": [
    {
     "name": "stdout",
     "output_type": "stream",
     "text": [
      "CPU times: user 10.7 s, sys: 551 ms, total: 11.2 s\n",
      "Wall time: 53.5 s\n"
     ]
    }
   ],
   "source": [
    "%%time\n",
    "# Define dates\n",
    "start_date = date(2016, 1, 1)\n",
    "# end_date = date(2016, 12, 31)\n",
    "end_date = date(2022, 12, 31)\n",
    "delta = timedelta(days=1)\n",
    "\n",
    "# Loop for dask delayed\n",
    "delayed = []\n",
    "while start_date <= end_date:\n",
    "    delayed.append(dask.delayed(calculate_daily_avg)(date=start_date,\n",
    "                                                     in_dir=in_dir,\n",
    "                                                     out_dir=out_dir,\n",
    "                                                     log_dir=log_dir))\n",
    "    start_date += delta\n",
    "\n",
    "# Compute\n",
    "_ = dask.compute(*delayed)"
   ]
  },
  {
   "cell_type": "markdown",
   "id": "b125a9c1-6ac7-4bf0-a9b7-320d37aff00d",
   "metadata": {},
   "source": [
    "## Re-grid to NLDAS grid"
   ]
  },
  {
   "cell_type": "code",
   "execution_count": 5,
   "id": "265b8b8f-6b49-4c10-860a-963e88e4f3f8",
   "metadata": {},
   "outputs": [],
   "source": [
    "# Directories\n",
    "in_dir = \"/storage/group/pches/default/public/SMAP/processed\"\n",
    "out_dir = \"/storage/group/pches/default/public/SMAP/processed_nldas_grid\""
   ]
  },
  {
   "cell_type": "code",
   "execution_count": 6,
   "id": "2a3d8cc0-91cf-4b8b-b0e2-7cffec9d6c68",
   "metadata": {},
   "outputs": [],
   "source": [
    "# Get NLDAS grid\n",
    "nldas_grid = xr.open_dataset('/storage/group/pches/default/public/NLDAS/forcing/daily/NLDAS_FORA0125_H.A20221231.nc') # random date\n",
    "\n",
    "nldas_lon_grid = nldas_grid.lon.to_numpy()\n",
    "nldas_lat_grid = nldas_grid.lat.to_numpy()"
   ]
  },
  {
   "cell_type": "code",
   "execution_count": 7,
   "id": "3315ee29-1350-403f-9f90-00603aabfa97",
   "metadata": {},
   "outputs": [],
   "source": [
    "def regrid_to_nldas(date, nldas_lon_grid, nldas_lat_grid, in_dir, out_dir):\n",
    "    # Remove dashes\n",
    "    date_strf = date.strftime(\"%Y-%m-%d\").replace('-','')\n",
    "    \n",
    "    # Check if done\n",
    "    if os.path.isfile(f\"{out_dir}/SMAP_L4_SM_gph_all_nldas_{date_strf}.nc\"):\n",
    "        return None\n",
    "        \n",
    "    # Read\n",
    "    dr_in = xr.open_dataset(f\"{in_dir}/SMAP_L4_SM_gph_all_{date_strf}.nc\")\n",
    "    dr_in = dr_in.sortby('lat').sel(lat=slice(20,60), lon=slice(-130,-60)) # generous North America slice\n",
    "    \n",
    "    # Regrid conservatively\n",
    "    ds_out = xr.Dataset(\n",
    "        {\n",
    "        \"lat\": ([\"lat\"], nldas_lat_grid, {\"standard_name\": \"latitude\", \"units\": \"degrees_north\"}),\n",
    "        \"lon\": ([\"lon\"], nldas_lon_grid, {\"standard_name\": \"longitude\", \"units\": \"degrees_east\"}),\n",
    "        }\n",
    "    )\n",
    "    regridder = xe.Regridder(dr_in, ds_out, 'conservative')\n",
    "    dr_out = regridder(dr_in)\n",
    "\n",
    "    # Store \n",
    "    dr_out.to_netcdf(f\"{out_dir}/SMAP_L4_SM_gph_all_nldas_{date_strf}.nc\")"
   ]
  },
  {
   "cell_type": "code",
   "execution_count": 8,
   "id": "123db3c6-4a09-4df0-9513-c76952c3b58c",
   "metadata": {},
   "outputs": [
    {
     "name": "stdout",
     "output_type": "stream",
     "text": [
      "CPU times: user 1min 28s, sys: 6.07 s, total: 1min 34s\n",
      "Wall time: 9min 36s\n"
     ]
    }
   ],
   "source": [
    "%%time\n",
    "# Define dates\n",
    "start_date = date(2016, 1, 1)\n",
    "end_date = date(2022, 12, 31)\n",
    "delta = timedelta(days=1)\n",
    "\n",
    "# Loop for dask delayed\n",
    "delayed = []\n",
    "while start_date <= end_date:\n",
    "    delayed.append(dask.delayed(regrid_to_nldas)(date=start_date,\n",
    "                                                 nldas_lon_grid=nldas_lon_grid,\n",
    "                                                 nldas_lat_grid=nldas_lat_grid,\n",
    "                                                 in_dir=in_dir,\n",
    "                                                 out_dir=out_dir))\n",
    "    start_date += delta\n",
    "\n",
    "# Compute\n",
    "_ = dask.compute(*delayed)"
   ]
  },
  {
   "cell_type": "markdown",
   "id": "ff995911-64d2-42f8-9ad7-e6bfd59c32e1",
   "metadata": {},
   "source": [
    "### Plot"
   ]
  },
  {
   "cell_type": "code",
   "execution_count": 9,
   "id": "f2e63662-1372-443d-94ca-4e7dff9b36ee",
   "metadata": {},
   "outputs": [],
   "source": [
    "ds = xr.open_mfdataset('/storage/group/pches/default/public/SMAP/processed_nldas_grid/SMAP_L4_SM_gph_all_*.nc')"
   ]
  },
  {
   "cell_type": "code",
   "execution_count": 10,
   "id": "71809d6d-27cc-4ca3-a319-050a9696892c",
   "metadata": {},
   "outputs": [
    {
     "data": {
      "text/plain": [
       "[<matplotlib.lines.Line2D at 0x1463c1e13950>]"
      ]
     },
     "execution_count": 10,
     "metadata": {},
     "output_type": "execute_result"
    },
    {
     "data": {
      "image/png": "[encoded data removed]",
      "text/plain": [
       "<Figure size 640x480 with 1 Axes>"
      ]
     },
     "metadata": {},
     "output_type": "display_data"
    }
   ],
   "source": [
    "ds.sel(lat=40, lon=-90, method='nearest').sm_rootzone_wetness.plot()"
   ]
  },
  {
   "cell_type": "code",
   "execution_count": null,
   "id": "25d10896-0cc6-4c02-9b79-2477c5710ef2",
   "metadata": {},
   "outputs": [],
   "source": []
  }
 ],
 "metadata": {
  "kernelspec": {
   "display_name": "Python 3 (ipykernel)",
   "language": "python",
   "name": "python3"
  },
  "language_info": {
   "codemirror_mode": {
    "name": "ipython",
    "version": 3
   },
   "file_extension": ".py",
   "mimetype": "text/x-python",
   "name": "python",
   "nbconvert_exporter": "python",
   "pygments_lexer": "ipython3",
   "version": "3.11.6"
  }
 },
 "nbformat": 4,
 "nbformat_minor": 5
}
