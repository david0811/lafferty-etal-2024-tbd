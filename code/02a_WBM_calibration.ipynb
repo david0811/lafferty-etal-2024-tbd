{
 "cells": [
  {
   "cell_type": "code",
   "execution_count": 1,
   "id": "4b807ff2-a898-416d-9ed5-06e33c4fb05e",
   "metadata": {},
   "outputs": [],
   "source": [
    "# from jax import config\n",
    "# config.update(\"jax_enable_x64\", True)"
   ]
  },
  {
   "cell_type": "code",
   "execution_count": 1,
   "id": "4a8f3e78-65f5-401a-9b44-8463725e04fd",
   "metadata": {},
   "outputs": [],
   "source": [
    "# from jax import config\n",
    "# config.update(\"jax_debug_nans\", False)"
   ]
  },
  {
   "cell_type": "code",
   "execution_count": 1,
   "id": "58728ec0-f35e-4ff7-aeb9-8cfa3bfead9d",
   "metadata": {},
   "outputs": [],
   "source": [
    "import numpy as np\n",
    "import jax.numpy as jnp\n",
    "import dask\n",
    "from src.train import train_and_store\n",
    "from src.read_inputs import read_inputs\n",
    "from utils.initial_params import initial_params\n",
    "from utils.param_bounds import params_lower, params_upper\n",
    "from utils.param_names import param_names"
   ]
  },
  {
   "cell_type": "code",
   "execution_count": 2,
   "id": "6769dfcf-a99d-4528-8378-f9f7398fb65f",
   "metadata": {},
   "outputs": [],
   "source": [
    "# ############\n",
    "# ### Dask ###\n",
    "# ############\n",
    "# from dask_jobqueue import SLURMCluster\n",
    "\n",
    "# cluster = SLURMCluster(\n",
    "#     # account=\"pches\",\n",
    "#     account=\"open\",\n",
    "#     cores=1,\n",
    "#     memory=\"5GiB\",\n",
    "#     walltime=\"01:00:00\"\n",
    "# )\n",
    "# cluster.scale(jobs=30)  # ask for jobs\n",
    "\n",
    "# from dask.distributed import Client\n",
    "# client = Client(cluster)\n",
    "# client"
   ]
  },
  {
   "cell_type": "markdown",
   "id": "7849bfd0-5f4e-4402-8408-9fbc4cce6f0a",
   "metadata": {},
   "source": [
    "# Fitting"
   ]
  },
  {
   "cell_type": "code",
   "execution_count": 2,
   "id": "bbbfca15-2fec-4ca2-883d-75d8efc90cf4",
   "metadata": {},
   "outputs": [],
   "source": [
    "# Length of timeseries needed for quantile RMSE\n",
    "N = 2555\n",
    "\n",
    "##################################\n",
    "# Define all error functions\n",
    "##################################\n",
    "\n",
    "########## RMSE\n",
    "_rmse = lambda prediction, ys: jnp.sqrt(jnp.nanmean((prediction - ys) ** 2))\n",
    "\n",
    "########## MSE\n",
    "_mse = lambda prediction, ys: jnp.nanmean((prediction - ys) ** 2)\n",
    "\n",
    "\n",
    "########## KGE\n",
    "def _kge(prediction, ys):\n",
    "    corr = jnp.nanmean(\n",
    "        (prediction - jnp.nanmean(prediction)) * (ys - jnp.nanmean(ys))\n",
    "    ) / (jnp.nanstd(prediction) * jnp.nanstd(ys))\n",
    "    mean_ratio = jnp.nanmean(prediction) / jnp.nanmean(ys)\n",
    "    std_ratio = jnp.nanstd(prediction) / jnp.nanstd(ys)\n",
    "    kge = 1 - jnp.sqrt((corr - 1) ** 2 + (mean_ratio - 1) ** 2 + (std_ratio - 1) ** 2)\n",
    "    return -kge\n",
    "\n",
    "\n",
    "########## q0-25 RMSE\n",
    "qmax = 0.25\n",
    "size = round(N * qmax)\n",
    "\n",
    "def _q25rmse(prediction, ys):\n",
    "    thresh = jnp.quantile(ys, qmax)\n",
    "    inds = jnp.where(ys <= thresh, size=size)\n",
    "    prediction_q = prediction[inds]\n",
    "    ys_q = ys[inds]\n",
    "    return jnp.sqrt(jnp.nanmean((prediction_q - ys_q) ** 2))\n",
    "\n",
    "\n",
    "########## q75-100 RMSE\n",
    "qmin = 0.75\n",
    "size = round(N * qmin)\n",
    "\n",
    "def _q75rmse(prediction, ys):\n",
    "    thresh = jnp.quantile(ys, qmin)\n",
    "    inds = jnp.where(ys >= thresh, size=size)\n",
    "    prediction_q = prediction[inds]\n",
    "    ys_q = ys[inds]\n",
    "    return jnp.sqrt(jnp.nanmean((prediction_q - ys_q) ** 2))\n",
    "\n",
    "\n",
    "_error_fns = [_rmse, _mse, _kge, _q25rmse, _q75rmse]\n",
    "error_fn_names = [\"rmse\", \"mse\", \"kge\", \"q0-25rmse\", \"q75-100rmse\"]"
   ]
  },
  {
   "cell_type": "markdown",
   "id": "d32517e8-66db-40c4-8810-8de7fe1071dc",
   "metadata": {},
   "source": [
    "## CONUS"
   ]
  },
  {
   "cell_type": "code",
   "execution_count": 3,
   "id": "c2996e58-366f-4dff-8ce3-eacc7afddfa3",
   "metadata": {},
   "outputs": [],
   "source": [
    "subset_name = \"CONUS\""
   ]
  },
  {
   "cell_type": "markdown",
   "id": "ad888d79-c493-4539-866d-b127eced7c5a",
   "metadata": {},
   "source": [
    "### SMAP"
   ]
  },
  {
   "cell_type": "code",
   "execution_count": 4,
   "id": "c8df8531-13f2-4a64-8dbc-7d1cdc3d217c",
   "metadata": {},
   "outputs": [],
   "source": [
    "obs_name = \"SMAP\"\n",
    "\n",
    "# # Get dimensions\n",
    "# ys, _, _, _ = read_inputs(subset_name, obs_name, True)\n",
    "# Nspace = ys.shape[0]\n",
    "# Ntime = ys.shape[1]\n",
    "\n",
    "# # Get validation indices\n",
    "# val_frac = 0.2\n",
    "# val_inds_all = np.array_split(np.random.permutation(Nspace), 1/val_frac)"
   ]
  },
  {
   "cell_type": "code",
   "execution_count": null,
   "id": "ecec25fe-fbcb-453f-acbc-b419c28b7322",
   "metadata": {},
   "outputs": [],
   "source": [
    "%%time\n",
    "\n",
    "_error_fn = _rmse\n",
    "error_fn_name = \"rmse\"\n",
    "\n",
    "(\n",
    "    train_loss_out,\n",
    "    pred_loss_out,\n",
    "    reg_loss_out,\n",
    "    val_loss_out,\n",
    "    theta,\n",
    ") = train_and_store(\n",
    "    subset_name=subset_name,\n",
    "    obs_name=obs_name,\n",
    "    _error_fn=_error_fn,\n",
    "    error_fn_name=error_fn_name,\n",
    "    initial_theta=initial_params,\n",
    "    params_lower=params_lower,\n",
    "    params_upper=params_upper,\n",
    "    param_names=param_names,\n",
    "    n_epochs_max = 10\n",
    ")"
   ]
  },
  {
   "cell_type": "code",
   "execution_count": 11,
   "id": "e09b7c21-140f-42d5-8e06-1d242ff30d2d",
   "metadata": {},
   "outputs": [
    {
     "name": "stdout",
     "output_type": "stream",
     "text": [
      "Epoch 0 train loss: 71.3068 pred loss: 71.3068, reg_loss: 0.0000, val loss: nan\n",
      "Epoch 1 total loss: 37.0238, pred loss: 36.9882, reg_loss: 35.5890, val loss: nan\n",
      "Epoch 2 total loss: 30.4496, pred loss: 30.4099, reg_loss: 39.7576, val loss: nan\n",
      "Epoch 3 total loss: 28.5626, pred loss: 28.5236, reg_loss: 39.0326, val loss: nan\n",
      "Epoch 4 total loss: 26.8609, pred loss: 26.8195, reg_loss: 41.3449, val loss: nan\n",
      "Epoch 5 total loss: 25.7375, pred loss: 25.6930, reg_loss: 44.5299, val loss: nan\n",
      "Epoch 6 total loss: 25.2514, pred loss: 25.1778, reg_loss: 73.6590, val loss: nan\n",
      "Epoch 7 total loss: 25.1462, pred loss: 25.0709, reg_loss: 75.3208, val loss: nan\n",
      "Epoch 8 total loss: 25.1283, pred loss: 25.0542, reg_loss: 74.0245, val loss: nan\n",
      "Epoch 9 total loss: 25.1189, pred loss: 25.0447, reg_loss: 74.1748, val loss: nan\n",
      "Epoch 10 total loss: 25.1099, pred loss: 25.0406, reg_loss: 69.3078, val loss: nan\n",
      "CPU times: user 18min 48s, sys: 6.25 s, total: 18min 54s\n",
      "Wall time: 18min 59s\n"
     ]
    }
   ],
   "source": [
    "%%time\n",
    "\n",
    "_error_fn = _rmse\n",
    "error_fn_name = \"rmse\"\n",
    "\n",
    "(\n",
    "    train_loss_out,\n",
    "    pred_loss_out,\n",
    "    reg_loss_out,\n",
    "    val_loss_out,\n",
    "    theta,\n",
    ") = train_and_store(\n",
    "    subset_name=subset_name,\n",
    "    obs_name=obs_name,\n",
    "    _error_fn=_error_fn,\n",
    "    error_fn_name=error_fn_name,\n",
    "    initial_theta=initial_params,\n",
    "    params_lower=params_lower,\n",
    "    params_upper=params_upper,\n",
    "    param_names=param_names,\n",
    "    n_epochs_max = 10\n",
    ")"
   ]
  },
  {
   "cell_type": "markdown",
   "id": "542b5e6a-20f6-48a8-a30d-e5cf276e96e5",
   "metadata": {},
   "source": [
    "### VIC"
   ]
  },
  {
   "cell_type": "code",
   "execution_count": 4,
   "id": "b0f0ed14-c18f-47ab-956a-d572f326aa1e",
   "metadata": {},
   "outputs": [],
   "source": [
    "subset_name = \"CONUS\""
   ]
  },
  {
   "cell_type": "code",
   "execution_count": 5,
   "id": "0d0bbe02-94db-4487-a0fb-89f842c06e60",
   "metadata": {},
   "outputs": [],
   "source": [
    "obs_name = \"VIC\"\n",
    "\n",
    "# # Get dimensions\n",
    "# ys, _, _, _ = read_inputs(subset_name, obs_name, True)\n",
    "# Nspace = ys.shape[0]\n",
    "# Ntime = ys.shape[1]\n",
    "\n",
    "# # Get validation indices\n",
    "# val_frac = 0.2\n",
    "# val_inds_all = np.array_split(np.random.permutation(Nspace), 1/val_frac)"
   ]
  },
  {
   "cell_type": "code",
   "execution_count": 6,
   "id": "5c6aace8-3978-4774-adf9-0aedaa3a9928",
   "metadata": {},
   "outputs": [
    {
     "name": "stdout",
     "output_type": "stream",
     "text": [
      "Epoch 0 train loss: 43.2285 pred loss: 43.2285, reg_loss: 0.0000, val loss: nan\n",
      "Epoch 1 total loss: 31.2653, pred loss: 31.2455, reg_loss: 19.7406, val loss: nan\n",
      "Epoch 2 total loss: 28.5166, pred loss: 28.4924, reg_loss: 24.2528, val loss: nan\n",
      "Epoch 3 total loss: 27.4719, pred loss: 27.4466, reg_loss: 25.2189, val loss: nan\n",
      "Epoch 4 total loss: 26.7883, pred loss: 26.7634, reg_loss: 24.9428, val loss: nan\n",
      "Epoch 5 total loss: 26.4324, pred loss: 26.4068, reg_loss: 25.5514, val loss: nan\n",
      "Epoch 6 total loss: 26.3011, pred loss: 26.2723, reg_loss: 28.7572, val loss: nan\n",
      "Epoch 7 total loss: 26.2459, pred loss: 26.2111, reg_loss: 34.8074, val loss: nan\n",
      "Epoch 8 total loss: 26.2234, pred loss: 26.1878, reg_loss: 35.5653, val loss: nan\n",
      "Epoch 9 total loss: 26.1747, pred loss: 26.1417, reg_loss: 33.0146, val loss: nan\n",
      "Epoch 10 total loss: 26.1460, pred loss: 26.1147, reg_loss: 31.2960, val loss: nan\n",
      "CPU times: user 20min 11s, sys: 6.57 s, total: 20min 17s\n",
      "Wall time: 20min 27s\n"
     ]
    }
   ],
   "source": [
    "%%time\n",
    "\n",
    "_error_fn = _rmse\n",
    "error_fn_name = \"rmse\"\n",
    "\n",
    "(\n",
    "    train_loss_out,\n",
    "    pred_loss_out,\n",
    "    reg_loss_out,\n",
    "    val_loss_out,\n",
    "    theta,\n",
    ") = train_and_store(\n",
    "    subset_name=subset_name,\n",
    "    obs_name=obs_name,\n",
    "    _error_fn=_error_fn,\n",
    "    error_fn_name=error_fn_name,\n",
    "    initial_theta=initial_params,\n",
    "    params_lower=params_lower,\n",
    "    params_upper=params_upper,\n",
    "    param_names=param_names,\n",
    "    n_epochs_max = 10\n",
    ")"
   ]
  },
  {
   "cell_type": "markdown",
   "id": "c587c0bb-3711-4714-92f8-1056713d1e4c",
   "metadata": {},
   "source": [
    "### NOAH"
   ]
  },
  {
   "cell_type": "code",
   "execution_count": 12,
   "id": "7fdd9e5c-5298-4270-b030-424f6fe390ec",
   "metadata": {},
   "outputs": [],
   "source": [
    "obs_name = \"NOAH\"\n",
    "\n",
    "# # Get dimensions\n",
    "# ys, _, _, _ = read_inputs(subset_name, obs_name, True)\n",
    "# Nspace = ys.shape[0]\n",
    "# Ntime = ys.shape[1]\n",
    "\n",
    "# # Get validation indices\n",
    "# val_frac = 0.2\n",
    "# val_inds_all = np.array_split(np.random.permutation(Nspace), 1/val_frac)"
   ]
  },
  {
   "cell_type": "code",
   "execution_count": 13,
   "id": "20bbcdf6-29ce-42fb-b378-135702133b4e",
   "metadata": {},
   "outputs": [
    {
     "name": "stdout",
     "output_type": "stream",
     "text": [
      "Epoch 0 train loss: 57.7611 pred loss: 57.7611, reg_loss: 0.0000, val loss: nan\n",
      "Epoch 1 total loss: 42.8357, pred loss: 42.8026, reg_loss: 33.0917, val loss: nan\n",
      "Epoch 2 total loss: 38.4613, pred loss: 38.4211, reg_loss: 40.2449, val loss: nan\n",
      "Epoch 3 total loss: 37.5037, pred loss: 37.4652, reg_loss: 38.4609, val loss: nan\n",
      "Epoch 4 total loss: 37.0446, pred loss: 37.0048, reg_loss: 39.8278, val loss: nan\n",
      "Epoch 5 total loss: 36.8838, pred loss: 36.8361, reg_loss: 47.6472, val loss: nan\n",
      "Epoch 6 total loss: 36.8323, pred loss: 36.7863, reg_loss: 46.0656, val loss: nan\n",
      "Epoch 7 total loss: 36.8175, pred loss: 36.7704, reg_loss: 47.1084, val loss: nan\n",
      "Epoch 8 total loss: 36.8152, pred loss: 36.7659, reg_loss: 49.3062, val loss: nan\n",
      "Epoch 9 total loss: 36.8129, pred loss: 36.7595, reg_loss: 53.3739, val loss: nan\n",
      "Epoch 10 total loss: 36.8129, pred loss: 36.7631, reg_loss: 49.8330, val loss: nan\n",
      "CPU times: user 19min 29s, sys: 7.89 s, total: 19min 37s\n",
      "Wall time: 19min 53s\n"
     ]
    }
   ],
   "source": [
    "%%time\n",
    "\n",
    "_error_fn = _rmse\n",
    "error_fn_name = \"rmse\"\n",
    "\n",
    "(\n",
    "    train_loss_out,\n",
    "    pred_loss_out,\n",
    "    reg_loss_out,\n",
    "    val_loss_out,\n",
    "    theta,\n",
    ") = train_and_store(\n",
    "    subset_name=subset_name,\n",
    "    obs_name=obs_name,\n",
    "    _error_fn=_error_fn,\n",
    "    error_fn_name=error_fn_name,\n",
    "    initial_theta=initial_params,\n",
    "    params_lower=params_lower,\n",
    "    params_upper=params_upper,\n",
    "    param_names=param_names,\n",
    "    n_epochs_max = 10\n",
    ")"
   ]
  },
  {
   "cell_type": "markdown",
   "id": "54aaef35-b239-4aba-8409-782f3e4936bb",
   "metadata": {},
   "source": [
    "### MOSAIC"
   ]
  },
  {
   "cell_type": "code",
   "execution_count": 14,
   "id": "a120287e-0c06-43f0-ada2-ff5a86f3a351",
   "metadata": {},
   "outputs": [],
   "source": [
    "obs_name = \"MOSAIC\"\n",
    "\n",
    "# # Get dimensions\n",
    "# ys, _, _, _ = read_inputs(subset_name, obs_name, True)\n",
    "# Nspace = ys.shape[0]\n",
    "# Ntime = ys.shape[1]\n",
    "\n",
    "# # Get validation indices\n",
    "# val_frac = 0.2\n",
    "# val_inds_all = np.array_split(np.random.permutation(Nspace), 1/val_frac)"
   ]
  },
  {
   "cell_type": "code",
   "execution_count": 15,
   "id": "86d5f6a4-73f1-4541-90ae-829ebf66bed4",
   "metadata": {},
   "outputs": [
    {
     "name": "stdout",
     "output_type": "stream",
     "text": [
      "Epoch 0 train loss: 43.0931 pred loss: 43.0931, reg_loss: 0.0000, val loss: nan\n",
      "Epoch 1 total loss: 39.6757, pred loss: 39.6027, reg_loss: 73.0110, val loss: nan\n",
      "Epoch 2 total loss: 38.8521, pred loss: 38.7778, reg_loss: 74.3228, val loss: nan\n",
      "Epoch 3 total loss: 38.0258, pred loss: 37.9529, reg_loss: 72.9220, val loss: nan\n",
      "Epoch 4 total loss: 36.9927, pred loss: 36.9277, reg_loss: 65.0387, val loss: nan\n",
      "Epoch 5 total loss: 35.8053, pred loss: 35.7488, reg_loss: 56.5669, val loss: nan\n",
      "Epoch 6 total loss: 34.8588, pred loss: 34.7524, reg_loss: 106.4587, val loss: nan\n",
      "Epoch 7 total loss: 34.4979, pred loss: 34.3991, reg_loss: 98.8139, val loss: nan\n",
      "Epoch 8 total loss: 34.4250, pred loss: 34.3239, reg_loss: 101.1077, val loss: nan\n",
      "Epoch 9 total loss: 34.3971, pred loss: 34.3001, reg_loss: 96.9636, val loss: nan\n",
      "Epoch 10 total loss: 34.3896, pred loss: 34.2926, reg_loss: 97.0100, val loss: nan\n",
      "CPU times: user 19min 37s, sys: 11.1 s, total: 19min 48s\n",
      "Wall time: 24min 57s\n"
     ]
    }
   ],
   "source": [
    "%%time\n",
    "\n",
    "_error_fn = _rmse\n",
    "error_fn_name = \"rmse\"\n",
    "\n",
    "(\n",
    "    train_loss_out,\n",
    "    pred_loss_out,\n",
    "    reg_loss_out,\n",
    "    val_loss_out,\n",
    "    theta,\n",
    ") = train_and_store(\n",
    "    subset_name=subset_name,\n",
    "    obs_name=obs_name,\n",
    "    _error_fn=_error_fn,\n",
    "    error_fn_name=error_fn_name,\n",
    "    initial_theta=initial_params,\n",
    "    params_lower=params_lower,\n",
    "    params_upper=params_upper,\n",
    "    param_names=param_names,\n",
    "    n_epochs_max = 10\n",
    ")"
   ]
  },
  {
   "cell_type": "code",
   "execution_count": null,
   "id": "06992e70-15d8-4907-8618-1a35c11a7aa5",
   "metadata": {},
   "outputs": [],
   "source": []
  },
  {
   "cell_type": "code",
   "execution_count": 24,
   "id": "58ccef39-b939-40ad-b694-0cd667d7a9da",
   "metadata": {},
   "outputs": [
    {
     "name": "stdout",
     "output_type": "stream",
     "text": [
      "CPU times: user 6min 41s, sys: 27.7 s, total: 7min 8s\n",
      "Wall time: 51min 12s\n"
     ]
    }
   ],
   "source": [
    "%%time\n",
    "# Parallelize with dask delayed\n",
    "delayed = []\n",
    "\n",
    "for _error_fn, error_fn_name in zip(_error_fns, error_fn_names):\n",
    "    for _ in range(10):\n",
    "        for val_inds in val_inds_all:\n",
    "            # Hyperparameter adjustments to improve stability\n",
    "            if error_fn_name == \"kge\":\n",
    "                reg_const = 0.001\n",
    "            else:\n",
    "                reg_const = 0.01\n",
    "\n",
    "            if error_fn_name == \"mse\":\n",
    "                learning_rate = 1e-4\n",
    "            else:\n",
    "                learning_rate = 1e-3\n",
    "\n",
    "            # Append delayed\n",
    "            delayed.append(\n",
    "                dask.delayed(train_and_store)(\n",
    "                    subset_name = subset_name,\n",
    "                    obs_name = obs_name,\n",
    "                    _error_fn = _error_fn,\n",
    "                    error_fn_name = error_fn_name,\n",
    "                    initial_theta = initial_params,\n",
    "                    params_lower = params_lower,\n",
    "                    params_upper = params_upper,\n",
    "                    param_names = param_names\n",
    "                    val_inds = val_inds,\n",
    "                    reg_const = reg_const,\n",
    "                    learning_rate = learning_rate\n",
    "                )\n",
    "            )\n",
    "\n",
    "# Compute\n",
    "_ = dask.compute(*delayed)"
   ]
  },
  {
   "cell_type": "code",
   "execution_count": null,
   "id": "c872df4b-4415-4b2d-a666-2b98dd230e6f",
   "metadata": {},
   "outputs": [],
   "source": []
  },
  {
   "cell_type": "code",
   "execution_count": null,
   "id": "137beaed-9ad8-4da4-bade-d02819c31ecf",
   "metadata": {},
   "outputs": [],
   "source": []
  }
 ],
 "metadata": {
  "kernelspec": {
   "display_name": "Python 3 (ipykernel)",
   "language": "python",
   "name": "python3"
  },
  "language_info": {
   "codemirror_mode": {
    "name": "ipython",
    "version": 3
   },
   "file_extension": ".py",
   "mimetype": "text/x-python",
   "name": "python",
   "nbconvert_exporter": "python",
   "pygments_lexer": "ipython3",
   "version": "3.11.7"
  }
 },
 "nbformat": 4,
 "nbformat_minor": 5
}
