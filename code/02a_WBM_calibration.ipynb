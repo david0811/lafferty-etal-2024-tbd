{
 "cells": [
  {
   "cell_type": "code",
   "execution_count": 1,
   "id": "4b807ff2-a898-416d-9ed5-06e33c4fb05e",
   "metadata": {},
   "outputs": [],
   "source": [
    "# from jax import config\n",
    "# config.update(\"jax_enable_x64\", True)"
   ]
  },
  {
   "cell_type": "code",
   "execution_count": 1,
   "id": "4a8f3e78-65f5-401a-9b44-8463725e04fd",
   "metadata": {},
   "outputs": [],
   "source": [
    "from jax import config\n",
    "config.update(\"jax_debug_nans\", False)"
   ]
  },
  {
   "cell_type": "code",
   "execution_count": 2,
   "id": "58728ec0-f35e-4ff7-aeb9-8cfa3bfead9d",
   "metadata": {},
   "outputs": [],
   "source": [
    "import os \n",
    "from datetime import datetime\n",
    "\n",
    "import numpy as np\n",
    "import jax.numpy as jnp\n",
    "import jax\n",
    "import optax\n",
    "\n",
    "import dask\n",
    "\n",
    "import matplotlib.pyplot as plt\n",
    "\n",
    "from water_balance_jax import wbm_jax, construct_Kpet_vec\n",
    "from initial_params import initial_params_main, initial_params_vic, constants\n",
    "from param_bounds import params_main_lower, params_main_upper, params_vic_lower, params_vic_upper\n",
    "from read_inputs import read_inputs\n",
    "from param_names import param_names_main, param_names_vic\n",
    "from prediction import make_prediction_main, make_prediction_vic\n",
    "from global_paths import project_data_path"
   ]
  },
  {
   "cell_type": "code",
   "execution_count": 3,
   "id": "6769dfcf-a99d-4528-8378-f9f7398fb65f",
   "metadata": {},
   "outputs": [],
   "source": [
    "# ############\n",
    "# ### Dask ###\n",
    "# ############\n",
    "# from dask_jobqueue import SLURMCluster\n",
    "\n",
    "# cluster = SLURMCluster(\n",
    "#     # account=\"pches\",\n",
    "#     account=\"open\",\n",
    "#     cores=1,\n",
    "#     memory=\"5GiB\",\n",
    "#     walltime=\"01:00:00\"\n",
    "# )\n",
    "# cluster.scale(jobs=30)  # ask for jobs\n",
    "\n",
    "# from dask.distributed import Client\n",
    "# client = Client(cluster)\n",
    "# client"
   ]
  },
  {
   "cell_type": "markdown",
   "id": "910a624d-541f-4495-b2dc-17d804a8b3c0",
   "metadata": {},
   "source": [
    "### Preliminaries"
   ]
  },
  {
   "cell_type": "code",
   "execution_count": 4,
   "id": "90258cb5-f985-468b-8ca7-89e434f3f588",
   "metadata": {},
   "outputs": [],
   "source": [
    "def train_and_store(subset_name,\n",
    "                    obs_name,\n",
    "                    _error_fn,\n",
    "                    error_fn_name,\n",
    "                    initial_theta,\n",
    "                    params_lower,\n",
    "                    params_upper,\n",
    "                    param_names,\n",
    "                    n_epochs = 30,\n",
    "                    batch_size = 2**5,\n",
    "                    opt = 'adam',\n",
    "                    learning_rate = 1e-3,\n",
    "                    val_inds = [],\n",
    "                    reg_const = 0.001):\n",
    "    #############################################\n",
    "    # Loss function with correct error metric\n",
    "    ############################################\n",
    "    # Prediction loss\n",
    "    def prediction_loss_vic(theta, constants, x_forcing_nt, x_forcing_nyrs, x_maps, ys):\n",
    "        prediction = make_prediction_vic(theta, constants, x_forcing_nt, x_forcing_nyrs, x_maps)\n",
    "        return _error_fn(prediction, ys)\n",
    "    \n",
    "    def prediction_loss_main(theta, constants, x_forcing_nt, x_forcing_nyrs, x_maps, ys):\n",
    "        prediction = make_prediction_main(theta, constants, x_forcing_nt, x_forcing_nyrs, x_maps)\n",
    "        return _error_fn(prediction, ys)\n",
    "\n",
    "    if obs_name == \"VIC\":\n",
    "        prediction_loss = prediction_loss_vic\n",
    "        initial_params = initial_params_vic\n",
    "    else:\n",
    "        prediction_loss = prediction_loss_main\n",
    "        initial_params = initial_params_main\n",
    "    \n",
    "    # Regularization loss\n",
    "    def reg_loss(theta, initial_params, params_lower, params_upper):\n",
    "        return jnp.nansum((theta - initial_params)**2 / ((theta - params_lower) * (params_upper - theta)))\n",
    "    \n",
    "    # Total loss\n",
    "    def loss_fn(theta, reg_const, initial_params, params_lower, params_upper, constants,\n",
    "                x_forcing_nt, x_forcing_nyrs, x_maps, ys):\n",
    "        return prediction_loss(theta, constants, x_forcing_nt, x_forcing_nyrs, x_maps, ys) + \\\n",
    "                reg_const * reg_loss(theta, initial_params, params_lower, params_upper)\n",
    "    \n",
    "    # jit and vmap it\n",
    "    pred_loss_value = jax.jit(jax.vmap(prediction_loss, in_axes=(None, None, 0, 0, 0, 0), out_axes=0))\n",
    "    loss_value_and_grad = jax.jit(jax.vmap(jax.value_and_grad(loss_fn), in_axes=(None, None, None, None, None, None, 0, 0, 0, 0), out_axes=0))\n",
    "\n",
    "    ###########################\n",
    "    # Setup\n",
    "    ###########################\n",
    "    # Params\n",
    "    if obs_name == \"VIC\":\n",
    "        param_names = param_names_vic\n",
    "    else:\n",
    "        param_names = param_names_main\n",
    "        \n",
    "    # Read data\n",
    "    ys, x_forcing_nt, x_forcing_nyrs, x_maps = read_inputs(subset_name, obs_name, True)\n",
    "    N = ys.shape[0]\n",
    "    \n",
    "    # Get train/val split over space\n",
    "    if len(val_inds) > 0:\n",
    "        ys_val, x_forcing_nt_val, x_forcing_nyrs_val, x_maps_val = ys[val_inds], x_forcing_nt[val_inds], x_forcing_nyrs[val_inds], x_maps[val_inds]\n",
    "        train_inds = np.array([n for n in np.arange(N) if n not in val_inds])\n",
    "        ys_train, x_forcing_nt_train, x_forcing_nyrs_train, x_maps_train = ys[train_inds], x_forcing_nt[train_inds], x_forcing_nyrs[train_inds], x_maps[train_inds]\n",
    "    else:\n",
    "        ys_train, x_forcing_nt_train, x_forcing_nyrs_train, x_maps_train = ys, x_forcing_nt, x_forcing_nyrs, x_maps\n",
    "    \n",
    "    # Define mini-batch hyper-parameters\n",
    "    N_train = ys_train.shape[0]\n",
    "    n_minibatches = int(np.ceil(N_train / batch_size))\n",
    "\n",
    "    # Initial parameters\n",
    "    theta = initial_theta\n",
    "\n",
    "    # Optimizer\n",
    "    if opt == 'adam':\n",
    "        adam = optax.adam(learning_rate=learning_rate)\n",
    "        opt_fn = adam.update\n",
    "        opt_state = adam.init(theta)\n",
    "    elif opt == 'sgd':\n",
    "        learning_rate = 1e-5\n",
    "        opt_state = None\n",
    "        def sgd(gradients, state):\n",
    "            return -learning_rate * gradients, state\n",
    "        opt_fn = sgd\n",
    "\n",
    "    # Loss\n",
    "    train_loss_out = np.empty(n_epochs + 1)\n",
    "    pred_loss_out = np.empty(n_epochs + 1)\n",
    "    reg_loss_out = np.empty(n_epochs + 1)\n",
    "    val_loss_out = np.empty(n_epochs + 1)\n",
    "\n",
    "    #####################\n",
    "    # Initial results\n",
    "    #####################\n",
    "    \n",
    "    # Where to store results\n",
    "    datetime_str = datetime.now().strftime('%Y%m%d-%H%M')\n",
    "    random_str = str(abs(theta[0])).replace('.','')[:5] # used to discern different starting values\n",
    "    training_name = f\"{error_fn_name}_{str(n_epochs)}epochs_{str(batch_size)}batchsize_{str(reg_const)}reg_{random_str}r\"\n",
    "    if len(val_inds) > 0:\n",
    "        training_name += f\"_{str(val_inds[0])}val\"\n",
    "\n",
    "    out_file_path = f\"{project_data_path}/WBM/calibration/{subset_name}/{obs_name}/training_res/{training_name}.txt\"\n",
    "    f = open(out_file_path, \"w\")\n",
    "    f.write(f\"epoch metric train_loss pred_loss reg_loss val_loss {' '.join(param_names)}\\n\")\n",
    "    \n",
    "    pred_loss_init = jnp.mean(pred_loss_value(theta,\n",
    "                                              constants,\n",
    "                                              x_forcing_nt_train,\n",
    "                                              x_forcing_nyrs_train,\n",
    "                                              x_maps_train,\n",
    "                                              ys_train))\n",
    "    if len(val_inds) > 0:\n",
    "        val_loss_init = jnp.mean(pred_loss_value(theta,\n",
    "                                                 constants,\n",
    "                                                 x_forcing_nt_val,\n",
    "                                                 x_forcing_nyrs_val,\n",
    "                                                 x_maps_val,\n",
    "                                                 ys_val))\n",
    "    else:\n",
    "        val_loss_init = np.nan\n",
    "        \n",
    "    reg_loss_init = reg_loss(theta, initial_params, params_lower, params_upper)\n",
    "    train_loss_init = pred_loss_init + (reg_const * reg_loss_init)\n",
    "    \n",
    "    print(f\"Epoch 0 train loss: {train_loss_init:.4f} pred loss: {pred_loss_init:.4f}, reg_loss: {reg_loss_init:.4f}, val loss: {val_loss_init:.4f}\")\n",
    "    theta_str = [str(param) for param in theta]\n",
    "    f.write(f\"0 {error_fn_name} {train_loss_init:.4f} {pred_loss_init:.4f} {reg_loss_init:.4f} {val_loss_init:.4f} {' '.join(theta_str)}\\n\")\n",
    "    \n",
    "    ###########################\n",
    "    # Training loop\n",
    "    ###########################\n",
    "    invalid_theta_count = 0 \n",
    "    \n",
    "    for epoch in range(n_epochs + 1):\n",
    "        # Shuffle indices\n",
    "        shuffled_inds = np.random.permutation(N_train)\n",
    "    \n",
    "        # Generate a mini-batch\n",
    "        minibatch_inds = [shuffled_inds[(i*batch_size):((i + 1)*batch_size)] for i in range(n_minibatches)]\n",
    "\n",
    "        # For batch loss\n",
    "        batch_loss = [None] * n_minibatches\n",
    "\n",
    "        for idx, inds in enumerate(minibatch_inds):\n",
    "            # Calculate gradient of loss function, update parameters\n",
    "            loss, grads = loss_value_and_grad(theta, reg_const, initial_params, params_lower, params_upper, constants,\n",
    "                                              x_forcing_nt_train[inds],\n",
    "                                              x_forcing_nyrs_train[inds],\n",
    "                                              x_maps_train[inds],\n",
    "                                              ys_train[inds])\n",
    "            updates, opt_state = opt_fn(jnp.nanmean(grads, axis=0), opt_state)\n",
    "            theta = optax.apply_updates(theta, updates)\n",
    "            batch_loss[idx] = loss\n",
    "            # Break if theta steps outside bounds\n",
    "            if (theta < params_lower).any() or (theta > params_upper).any():\n",
    "                print('Found invalid parameter... re-initializaing')\n",
    "                invalid_theta_count += 1\n",
    "                if invalid_theta_count > 5:\n",
    "                    f.close()\n",
    "                    # os.remove(out_file_path)\n",
    "                    return train_loss_out, pred_loss_out, reg_loss_out, val_loss_out, theta\n",
    "                else:\n",
    "                    theta = np.random.uniform(low=params_lower, high=params_upper)\n",
    "            # Break if theta goes to NaN\n",
    "            if jnp.isnan(theta).any():\n",
    "                f.close()\n",
    "                return train_loss_out, pred_loss_out, reg_loss_out, val_loss_out, theta\n",
    "\n",
    "        # Save all losses\n",
    "        train_loss_out[epoch] = jnp.nanmean(jnp.array([item for row in batch_loss for item in row]))\n",
    "        reg_loss_out[epoch] = reg_loss(theta, initial_params, params_lower, params_upper)\n",
    "        pred_loss_out[epoch] = train_loss_out[epoch] - (reg_const * reg_loss_out[epoch])\n",
    "        if len(val_inds) > 0:\n",
    "            val_loss_out[epoch] = jnp.mean(pred_loss_value(theta,\n",
    "                                                          constants,\n",
    "                                                          x_forcing_nt_val,\n",
    "                                                          x_forcing_nyrs_val,\n",
    "                                                          x_maps_val,\n",
    "                                                          ys_val))\n",
    "        else:\n",
    "            val_loss_out[epoch] = jnp.nan\n",
    "        \n",
    "        # Write every epoch\n",
    "        theta_str = [str(param) for param in theta]\n",
    "        f.write(f\"{str(epoch + 1)} {error_fn_name} {train_loss_out[epoch]:.4f} {pred_loss_out[epoch]:.4f} {reg_loss_out[epoch]:.4f} {val_loss_out[epoch]:.4f} {' '.join(theta_str)}\\n\")\n",
    "        # Print every 5\n",
    "        # if (epoch + 1) % 1 == 0:\n",
    "        if True:\n",
    "            print(f\"Epoch {str(epoch + 1)} total loss: {train_loss_out[epoch]:.4f}, pred loss: {pred_loss_out[epoch]:.4f}, reg_loss: {reg_loss_out[epoch]:.4f}, val loss: {val_loss_out[epoch]:.4f}\")\n",
    "\n",
    "    f.close()\n",
    "    return train_loss_out, pred_loss_out, reg_loss_out, val_loss_out, theta"
   ]
  },
  {
   "cell_type": "markdown",
   "id": "7849bfd0-5f4e-4402-8408-9fbc4cce6f0a",
   "metadata": {},
   "source": [
    "# Fitting"
   ]
  },
  {
   "cell_type": "code",
   "execution_count": 5,
   "id": "bbbfca15-2fec-4ca2-883d-75d8efc90cf4",
   "metadata": {},
   "outputs": [],
   "source": [
    "# Length of timeseries needed for quantile RMSE\n",
    "N = 2555\n",
    "\n",
    "# Define all error functions\n",
    "# RMSE\n",
    "_rmse = lambda prediction, ys: jnp.sqrt(jnp.nanmean((prediction-ys)**2))\n",
    "\n",
    "# MSE\n",
    "_mse = lambda prediction, ys: jnp.nanmean((prediction-ys)**2)\n",
    "\n",
    "# KGE\n",
    "def _kge(prediction, ys):\n",
    "    corr = jnp.nanmean((prediction - jnp.nanmean(prediction))*(ys - jnp.nanmean(ys))) / (jnp.nanstd(prediction) * jnp.nanstd(ys))\n",
    "    mean_ratio = jnp.nanmean(prediction) / jnp.nanmean(ys)\n",
    "    std_ratio = jnp.nanstd(prediction) / jnp.nanstd(ys)\n",
    "    kge = 1 - jnp.sqrt((corr - 1)**2 + (mean_ratio - 1)**2 + (std_ratio - 1)**2)\n",
    "    return -kge \n",
    "\n",
    "# q0-25 RMSE\n",
    "qmax = 0.25\n",
    "size = round(N * qmax)\n",
    "def _q25rmse(prediction, ys):\n",
    "    thresh = jnp.quantile(ys, qmax)\n",
    "    inds = jnp.where(ys <= thresh, size=size)\n",
    "    prediction_q = prediction[inds]\n",
    "    ys_q = ys[inds]\n",
    "    return jnp.sqrt(jnp.nanmean((prediction_q - ys_q)**2))\n",
    "\n",
    "# q75-100 RMSE\n",
    "qmin = 0.75\n",
    "size = round(N * qmin)\n",
    "def _q75rmse(prediction, ys):\n",
    "    thresh = jnp.quantile(ys, qmin)\n",
    "    inds = jnp.where(ys >= thresh, size=size)\n",
    "    prediction_q = prediction[inds]\n",
    "    ys_q = ys[inds]\n",
    "    return jnp.sqrt(jnp.nanmean((prediction_q - ys_q)**2))\n",
    "\n",
    "_error_fns = [_rmse, _mse, _kge, _q25rmse, _q75rmse]\n",
    "error_fn_names = ['rmse', 'mse', 'kge', 'q0-25rmse', 'q75-100rmse']"
   ]
  },
  {
   "cell_type": "markdown",
   "id": "8f6b1fa7-3652-440f-8492-55709c1fa423",
   "metadata": {
    "jp-MarkdownHeadingCollapsed": true
   },
   "source": [
    "## Midwest"
   ]
  },
  {
   "cell_type": "code",
   "execution_count": 7,
   "id": "d9a8acd5-92be-4241-8215-a1d4b4938478",
   "metadata": {},
   "outputs": [],
   "source": [
    "subset_name = 'midwest'"
   ]
  },
  {
   "cell_type": "markdown",
   "id": "dcf4c13f-ddad-4a43-92da-89251a18bb6d",
   "metadata": {
    "jp-MarkdownHeadingCollapsed": true
   },
   "source": [
    "### SMAP"
   ]
  },
  {
   "cell_type": "code",
   "execution_count": 6,
   "id": "dd0ff673-990e-4579-bb27-8d62e78e77c8",
   "metadata": {},
   "outputs": [],
   "source": [
    "obs_name = 'SMAP'\n",
    "\n",
    "# # Get dimensions\n",
    "# ys, _, _, _ = read_inputs(subset_name, obs_name, True)\n",
    "# Nspace = ys.shape[0]\n",
    "# Ntime = ys.shape[1]\n",
    "\n",
    "# # Get validation indices\n",
    "# val_frac = 0.2\n",
    "# val_inds_all = np.array_split(np.random.permutation(Nspace), 1/val_frac)"
   ]
  },
  {
   "cell_type": "code",
   "execution_count": 7,
   "id": "eac00a61-d826-459c-924a-9b0908337c19",
   "metadata": {},
   "outputs": [
    {
     "name": "stdout",
     "output_type": "stream",
     "text": [
      "Epoch 0 train loss: 93.0160 pred loss: 93.0160, reg_loss: 0.0000, val loss: nan\n",
      "Epoch 1 total loss: 54.6798, pred loss: 54.6290, reg_loss: 50.8152, val loss: nan\n",
      "Epoch 2 total loss: 40.3760, pred loss: 40.3110, reg_loss: 64.9349, val loss: nan\n",
      "Epoch 3 total loss: 36.2545, pred loss: 36.1965, reg_loss: 58.0103, val loss: nan\n",
      "Epoch 4 total loss: 34.0791, pred loss: 34.0172, reg_loss: 61.8641, val loss: nan\n",
      "Epoch 5 total loss: 32.9134, pred loss: 32.8491, reg_loss: 64.3914, val loss: nan\n",
      "Epoch 6 total loss: 32.0094, pred loss: 31.9451, reg_loss: 64.3426, val loss: nan\n",
      "Epoch 7 total loss: 31.1335, pred loss: 31.0689, reg_loss: 64.5856, val loss: nan\n",
      "Epoch 8 total loss: 30.2980, pred loss: 30.2294, reg_loss: 68.5667, val loss: nan\n",
      "Epoch 9 total loss: 29.5512, pred loss: 29.4844, reg_loss: 66.7857, val loss: nan\n",
      "Epoch 10 total loss: 28.9357, pred loss: 28.8691, reg_loss: 66.5667, val loss: nan\n",
      "Epoch 11 total loss: 28.4394, pred loss: 28.3659, reg_loss: 73.4569, val loss: nan\n",
      "CPU times: user 5min 58s, sys: 4 s, total: 6min 2s\n",
      "Wall time: 6min 57s\n"
     ]
    }
   ],
   "source": [
    "%%time\n",
    "_error_fn = _rmse\n",
    "error_fn_name = 'rmse'\n",
    "\n",
    "train_loss_out, pred_loss_out, reg_loss_out, val_loss_out, theta = train_and_store(subset_name = subset_name,\n",
    "                                                                                   obs_name = obs_name,\n",
    "                                                                                   _error_fn = _error_fn,\n",
    "                                                                                   error_fn_name = error_fn_name,\n",
    "                                                                                   initial_params = initial_params_main,\n",
    "                                                                                   params_lower = params_main_lower,\n",
    "                                                                                   params_upper = params_main_upper,\n",
    "                                                                                   param_names = param_names_main,\n",
    "                                                                                   n_epochs = 10)"
   ]
  },
  {
   "cell_type": "code",
   "execution_count": 23,
   "id": "b9601709-2ef5-4485-ae27-6c5e211c7faa",
   "metadata": {},
   "outputs": [
    {
     "name": "stdout",
     "output_type": "stream",
     "text": [
      "Epoch 0 train loss: 119.9899 pred loss: 119.9899, reg_loss: 0.0000, val loss: nan\n",
      "Found invalid parameter... re-initializaing\n",
      "Found invalid parameter... re-initializaing\n",
      "Found invalid parameter... re-initializaing\n",
      "Found invalid parameter... re-initializaing\n",
      "Epoch 1 total loss: 381.7530, pred loss: 381.6619, reg_loss: 91.0829, val loss: nan\n",
      "Found invalid parameter... re-initializaing\n",
      "Found invalid parameter... re-initializaing\n",
      "CPU times: user 1min 18s, sys: 2.35 s, total: 1min 20s\n",
      "Wall time: 1min 21s\n"
     ]
    }
   ],
   "source": [
    "%%time\n",
    "_error_fn = _rmse\n",
    "error_fn_name = 'rmse'\n",
    "\n",
    "initial_params = np.random.uniform(params_main_lower, params_main_upper)\n",
    "\n",
    "train_loss_out, pred_loss_out, reg_loss_out, val_loss_out, theta = train_and_store(subset_name = subset_name,\n",
    "                                                                                   obs_name = obs_name,\n",
    "                                                                                   _error_fn = _error_fn,\n",
    "                                                                                   error_fn_name = error_fn_name,\n",
    "                                                                                   initial_params = initial_params,\n",
    "                                                                                   params_lower = params_main_lower,\n",
    "                                                                                   params_upper = params_main_upper,\n",
    "                                                                                   param_names = param_names_main,\n",
    "                                                                                   n_epochs = 10)"
   ]
  },
  {
   "cell_type": "markdown",
   "id": "826be2b1-4259-45d5-8083-6bb2741e070f",
   "metadata": {
    "jp-MarkdownHeadingCollapsed": true
   },
   "source": [
    "### MOSAIC"
   ]
  },
  {
   "cell_type": "code",
   "execution_count": 25,
   "id": "57ba130c-b6c0-44ce-88ab-f88f6bcc44f7",
   "metadata": {},
   "outputs": [],
   "source": [
    "obs_name = 'MOSAIC'\n",
    "\n",
    "# # Get dimensions\n",
    "# ys, _, _, _ = read_inputs(subset_name, obs_name, True)\n",
    "# Nspace = ys.shape[0]\n",
    "# Ntime = ys.shape[1]\n",
    "\n",
    "# # Get validation indices\n",
    "# val_frac = 0.2\n",
    "# val_inds_all = np.array_split(np.random.permutation(Nspace), 1/val_frac)"
   ]
  },
  {
   "cell_type": "code",
   "execution_count": 26,
   "id": "237bbd4d-0d5d-4aad-8c4f-54c89af2baad",
   "metadata": {},
   "outputs": [
    {
     "name": "stdout",
     "output_type": "stream",
     "text": [
      "Epoch 0 train loss: 46.5374 pred loss: 46.5374, reg_loss: 0.0000, val loss: nan\n",
      "Epoch 1 total loss: 39.2676, pred loss: 39.1890, reg_loss: 78.6088, val loss: nan\n",
      "Epoch 2 total loss: 36.2021, pred loss: 36.1031, reg_loss: 99.0336, val loss: nan\n",
      "Epoch 3 total loss: 35.0162, pred loss: 34.9200, reg_loss: 96.1518, val loss: nan\n",
      "Epoch 4 total loss: 33.7062, pred loss: 33.6005, reg_loss: 105.7211, val loss: nan\n",
      "Epoch 5 total loss: 32.2665, pred loss: 32.1628, reg_loss: 103.6579, val loss: nan\n",
      "Epoch 6 total loss: 31.1463, pred loss: 31.0402, reg_loss: 106.0720, val loss: nan\n",
      "Epoch 7 total loss: 30.3616, pred loss: 30.2642, reg_loss: 97.3535, val loss: nan\n",
      "Epoch 8 total loss: 29.7339, pred loss: 29.6314, reg_loss: 102.4684, val loss: nan\n",
      "Epoch 9 total loss: 29.2076, pred loss: 29.1063, reg_loss: 101.2527, val loss: nan\n",
      "Epoch 10 total loss: 28.7687, pred loss: 28.6677, reg_loss: 101.0003, val loss: nan\n",
      "Epoch 11 total loss: 28.4055, pred loss: 28.3079, reg_loss: 97.6299, val loss: nan\n",
      "CPU times: user 6min 21s, sys: 7.67 s, total: 6min 29s\n",
      "Wall time: 6min 39s\n"
     ]
    }
   ],
   "source": [
    "%%time\n",
    "_error_fn = _rmse\n",
    "error_fn_name = 'rmse'\n",
    "\n",
    "train_loss_out, pred_loss_out, reg_loss_out, val_loss_out, theta = train_and_store(subset_name = subset_name,\n",
    "                                                                                   obs_name = obs_name,\n",
    "                                                                                   _error_fn = _error_fn,\n",
    "                                                                                   error_fn_name = error_fn_name,\n",
    "                                                                                   initial_params = initial_params_main,\n",
    "                                                                                   params_lower = params_main_lower,\n",
    "                                                                                   params_upper = params_main_upper,\n",
    "                                                                                   param_names = param_names_main,\n",
    "                                                                                   n_epochs = 10)"
   ]
  },
  {
   "cell_type": "code",
   "execution_count": 27,
   "id": "b5f1f942-3791-4d11-b3ba-4387f319bc84",
   "metadata": {},
   "outputs": [
    {
     "name": "stdout",
     "output_type": "stream",
     "text": [
      "Epoch 0 train loss: 329.8211 pred loss: 329.8211, reg_loss: 0.0000, val loss: nan\n",
      "Epoch 1 total loss: 224.9652, pred loss: 224.8654, reg_loss: 99.7648, val loss: nan\n",
      "Epoch 2 total loss: 103.4812, pred loss: 103.3339, reg_loss: 147.2899, val loss: nan\n",
      "Epoch 3 total loss: 66.1997, pred loss: 66.0968, reg_loss: 102.8747, val loss: nan\n",
      "Epoch 4 total loss: 56.8087, pred loss: 56.7026, reg_loss: 106.0807, val loss: nan\n",
      "Epoch 5 total loss: 49.7938, pred loss: 49.6720, reg_loss: 121.7434, val loss: nan\n",
      "Epoch 6 total loss: 42.3923, pred loss: 42.2575, reg_loss: 134.8201, val loss: nan\n",
      "Epoch 7 total loss: 36.1536, pred loss: 36.0358, reg_loss: 117.7935, val loss: nan\n",
      "Epoch 8 total loss: 32.5445, pred loss: 32.4352, reg_loss: 109.2756, val loss: nan\n",
      "Epoch 9 total loss: 30.9848, pred loss: 30.8796, reg_loss: 105.1650, val loss: nan\n",
      "Epoch 10 total loss: 30.0414, pred loss: 29.9153, reg_loss: 126.0518, val loss: nan\n",
      "Found invalid parameter... re-initializaing\n",
      "Epoch 11 total loss: 32.7339, pred loss: 32.6025, reg_loss: 131.4924, val loss: nan\n",
      "CPU times: user 6min 26s, sys: 3.08 s, total: 6min 29s\n",
      "Wall time: 6min 32s\n"
     ]
    }
   ],
   "source": [
    "%%time\n",
    "_error_fn = _rmse\n",
    "error_fn_name = 'rmse'\n",
    "\n",
    "initial_params = np.random.uniform(params_main_lower, params_main_upper)\n",
    "\n",
    "train_loss_out, pred_loss_out, reg_loss_out, val_loss_out, theta = train_and_store(subset_name = subset_name,\n",
    "                                                                                   obs_name = obs_name,\n",
    "                                                                                   _error_fn = _error_fn,\n",
    "                                                                                   error_fn_name = error_fn_name,\n",
    "                                                                                   initial_params = initial_params,\n",
    "                                                                                   params_lower = params_main_lower,\n",
    "                                                                                   params_upper = params_main_upper,\n",
    "                                                                                   param_names = param_names_main,\n",
    "                                                                                   n_epochs = 10)"
   ]
  },
  {
   "cell_type": "markdown",
   "id": "f9524857-1380-4119-aab6-070508b2d8c2",
   "metadata": {
    "jp-MarkdownHeadingCollapsed": true
   },
   "source": [
    "### NOAH"
   ]
  },
  {
   "cell_type": "code",
   "execution_count": 4,
   "id": "c5cf5c47-82a4-4879-a0ef-547d64395b64",
   "metadata": {},
   "outputs": [],
   "source": [
    "obs_name = 'NOAH'\n",
    "\n",
    "# # Get dimensions\n",
    "# ys, _, _, _ = read_inputs(subset_name, obs_name, True)\n",
    "# Nspace = ys.shape[0]\n",
    "# Ntime = ys.shape[1]\n",
    "\n",
    "# # Get validation indices\n",
    "# val_frac = 0.2\n",
    "# val_inds_all = np.array_split(np.random.permutation(Nspace), 1/val_frac)"
   ]
  },
  {
   "cell_type": "code",
   "execution_count": 29,
   "id": "50a951b2-6b97-4f83-92db-4ddb8d7c1e5a",
   "metadata": {},
   "outputs": [
    {
     "name": "stdout",
     "output_type": "stream",
     "text": [
      "Epoch 0 train loss: 42.5554 pred loss: 42.5554, reg_loss: 0.0000, val loss: nan\n",
      "Epoch 1 total loss: 36.5012, pred loss: 36.4723, reg_loss: 28.8808, val loss: nan\n",
      "Epoch 2 total loss: 33.0195, pred loss: 32.9756, reg_loss: 43.8646, val loss: nan\n",
      "Epoch 3 total loss: 32.2110, pred loss: 32.1655, reg_loss: 45.4571, val loss: nan\n",
      "Epoch 4 total loss: 31.8182, pred loss: 31.7691, reg_loss: 49.1570, val loss: nan\n",
      "Epoch 5 total loss: 31.4399, pred loss: 31.3899, reg_loss: 50.0329, val loss: nan\n",
      "Epoch 6 total loss: 31.0661, pred loss: 31.0137, reg_loss: 52.3439, val loss: nan\n",
      "Epoch 7 total loss: 30.7552, pred loss: 30.6995, reg_loss: 55.7143, val loss: nan\n",
      "Epoch 8 total loss: 30.5324, pred loss: 30.4786, reg_loss: 53.7922, val loss: nan\n",
      "Epoch 9 total loss: 30.3721, pred loss: 30.3194, reg_loss: 52.7394, val loss: nan\n",
      "Epoch 10 total loss: 30.2595, pred loss: 30.2100, reg_loss: 49.5294, val loss: nan\n",
      "Epoch 11 total loss: 30.1718, pred loss: 30.1202, reg_loss: 51.6131, val loss: nan\n",
      "CPU times: user 6min 8s, sys: 2.29 s, total: 6min 10s\n",
      "Wall time: 6min 13s\n"
     ]
    }
   ],
   "source": [
    "%%time\n",
    "_error_fn = _rmse\n",
    "error_fn_name = 'rmse'\n",
    "\n",
    "train_loss_out, pred_loss_out, reg_loss_out, val_loss_out, theta = train_and_store(subset_name = subset_name,\n",
    "                                                                                   obs_name = obs_name,\n",
    "                                                                                   _error_fn = _error_fn,\n",
    "                                                                                   error_fn_name = error_fn_name,\n",
    "                                                                                   initial_params = initial_params_main,\n",
    "                                                                                   params_lower = params_main_lower,\n",
    "                                                                                   params_upper = params_main_upper,\n",
    "                                                                                   param_names = param_names_main,\n",
    "                                                                                   n_epochs = 10)"
   ]
  },
  {
   "cell_type": "code",
   "execution_count": 10,
   "id": "adfaf37c-d136-4d5e-a5c0-cc662d5e5609",
   "metadata": {},
   "outputs": [
    {
     "name": "stdout",
     "output_type": "stream",
     "text": [
      "Epoch 0 train loss: 265.3430 pred loss: 265.2414, reg_loss: 101.5336, val loss: nan\n",
      "Epoch 1 total loss: 164.4531, pred loss: 164.2516, reg_loss: 201.4989, val loss: nan\n",
      "Epoch 2 total loss: 67.5495, pred loss: 67.4405, reg_loss: 109.0186, val loss: nan\n",
      "Epoch 3 total loss: 49.2517, pred loss: 49.1896, reg_loss: 62.0887, val loss: nan\n",
      "Epoch 4 total loss: 45.4317, pred loss: 45.3727, reg_loss: 58.9811, val loss: nan\n",
      "Epoch 5 total loss: 42.6632, pred loss: 42.5937, reg_loss: 69.5178, val loss: nan\n",
      "Epoch 6 total loss: 40.3837, pred loss: 40.3100, reg_loss: 73.7348, val loss: nan\n",
      "CPU times: user 3min 40s, sys: 2.32 s, total: 3min 42s\n",
      "Wall time: 3min 44s\n"
     ]
    }
   ],
   "source": [
    "%%time\n",
    "_error_fn = _rmse\n",
    "error_fn_name = 'rmse'\n",
    "\n",
    "initial_theta = np.random.uniform(params_main_lower, params_main_upper)\n",
    "\n",
    "train_loss_out, pred_loss_out, reg_loss_out, val_loss_out, theta = train_and_store(subset_name = subset_name,\n",
    "                                                                                   obs_name = obs_name,\n",
    "                                                                                   _error_fn = _error_fn,\n",
    "                                                                                   error_fn_name = error_fn_name,\n",
    "                                                                                   initial_theta = initial_theta,\n",
    "                                                                                   params_lower = params_main_lower,\n",
    "                                                                                   params_upper = params_main_upper,\n",
    "                                                                                   param_names = param_names_main,\n",
    "                                                                                   n_epochs = 5)"
   ]
  },
  {
   "cell_type": "markdown",
   "id": "5658b250-dd2d-4d1a-a228-202c0cc57c76",
   "metadata": {},
   "source": [
    "### VIC"
   ]
  },
  {
   "cell_type": "code",
   "execution_count": 5,
   "id": "008c8284-9491-4605-aed1-42e04e38b029",
   "metadata": {},
   "outputs": [],
   "source": [
    "obs_name = 'VIC'\n",
    "\n",
    "# # Get dimensions\n",
    "# ys, _, _, _ = read_inputs(subset_name, obs_name, True)\n",
    "# Nspace = ys.shape[0]\n",
    "# Ntime = ys.shape[1]\n",
    "\n",
    "# # Get validation indices\n",
    "# val_frac = 0.2\n",
    "# val_inds_all = np.array_split(np.random.permutation(Nspace), 1/val_frac)"
   ]
  },
  {
   "cell_type": "code",
   "execution_count": 33,
   "id": "b3d93f06-df33-4bf0-af00-e190fe4534cd",
   "metadata": {},
   "outputs": [
    {
     "name": "stdout",
     "output_type": "stream",
     "text": [
      "Epoch 0 train loss: 47.0325 pred loss: 47.0325, reg_loss: 0.0000, val loss: nan\n",
      "Epoch 1 total loss: 37.5329, pred loss: 37.5174, reg_loss: 15.4620, val loss: nan\n",
      "Epoch 2 total loss: 31.0479, pred loss: 31.0137, reg_loss: 34.2025, val loss: nan\n",
      "Epoch 3 total loss: 28.5658, pred loss: 28.5156, reg_loss: 50.1227, val loss: nan\n",
      "Epoch 4 total loss: 27.3326, pred loss: 27.2690, reg_loss: 63.6040, val loss: nan\n",
      "Epoch 5 total loss: 26.6901, pred loss: 26.6313, reg_loss: 58.8105, val loss: nan\n",
      "Epoch 6 total loss: 26.3087, pred loss: 26.2462, reg_loss: 62.4278, val loss: nan\n",
      "Epoch 7 total loss: 26.0439, pred loss: 25.9830, reg_loss: 60.9125, val loss: nan\n",
      "Epoch 8 total loss: 25.8545, pred loss: 25.7984, reg_loss: 56.0573, val loss: nan\n",
      "Epoch 9 total loss: 25.7281, pred loss: 25.6724, reg_loss: 55.6560, val loss: nan\n",
      "Epoch 10 total loss: 25.6272, pred loss: 25.5645, reg_loss: 62.6326, val loss: nan\n",
      "Epoch 11 total loss: 25.5615, pred loss: 25.4977, reg_loss: 63.7913, val loss: nan\n",
      "CPU times: user 6min 2s, sys: 2.11 s, total: 6min 4s\n",
      "Wall time: 6min 7s\n"
     ]
    }
   ],
   "source": [
    "%%time\n",
    "_error_fn = _rmse\n",
    "error_fn_name = 'rmse'\n",
    "\n",
    "train_loss_out, pred_loss_out, reg_loss_out, val_loss_out, theta = train_and_store(subset_name = subset_name,\n",
    "                                                                                   obs_name = obs_name,\n",
    "                                                                                   _error_fn = _error_fn,\n",
    "                                                                                   error_fn_name = error_fn_name,\n",
    "                                                                                   initial_params = initial_params_vic,\n",
    "                                                                                   params_lower = params_vic_lower,\n",
    "                                                                                   params_upper = params_vic_upper,\n",
    "                                                                                   param_names = param_names_vic,\n",
    "                                                                                   n_epochs = 10)"
   ]
  },
  {
   "cell_type": "code",
   "execution_count": 8,
   "id": "0bd6d6e6-da60-451f-8971-183e4137a4c9",
   "metadata": {},
   "outputs": [
    {
     "name": "stdout",
     "output_type": "stream",
     "text": [
      "Epoch 0 train loss: 58.5801 pred loss: 57.8119, reg_loss: 768.1605, val loss: nan\n",
      "Epoch 1 total loss: 64.1131, pred loss: 63.8898, reg_loss: 223.3518, val loss: nan\n",
      "Epoch 2 total loss: 72.7665, pred loss: 72.5593, reg_loss: 207.2029, val loss: nan\n",
      "Epoch 3 total loss: 54.2034, pred loss: 54.1077, reg_loss: 95.6931, val loss: nan\n",
      "Epoch 4 total loss: 51.4711, pred loss: 51.4071, reg_loss: 64.0008, val loss: nan\n",
      "Epoch 5 total loss: 49.0734, pred loss: 49.0264, reg_loss: 47.0832, val loss: nan\n",
      "Epoch 6 total loss: 39.7944, pred loss: 39.7361, reg_loss: 58.2190, val loss: nan\n",
      "Epoch 7 total loss: 32.9065, pred loss: 32.8348, reg_loss: 71.6364, val loss: nan\n",
      "Epoch 8 total loss: 29.4598, pred loss: 29.3864, reg_loss: 73.3515, val loss: nan\n",
      "Epoch 9 total loss: 27.8690, pred loss: 27.7934, reg_loss: 75.5108, val loss: nan\n",
      "Epoch 10 total loss: 27.0849, pred loss: 27.0027, reg_loss: 82.2643, val loss: nan\n",
      "Epoch 11 total loss: 26.6500, pred loss: 26.5658, reg_loss: 84.1968, val loss: nan\n",
      "CPU times: user 6min 36s, sys: 1.68 s, total: 6min 38s\n",
      "Wall time: 6min 41s\n"
     ]
    }
   ],
   "source": [
    "%%time\n",
    "_error_fn = _rmse\n",
    "error_fn_name = 'rmse'\n",
    "\n",
    "initial_theta = np.random.uniform(params_vic_lower, params_vic_upper)\n",
    "\n",
    "train_loss_out, pred_loss_out, reg_loss_out, val_loss_out, theta = train_and_store(subset_name = subset_name,\n",
    "                                                                                   obs_name = obs_name,\n",
    "                                                                                   _error_fn = _error_fn,\n",
    "                                                                                   error_fn_name = error_fn_name,\n",
    "                                                                                   initial_theta = initial_theta,\n",
    "                                                                                   params_lower = params_vic_lower,\n",
    "                                                                                   params_upper = params_vic_upper,\n",
    "                                                                                   param_names = param_names_vic,\n",
    "                                                                                   n_epochs = 10)"
   ]
  },
  {
   "cell_type": "markdown",
   "id": "05db8b6b-e943-472d-a1bb-e4af25551d1b",
   "metadata": {},
   "source": [
    "## Central US"
   ]
  },
  {
   "cell_type": "code",
   "execution_count": 6,
   "id": "32c55dcd-4ce1-4735-90ae-f2e31a671d77",
   "metadata": {},
   "outputs": [],
   "source": [
    "subset_name = 'centralUS'"
   ]
  },
  {
   "cell_type": "markdown",
   "id": "54d220f8-ab28-4253-8cc3-0172121058db",
   "metadata": {
    "jp-MarkdownHeadingCollapsed": true
   },
   "source": [
    "### SMAP"
   ]
  },
  {
   "cell_type": "code",
   "execution_count": 35,
   "id": "ca5e7902-a624-478b-b4e2-30d9d34c775b",
   "metadata": {},
   "outputs": [],
   "source": [
    "obs_name = 'SMAP'\n",
    "\n",
    "# # Get dimensions\n",
    "# ys, _, _, _ = read_inputs(subset_name, obs_name, True)\n",
    "# Nspace = ys.shape[0]\n",
    "# Ntime = ys.shape[1]\n",
    "\n",
    "# # Get validation indices\n",
    "# val_frac = 0.2\n",
    "# val_inds_all = np.array_split(np.random.permutation(Nspace), 1/val_frac)"
   ]
  },
  {
   "cell_type": "code",
   "execution_count": 36,
   "id": "a0b67902-12be-4790-b0f4-1899626b4308",
   "metadata": {},
   "outputs": [
    {
     "name": "stdout",
     "output_type": "stream",
     "text": [
      "Epoch 0 train loss: 89.1150 pred loss: 89.1150, reg_loss: 0.0000, val loss: nan\n",
      "Epoch 1 total loss: 46.0437, pred loss: 45.9977, reg_loss: 45.9365, val loss: nan\n",
      "Epoch 2 total loss: 34.2036, pred loss: 34.1527, reg_loss: 50.9155, val loss: nan\n",
      "Epoch 3 total loss: 31.8042, pred loss: 31.7503, reg_loss: 53.9113, val loss: nan\n",
      "Epoch 4 total loss: 29.9305, pred loss: 29.8743, reg_loss: 56.2000, val loss: nan\n",
      "Epoch 5 total loss: 28.4981, pred loss: 28.4398, reg_loss: 58.2906, val loss: nan\n",
      "Epoch 6 total loss: 27.5707, pred loss: 27.5152, reg_loss: 55.4959, val loss: nan\n",
      "Epoch 7 total loss: 27.0374, pred loss: 26.9826, reg_loss: 54.7916, val loss: nan\n",
      "Epoch 8 total loss: 26.7450, pred loss: 26.6850, reg_loss: 60.0421, val loss: nan\n",
      "Epoch 9 total loss: 26.5877, pred loss: 26.5308, reg_loss: 56.9438, val loss: nan\n",
      "Epoch 10 total loss: 26.4988, pred loss: 26.4380, reg_loss: 60.8729, val loss: nan\n",
      "Epoch 11 total loss: 26.4519, pred loss: 26.3894, reg_loss: 62.5205, val loss: nan\n",
      "CPU times: user 12min 32s, sys: 9.22 s, total: 12min 42s\n",
      "Wall time: 12min 51s\n"
     ]
    }
   ],
   "source": [
    "%%time\n",
    "_error_fn = _rmse\n",
    "error_fn_name = 'rmse'\n",
    "\n",
    "train_loss_out, pred_loss_out, reg_loss_out, val_loss_out, theta = train_and_store(subset_name = subset_name,\n",
    "                                                                                   obs_name = obs_name,\n",
    "                                                                                   _error_fn = _error_fn,\n",
    "                                                                                   error_fn_name = error_fn_name,\n",
    "                                                                                   initial_params = initial_params_main,\n",
    "                                                                                   params_lower = params_main_lower,\n",
    "                                                                                   params_upper = params_main_upper,\n",
    "                                                                                   param_names = param_names_main,\n",
    "                                                                                   n_epochs = 10)"
   ]
  },
  {
   "cell_type": "code",
   "execution_count": 37,
   "id": "750ed42f-be4a-43a9-add1-a2bef71fcbf2",
   "metadata": {},
   "outputs": [
    {
     "name": "stdout",
     "output_type": "stream",
     "text": [
      "Epoch 0 train loss: 428.1954 pred loss: 428.1954, reg_loss: 0.0000, val loss: nan\n",
      "Found invalid parameter... re-initializaing\n",
      "Found invalid parameter... re-initializaing\n",
      "Found invalid parameter... re-initializaing\n",
      "Found invalid parameter... re-initializaing\n",
      "Found invalid parameter... re-initializaing\n",
      "Epoch 1 total loss: 273.7971, pred loss: 273.6467, reg_loss: 150.4511, val loss: nan\n",
      "Found invalid parameter... re-initializaing\n",
      "CPU times: user 2min 12s, sys: 7 s, total: 2min 19s\n",
      "Wall time: 2min 20s\n"
     ]
    }
   ],
   "source": [
    "%%time\n",
    "_error_fn = _rmse\n",
    "error_fn_name = 'rmse'\n",
    "\n",
    "initial_params = np.random.uniform(params_main_lower, params_main_upper)\n",
    "\n",
    "train_loss_out, pred_loss_out, reg_loss_out, val_loss_out, theta = train_and_store(subset_name = subset_name,\n",
    "                                                                                   obs_name = obs_name,\n",
    "                                                                                   _error_fn = _error_fn,\n",
    "                                                                                   error_fn_name = error_fn_name,\n",
    "                                                                                   initial_params = initial_params,\n",
    "                                                                                   params_lower = params_main_lower,\n",
    "                                                                                   params_upper = params_main_upper,\n",
    "                                                                                   param_names = param_names_main,\n",
    "                                                                                   n_epochs = 10)"
   ]
  },
  {
   "cell_type": "markdown",
   "id": "63d41239-3664-4dd4-8869-6c8c14aea74e",
   "metadata": {
    "jp-MarkdownHeadingCollapsed": true
   },
   "source": [
    "### MOSAIC"
   ]
  },
  {
   "cell_type": "code",
   "execution_count": 38,
   "id": "e1b3e2bc-da7a-47d1-918a-376d5925fec1",
   "metadata": {},
   "outputs": [],
   "source": [
    "obs_name = 'MOSAIC'\n",
    "\n",
    "# # Get dimensions\n",
    "# ys, _, _, _ = read_inputs(subset_name, obs_name, True)\n",
    "# Nspace = ys.shape[0]\n",
    "# Ntime = ys.shape[1]\n",
    "\n",
    "# # Get validation indices\n",
    "# val_frac = 0.2\n",
    "# val_inds_all = np.array_split(np.random.permutation(Nspace), 1/val_frac)"
   ]
  },
  {
   "cell_type": "code",
   "execution_count": 39,
   "id": "fa93b8db-29b7-40b1-a16e-ba0e1a40849e",
   "metadata": {},
   "outputs": [
    {
     "name": "stdout",
     "output_type": "stream",
     "text": [
      "Epoch 0 train loss: 46.7038 pred loss: 46.7038, reg_loss: 0.0000, val loss: nan\n",
      "Epoch 1 total loss: 41.5643, pred loss: 41.4630, reg_loss: 101.3034, val loss: nan\n",
      "Epoch 2 total loss: 39.2817, pred loss: 39.1850, reg_loss: 96.6749, val loss: nan\n",
      "Epoch 3 total loss: 37.4796, pred loss: 37.3852, reg_loss: 94.3502, val loss: nan\n",
      "Epoch 4 total loss: 36.0420, pred loss: 35.9656, reg_loss: 76.3909, val loss: nan\n",
      "Epoch 5 total loss: 34.9120, pred loss: 34.8229, reg_loss: 89.0987, val loss: nan\n",
      "Epoch 6 total loss: 34.0335, pred loss: 33.9486, reg_loss: 84.9219, val loss: nan\n",
      "Epoch 7 total loss: 33.3853, pred loss: 33.2957, reg_loss: 89.5908, val loss: nan\n",
      "Epoch 8 total loss: 32.9329, pred loss: 32.8367, reg_loss: 96.2780, val loss: nan\n",
      "Epoch 9 total loss: 32.6354, pred loss: 32.5255, reg_loss: 109.9541, val loss: nan\n",
      "Epoch 10 total loss: 32.4599, pred loss: 32.3320, reg_loss: 127.9361, val loss: nan\n",
      "Epoch 11 total loss: 32.4027, pred loss: 32.2857, reg_loss: 116.9626, val loss: nan\n",
      "CPU times: user 12min 43s, sys: 6.39 s, total: 12min 49s\n",
      "Wall time: 12min 56s\n"
     ]
    }
   ],
   "source": [
    "%%time\n",
    "_error_fn = _rmse\n",
    "error_fn_name = 'rmse'\n",
    "\n",
    "train_loss_out, pred_loss_out, reg_loss_out, val_loss_out, theta = train_and_store(subset_name = subset_name,\n",
    "                                                                                   obs_name = obs_name,\n",
    "                                                                                   _error_fn = _error_fn,\n",
    "                                                                                   error_fn_name = error_fn_name,\n",
    "                                                                                   initial_params = initial_params_main,\n",
    "                                                                                   params_lower = params_main_lower,\n",
    "                                                                                   params_upper = params_main_upper,\n",
    "                                                                                   param_names = param_names_main,\n",
    "                                                                                   n_epochs = 10)"
   ]
  },
  {
   "cell_type": "code",
   "execution_count": 40,
   "id": "26f99a5b-66cd-4418-85d7-38310d751a84",
   "metadata": {},
   "outputs": [
    {
     "name": "stdout",
     "output_type": "stream",
     "text": [
      "Epoch 0 train loss: 46.5123 pred loss: 46.5123, reg_loss: 0.0000, val loss: nan\n",
      "Epoch 1 total loss: 37.4881, pred loss: 37.4248, reg_loss: 63.2716, val loss: nan\n",
      "Epoch 2 total loss: 35.5374, pred loss: 35.4447, reg_loss: 92.7153, val loss: nan\n",
      "Epoch 3 total loss: 34.5842, pred loss: 34.4751, reg_loss: 109.0808, val loss: nan\n",
      "Epoch 4 total loss: 33.8373, pred loss: 33.7254, reg_loss: 111.8962, val loss: nan\n",
      "Epoch 5 total loss: 33.2647, pred loss: 33.1513, reg_loss: 113.4179, val loss: nan\n",
      "Epoch 6 total loss: 32.8587, pred loss: 32.7506, reg_loss: 108.1568, val loss: nan\n",
      "Epoch 7 total loss: 32.5924, pred loss: 32.4803, reg_loss: 112.1177, val loss: nan\n",
      "Epoch 8 total loss: 32.4389, pred loss: 32.3115, reg_loss: 127.3817, val loss: nan\n",
      "Epoch 9 total loss: 32.3971, pred loss: 32.2634, reg_loss: 133.6144, val loss: nan\n",
      "Epoch 10 total loss: 32.3750, pred loss: 32.2423, reg_loss: 132.6813, val loss: nan\n",
      "Epoch 11 total loss: 32.3629, pred loss: 32.2325, reg_loss: 130.3893, val loss: nan\n",
      "CPU times: user 13min 41s, sys: 6.63 s, total: 13min 48s\n",
      "Wall time: 13min 53s\n"
     ]
    }
   ],
   "source": [
    "%%time\n",
    "_error_fn = _rmse\n",
    "error_fn_name = 'rmse'\n",
    "\n",
    "initial_params = np.random.uniform(params_main_lower, params_main_upper)\n",
    "\n",
    "train_loss_out, pred_loss_out, reg_loss_out, val_loss_out, theta = train_and_store(subset_name = subset_name,\n",
    "                                                                                   obs_name = obs_name,\n",
    "                                                                                   _error_fn = _error_fn,\n",
    "                                                                                   error_fn_name = error_fn_name,\n",
    "                                                                                   initial_params = initial_params,\n",
    "                                                                                   params_lower = params_main_lower,\n",
    "                                                                                   params_upper = params_main_upper,\n",
    "                                                                                   param_names = param_names_main,\n",
    "                                                                                   n_epochs = 10)"
   ]
  },
  {
   "cell_type": "markdown",
   "id": "d5985b02-8be7-4229-8470-cebca4eebca8",
   "metadata": {
    "jp-MarkdownHeadingCollapsed": true
   },
   "source": [
    "### NOAH"
   ]
  },
  {
   "cell_type": "code",
   "execution_count": 41,
   "id": "73c26889-6d67-4758-b057-c624f008bae7",
   "metadata": {},
   "outputs": [],
   "source": [
    "obs_name = 'NOAH'\n",
    "\n",
    "# # Get dimensions\n",
    "# ys, _, _, _ = read_inputs(subset_name, obs_name, True)\n",
    "# Nspace = ys.shape[0]\n",
    "# Ntime = ys.shape[1]\n",
    "\n",
    "# # Get validation indices\n",
    "# val_frac = 0.2\n",
    "# val_inds_all = np.array_split(np.random.permutation(Nspace), 1/val_frac)"
   ]
  },
  {
   "cell_type": "code",
   "execution_count": 42,
   "id": "e7afd0fd-a23b-41b4-aa56-de94fd017547",
   "metadata": {},
   "outputs": [
    {
     "name": "stdout",
     "output_type": "stream",
     "text": [
      "Epoch 0 train loss: 48.4630 pred loss: 48.4630, reg_loss: 0.0000, val loss: nan\n",
      "Epoch 1 total loss: 37.5184, pred loss: 37.4915, reg_loss: 26.8751, val loss: nan\n",
      "Epoch 2 total loss: 33.6099, pred loss: 33.5802, reg_loss: 29.6924, val loss: nan\n",
      "Epoch 3 total loss: 32.9521, pred loss: 32.9194, reg_loss: 32.6835, val loss: nan\n",
      "Epoch 4 total loss: 32.4402, pred loss: 32.4031, reg_loss: 37.1107, val loss: nan\n",
      "Epoch 5 total loss: 32.1020, pred loss: 32.0674, reg_loss: 34.6415, val loss: nan\n",
      "Epoch 6 total loss: 31.8897, pred loss: 31.8569, reg_loss: 32.7447, val loss: nan\n",
      "Epoch 7 total loss: 31.7618, pred loss: 31.7294, reg_loss: 32.3980, val loss: nan\n",
      "Epoch 8 total loss: 31.6872, pred loss: 31.6526, reg_loss: 34.6459, val loss: nan\n",
      "Epoch 9 total loss: 31.6403, pred loss: 31.6027, reg_loss: 37.6222, val loss: nan\n",
      "Epoch 10 total loss: 31.6111, pred loss: 31.5757, reg_loss: 35.3710, val loss: nan\n",
      "Epoch 11 total loss: 31.5944, pred loss: 31.5557, reg_loss: 38.6569, val loss: nan\n",
      "CPU times: user 13min 50s, sys: 7.51 s, total: 13min 58s\n",
      "Wall time: 14min 7s\n"
     ]
    }
   ],
   "source": [
    "%%time\n",
    "_error_fn = _rmse\n",
    "error_fn_name = 'rmse'\n",
    "\n",
    "train_loss_out, pred_loss_out, reg_loss_out, val_loss_out, theta = train_and_store(subset_name = subset_name,\n",
    "                                                                                   obs_name = obs_name,\n",
    "                                                                                   _error_fn = _error_fn,\n",
    "                                                                                   error_fn_name = error_fn_name,\n",
    "                                                                                   initial_params = initial_params_main,\n",
    "                                                                                   params_lower = params_main_lower,\n",
    "                                                                                   params_upper = params_main_upper,\n",
    "                                                                                   param_names = param_names_main,\n",
    "                                                                                   n_epochs = 10)"
   ]
  },
  {
   "cell_type": "code",
   "execution_count": 43,
   "id": "6e245bad-4368-47bc-87ba-5af8fc43153b",
   "metadata": {},
   "outputs": [
    {
     "name": "stdout",
     "output_type": "stream",
     "text": [
      "Epoch 0 train loss: 625.7437 pred loss: 625.7437, reg_loss: 0.0000, val loss: nan\n",
      "Found invalid parameter... re-initializaing\n",
      "Epoch 1 total loss: 110.7718, pred loss: 110.6423, reg_loss: 129.5704, val loss: nan\n",
      "Epoch 2 total loss: 63.1138, pred loss: 63.0429, reg_loss: 70.9436, val loss: nan\n",
      "Epoch 3 total loss: 45.5695, pred loss: 45.5195, reg_loss: 50.0108, val loss: nan\n",
      "Epoch 4 total loss: 38.0223, pred loss: 37.9483, reg_loss: 73.9122, val loss: nan\n",
      "Epoch 5 total loss: 36.2495, pred loss: 36.1746, reg_loss: 74.8785, val loss: nan\n",
      "Epoch 6 total loss: 35.1487, pred loss: 35.0760, reg_loss: 72.7557, val loss: nan\n",
      "Epoch 7 total loss: 34.3251, pred loss: 34.2560, reg_loss: 69.1568, val loss: nan\n",
      "Epoch 8 total loss: 33.4773, pred loss: 33.4142, reg_loss: 63.1057, val loss: nan\n",
      "Epoch 9 total loss: 32.7215, pred loss: 32.6622, reg_loss: 59.3405, val loss: nan\n",
      "Epoch 10 total loss: 32.2607, pred loss: 32.2064, reg_loss: 54.2795, val loss: nan\n",
      "Epoch 11 total loss: 32.0052, pred loss: 31.9524, reg_loss: 52.7660, val loss: nan\n",
      "CPU times: user 14min 11s, sys: 11.1 s, total: 14min 22s\n",
      "Wall time: 14min 33s\n"
     ]
    }
   ],
   "source": [
    "%%time\n",
    "_error_fn = _rmse\n",
    "error_fn_name = 'rmse'\n",
    "\n",
    "initial_params = np.random.uniform(params_main_lower, params_main_upper)\n",
    "\n",
    "train_loss_out, pred_loss_out, reg_loss_out, val_loss_out, theta = train_and_store(subset_name = subset_name,\n",
    "                                                                                   obs_name = obs_name,\n",
    "                                                                                   _error_fn = _error_fn,\n",
    "                                                                                   error_fn_name = error_fn_name,\n",
    "                                                                                   initial_params = initial_params,\n",
    "                                                                                   params_lower = params_main_lower,\n",
    "                                                                                   params_upper = params_main_upper,\n",
    "                                                                                   param_names = param_names_main,\n",
    "                                                                                   n_epochs = 10)"
   ]
  },
  {
   "cell_type": "markdown",
   "id": "054632a0-0d93-46a5-894a-17a3226cf39b",
   "metadata": {},
   "source": [
    "### VIC"
   ]
  },
  {
   "cell_type": "code",
   "execution_count": 7,
   "id": "97e2d325-f697-47a9-b3df-27923b254ab3",
   "metadata": {},
   "outputs": [],
   "source": [
    "obs_name = 'VIC'\n",
    "\n",
    "# # Get dimensions\n",
    "# ys, _, _, _ = read_inputs(subset_name, obs_name, True)\n",
    "# Nspace = ys.shape[0]\n",
    "# Ntime = ys.shape[1]\n",
    "\n",
    "# # Get validation indices\n",
    "# val_frac = 0.2\n",
    "# val_inds_all = np.array_split(np.random.permutation(Nspace), 1/val_frac)"
   ]
  },
  {
   "cell_type": "code",
   "execution_count": 8,
   "id": "7508cf3c-a68c-43c8-8eff-13936235bab0",
   "metadata": {},
   "outputs": [
    {
     "name": "stdout",
     "output_type": "stream",
     "text": [
      "Epoch 0 train loss: 143.4600 pred loss: 143.4600, reg_loss: 0.0000, val loss: nan\n",
      "Epoch 1 total loss: 86.4361, pred loss: 86.3795, reg_loss: 56.5266, val loss: nan\n",
      "Epoch 2 total loss: 46.9794, pred loss: 46.8277, reg_loss: 151.7143, val loss: nan\n",
      "Epoch 3 total loss: 41.2480, pred loss: 40.9549, reg_loss: 293.0558, val loss: nan\n",
      "Epoch 4 total loss: 40.6235, pred loss: 40.3111, reg_loss: 312.4598, val loss: nan\n",
      "Epoch 5 total loss: 40.4794, pred loss: 40.2040, reg_loss: 275.4733, val loss: nan\n",
      "Epoch 6 total loss: 40.3791, pred loss: 40.0870, reg_loss: 292.1187, val loss: nan\n",
      "Epoch 7 total loss: 40.2942, pred loss: 40.0088, reg_loss: 285.4626, val loss: nan\n",
      "Epoch 8 total loss: 40.2205, pred loss: 39.9298, reg_loss: 290.7720, val loss: nan\n",
      "Epoch 9 total loss: 40.1461, pred loss: 39.8143, reg_loss: 331.8148, val loss: nan\n",
      "Epoch 10 total loss: 40.0738, pred loss: 39.7803, reg_loss: 293.4778, val loss: nan\n",
      "Epoch 11 total loss: 40.0088, pred loss: 39.6504, reg_loss: 358.3948, val loss: nan\n",
      "CPU times: user 11min 32s, sys: 6.54 s, total: 11min 39s\n",
      "Wall time: 11min 42s\n"
     ]
    }
   ],
   "source": [
    "%%time\n",
    "# regression + categorical\n",
    "_error_fn = _rmse\n",
    "error_fn_name = 'rmse'\n",
    "\n",
    "train_loss_out, pred_loss_out, reg_loss_out, val_loss_out, theta = train_and_store(subset_name = subset_name,\n",
    "                                                                                   obs_name = obs_name,\n",
    "                                                                                   _error_fn = _error_fn,\n",
    "                                                                                   error_fn_name = error_fn_name,\n",
    "                                                                                   initial_theta = initial_params_vic,\n",
    "                                                                                   params_lower = params_vic_lower,\n",
    "                                                                                   params_upper = params_vic_upper,\n",
    "                                                                                   param_names = param_names_vic,\n",
    "                                                                                   n_epochs = 10)"
   ]
  },
  {
   "cell_type": "code",
   "execution_count": 8,
   "id": "232dd6ba-6251-4782-a0fc-9b6d8f757501",
   "metadata": {},
   "outputs": [
    {
     "name": "stdout",
     "output_type": "stream",
     "text": [
      "Epoch 0 train loss: 118.0287 pred loss: 118.0287, reg_loss: 0.0000, val loss: nan\n",
      "Epoch 1 total loss: 68.2104, pred loss: 68.1778, reg_loss: 32.6619, val loss: nan\n",
      "Epoch 2 total loss: 45.0275, pred loss: 44.9825, reg_loss: 44.9673, val loss: nan\n",
      "Epoch 3 total loss: 44.0541, pred loss: 44.0115, reg_loss: 42.6528, val loss: nan\n",
      "Epoch 4 total loss: 43.7852, pred loss: 43.7459, reg_loss: 39.2261, val loss: nan\n",
      "Epoch 5 total loss: 43.6127, pred loss: 43.5694, reg_loss: 43.2569, val loss: nan\n",
      "Epoch 6 total loss: 43.5049, pred loss: 43.4670, reg_loss: 37.9227, val loss: nan\n",
      "Epoch 7 total loss: 43.4314, pred loss: 43.3961, reg_loss: 35.2666, val loss: nan\n",
      "Epoch 8 total loss: 43.3814, pred loss: 43.3438, reg_loss: 37.5772, val loss: nan\n",
      "Epoch 9 total loss: 43.3426, pred loss: 43.3010, reg_loss: 41.5980, val loss: nan\n",
      "Epoch 10 total loss: 43.3130, pred loss: 43.2782, reg_loss: 34.7508, val loss: nan\n",
      "Epoch 11 total loss: 43.2838, pred loss: 43.2396, reg_loss: 44.1509, val loss: nan\n",
      "CPU times: user 13min 30s, sys: 3.4 s, total: 13min 34s\n",
      "Wall time: 13min 38s\n"
     ]
    }
   ],
   "source": [
    "%%time\n",
    "# regression\n",
    "_error_fn = _rmse\n",
    "error_fn_name = 'rmse'\n",
    "\n",
    "train_loss_out, pred_loss_out, reg_loss_out, val_loss_out, theta = train_and_store(subset_name = subset_name,\n",
    "                                                                                   obs_name = obs_name,\n",
    "                                                                                   _error_fn = _error_fn,\n",
    "                                                                                   error_fn_name = error_fn_name,\n",
    "                                                                                   initial_theta = initial_params_vic,\n",
    "                                                                                   params_lower = params_vic_lower,\n",
    "                                                                                   params_upper = params_vic_upper,\n",
    "                                                                                   param_names = param_names_vic,\n",
    "                                                                                   n_epochs = 10)"
   ]
  },
  {
   "cell_type": "code",
   "execution_count": 8,
   "id": "303bdce6-a453-47c4-a427-42d87c369636",
   "metadata": {},
   "outputs": [
    {
     "name": "stdout",
     "output_type": "stream",
     "text": [
      "Epoch 0 train loss: 184.8551 pred loss: 184.2530, reg_loss: 602.1119, val loss: nan\n",
      "Epoch 1 total loss: 110.0778, pred loss: 109.9576, reg_loss: 120.1962, val loss: nan\n",
      "Epoch 2 total loss: 57.3589, pred loss: 57.2703, reg_loss: 88.6615, val loss: nan\n",
      "Epoch 3 total loss: 44.4501, pred loss: 44.3647, reg_loss: 85.3647, val loss: nan\n",
      "Epoch 4 total loss: 41.6437, pred loss: 41.5630, reg_loss: 80.6857, val loss: nan\n",
      "Epoch 5 total loss: 40.6316, pred loss: 40.5575, reg_loss: 74.0653, val loss: nan\n",
      "Epoch 6 total loss: 39.9210, pred loss: 39.8478, reg_loss: 73.2070, val loss: nan\n",
      "Epoch 7 total loss: 39.4086, pred loss: 39.3372, reg_loss: 71.4011, val loss: nan\n",
      "Epoch 8 total loss: 39.0483, pred loss: 38.9806, reg_loss: 67.6254, val loss: nan\n",
      "Epoch 9 total loss: 38.7946, pred loss: 38.7303, reg_loss: 64.3227, val loss: nan\n",
      "Epoch 10 total loss: 38.6119, pred loss: 38.5548, reg_loss: 57.1390, val loss: nan\n",
      "Epoch 11 total loss: 38.4691, pred loss: 38.3944, reg_loss: 74.7719, val loss: nan\n",
      "CPU times: user 14min 8s, sys: 3.47 s, total: 14min 11s\n",
      "Wall time: 15min 57s\n"
     ]
    }
   ],
   "source": [
    "%%time\n",
    "# regression + categorical\n",
    "_error_fn = _rmse\n",
    "error_fn_name = 'rmse'\n",
    "\n",
    "initial_theta = np.random.uniform(params_vic_lower, params_vic_upper)\n",
    "\n",
    "train_loss_out, pred_loss_out, reg_loss_out, val_loss_out, theta = train_and_store(subset_name = subset_name,\n",
    "                                                                                   obs_name = obs_name,\n",
    "                                                                                   _error_fn = _error_fn,\n",
    "                                                                                   error_fn_name = error_fn_name,\n",
    "                                                                                   initial_theta = initial_theta,\n",
    "                                                                                   params_lower = params_vic_lower,\n",
    "                                                                                   params_upper = params_vic_upper,\n",
    "                                                                                   param_names = param_names_vic,\n",
    "                                                                                   n_epochs = 10)"
   ]
  },
  {
   "cell_type": "markdown",
   "id": "42531b02-4892-4b6c-8806-837ddf61950f",
   "metadata": {
    "jp-MarkdownHeadingCollapsed": true
   },
   "source": [
    "# Old"
   ]
  },
  {
   "cell_type": "code",
   "execution_count": 9,
   "id": "16d958b1-a275-48b5-b571-771f766f9feb",
   "metadata": {},
   "outputs": [],
   "source": [
    "import pandas as pd"
   ]
  },
  {
   "cell_type": "code",
   "execution_count": 10,
   "id": "b05ae2f0-632a-4fa9-87cc-4f93fb5b57ba",
   "metadata": {},
   "outputs": [],
   "source": [
    "df = pd.read_csv('/storage/group/pches/default/users/dcl5300/wbm_soilM_crop_uc_lafferty-etal-2024-tbd_DATA/WBM/calibration/centralUS/MOSAIC/training_res/rmse_5epochs_32batchsize_6798val_0.001reg_13273r.txt',\n",
    "           sep = ' ')"
   ]
  },
  {
   "cell_type": "code",
   "execution_count": 17,
   "id": "7ae0e4e8-e3f0-4971-a42f-97ed5c1943d8",
   "metadata": {},
   "outputs": [
    {
     "data": {
      "text/html": [
       "<div>\n",
       "<style scoped>\n",
       "    .dataframe tbody tr th:only-of-type {\n",
       "        vertical-align: middle;\n",
       "    }\n",
       "\n",
       "    .dataframe tbody tr th {\n",
       "        vertical-align: top;\n",
       "    }\n",
       "\n",
       "    .dataframe thead th {\n",
       "        text-align: right;\n",
       "    }\n",
       "</style>\n",
       "<table border=\"1\" class=\"dataframe\">\n",
       "  <thead>\n",
       "    <tr style=\"text-align: right;\">\n",
       "      <th></th>\n",
       "      <th>epoch</th>\n",
       "      <th>metric</th>\n",
       "      <th>train_loss</th>\n",
       "      <th>pred_loss</th>\n",
       "      <th>reg_loss</th>\n",
       "      <th>val_loss</th>\n",
       "      <th>awCap_scalar</th>\n",
       "      <th>wiltingp_scalar</th>\n",
       "      <th>alpha_claycoef</th>\n",
       "      <th>alpha_sandcoef</th>\n",
       "      <th>...</th>\n",
       "      <th>GS_start_wheat</th>\n",
       "      <th>GS_end_wheat</th>\n",
       "      <th>L_ini_wheat</th>\n",
       "      <th>L_dev_wheat</th>\n",
       "      <th>L_mid_wheat</th>\n",
       "      <th>Kc_ini_wheat</th>\n",
       "      <th>Kc_mid_wheat</th>\n",
       "      <th>Kc_end_wheat</th>\n",
       "      <th>K_min_wheat</th>\n",
       "      <th>K_max_wheat</th>\n",
       "    </tr>\n",
       "  </thead>\n",
       "  <tbody>\n",
       "    <tr>\n",
       "      <th>0</th>\n",
       "      <td>0</td>\n",
       "      <td>rmse</td>\n",
       "      <td>330.7587</td>\n",
       "      <td>330.4692</td>\n",
       "      <td>289.5058</td>\n",
       "      <td>330.4189</td>\n",
       "      <td>1.327399</td>\n",
       "      <td>0.618151</td>\n",
       "      <td>0.228834</td>\n",
       "      <td>-5.483044</td>\n",
       "      <td>...</td>\n",
       "      <td>4.266537</td>\n",
       "      <td>5.522053</td>\n",
       "      <td>-2.197543</td>\n",
       "      <td>-1.45063</td>\n",
       "      <td>-1.082791</td>\n",
       "      <td>-0.655621</td>\n",
       "      <td>0.258681</td>\n",
       "      <td>-2.011865</td>\n",
       "      <td>-0.722069</td>\n",
       "      <td>0.094507</td>\n",
       "    </tr>\n",
       "    <tr>\n",
       "      <th>1</th>\n",
       "      <td>1</td>\n",
       "      <td>rmse</td>\n",
       "      <td>170.3741</td>\n",
       "      <td>170.3741</td>\n",
       "      <td>0.0000</td>\n",
       "      <td>0.0000</td>\n",
       "      <td>NaN</td>\n",
       "      <td>NaN</td>\n",
       "      <td>NaN</td>\n",
       "      <td>NaN</td>\n",
       "      <td>...</td>\n",
       "      <td>NaN</td>\n",
       "      <td>NaN</td>\n",
       "      <td>NaN</td>\n",
       "      <td>NaN</td>\n",
       "      <td>NaN</td>\n",
       "      <td>NaN</td>\n",
       "      <td>NaN</td>\n",
       "      <td>NaN</td>\n",
       "      <td>NaN</td>\n",
       "      <td>NaN</td>\n",
       "    </tr>\n",
       "    <tr>\n",
       "      <th>2</th>\n",
       "      <td>2</td>\n",
       "      <td>rmse</td>\n",
       "      <td>0.0000</td>\n",
       "      <td>0.0000</td>\n",
       "      <td>0.0000</td>\n",
       "      <td>0.0000</td>\n",
       "      <td>NaN</td>\n",
       "      <td>NaN</td>\n",
       "      <td>NaN</td>\n",
       "      <td>NaN</td>\n",
       "      <td>...</td>\n",
       "      <td>NaN</td>\n",
       "      <td>NaN</td>\n",
       "      <td>NaN</td>\n",
       "      <td>NaN</td>\n",
       "      <td>NaN</td>\n",
       "      <td>NaN</td>\n",
       "      <td>NaN</td>\n",
       "      <td>NaN</td>\n",
       "      <td>NaN</td>\n",
       "      <td>NaN</td>\n",
       "    </tr>\n",
       "    <tr>\n",
       "      <th>3</th>\n",
       "      <td>3</td>\n",
       "      <td>rmse</td>\n",
       "      <td>0.0000</td>\n",
       "      <td>0.0000</td>\n",
       "      <td>0.0000</td>\n",
       "      <td>0.0000</td>\n",
       "      <td>NaN</td>\n",
       "      <td>NaN</td>\n",
       "      <td>NaN</td>\n",
       "      <td>NaN</td>\n",
       "      <td>...</td>\n",
       "      <td>NaN</td>\n",
       "      <td>NaN</td>\n",
       "      <td>NaN</td>\n",
       "      <td>NaN</td>\n",
       "      <td>NaN</td>\n",
       "      <td>NaN</td>\n",
       "      <td>NaN</td>\n",
       "      <td>NaN</td>\n",
       "      <td>NaN</td>\n",
       "      <td>NaN</td>\n",
       "    </tr>\n",
       "    <tr>\n",
       "      <th>4</th>\n",
       "      <td>4</td>\n",
       "      <td>rmse</td>\n",
       "      <td>0.0000</td>\n",
       "      <td>0.0000</td>\n",
       "      <td>0.0000</td>\n",
       "      <td>0.0000</td>\n",
       "      <td>NaN</td>\n",
       "      <td>NaN</td>\n",
       "      <td>NaN</td>\n",
       "      <td>NaN</td>\n",
       "      <td>...</td>\n",
       "      <td>NaN</td>\n",
       "      <td>NaN</td>\n",
       "      <td>NaN</td>\n",
       "      <td>NaN</td>\n",
       "      <td>NaN</td>\n",
       "      <td>NaN</td>\n",
       "      <td>NaN</td>\n",
       "      <td>NaN</td>\n",
       "      <td>NaN</td>\n",
       "      <td>NaN</td>\n",
       "    </tr>\n",
       "    <tr>\n",
       "      <th>5</th>\n",
       "      <td>5</td>\n",
       "      <td>rmse</td>\n",
       "      <td>0.0000</td>\n",
       "      <td>0.0000</td>\n",
       "      <td>0.0000</td>\n",
       "      <td>0.0000</td>\n",
       "      <td>NaN</td>\n",
       "      <td>NaN</td>\n",
       "      <td>NaN</td>\n",
       "      <td>NaN</td>\n",
       "      <td>...</td>\n",
       "      <td>NaN</td>\n",
       "      <td>NaN</td>\n",
       "      <td>NaN</td>\n",
       "      <td>NaN</td>\n",
       "      <td>NaN</td>\n",
       "      <td>NaN</td>\n",
       "      <td>NaN</td>\n",
       "      <td>NaN</td>\n",
       "      <td>NaN</td>\n",
       "      <td>NaN</td>\n",
       "    </tr>\n",
       "    <tr>\n",
       "      <th>6</th>\n",
       "      <td>6</td>\n",
       "      <td>rmse</td>\n",
       "      <td>0.0000</td>\n",
       "      <td>0.0000</td>\n",
       "      <td>0.0000</td>\n",
       "      <td>0.0000</td>\n",
       "      <td>NaN</td>\n",
       "      <td>NaN</td>\n",
       "      <td>NaN</td>\n",
       "      <td>NaN</td>\n",
       "      <td>...</td>\n",
       "      <td>NaN</td>\n",
       "      <td>NaN</td>\n",
       "      <td>NaN</td>\n",
       "      <td>NaN</td>\n",
       "      <td>NaN</td>\n",
       "      <td>NaN</td>\n",
       "      <td>NaN</td>\n",
       "      <td>NaN</td>\n",
       "      <td>NaN</td>\n",
       "      <td>NaN</td>\n",
       "    </tr>\n",
       "  </tbody>\n",
       "</table>\n",
       "<p>7 rows × 75 columns</p>\n",
       "</div>"
      ],
      "text/plain": [
       "   epoch metric  train_loss  pred_loss  reg_loss  val_loss  awCap_scalar  \\\n",
       "0      0   rmse    330.7587   330.4692  289.5058  330.4189      1.327399   \n",
       "1      1   rmse    170.3741   170.3741    0.0000    0.0000           NaN   \n",
       "2      2   rmse      0.0000     0.0000    0.0000    0.0000           NaN   \n",
       "3      3   rmse      0.0000     0.0000    0.0000    0.0000           NaN   \n",
       "4      4   rmse      0.0000     0.0000    0.0000    0.0000           NaN   \n",
       "5      5   rmse      0.0000     0.0000    0.0000    0.0000           NaN   \n",
       "6      6   rmse      0.0000     0.0000    0.0000    0.0000           NaN   \n",
       "\n",
       "   wiltingp_scalar  alpha_claycoef  alpha_sandcoef  ...  GS_start_wheat  \\\n",
       "0         0.618151        0.228834       -5.483044  ...        4.266537   \n",
       "1              NaN             NaN             NaN  ...             NaN   \n",
       "2              NaN             NaN             NaN  ...             NaN   \n",
       "3              NaN             NaN             NaN  ...             NaN   \n",
       "4              NaN             NaN             NaN  ...             NaN   \n",
       "5              NaN             NaN             NaN  ...             NaN   \n",
       "6              NaN             NaN             NaN  ...             NaN   \n",
       "\n",
       "   GS_end_wheat  L_ini_wheat  L_dev_wheat  L_mid_wheat  Kc_ini_wheat  \\\n",
       "0      5.522053    -2.197543     -1.45063    -1.082791     -0.655621   \n",
       "1           NaN          NaN          NaN          NaN           NaN   \n",
       "2           NaN          NaN          NaN          NaN           NaN   \n",
       "3           NaN          NaN          NaN          NaN           NaN   \n",
       "4           NaN          NaN          NaN          NaN           NaN   \n",
       "5           NaN          NaN          NaN          NaN           NaN   \n",
       "6           NaN          NaN          NaN          NaN           NaN   \n",
       "\n",
       "   Kc_mid_wheat  Kc_end_wheat  K_min_wheat  K_max_wheat  \n",
       "0      0.258681     -2.011865    -0.722069     0.094507  \n",
       "1           NaN           NaN          NaN          NaN  \n",
       "2           NaN           NaN          NaN          NaN  \n",
       "3           NaN           NaN          NaN          NaN  \n",
       "4           NaN           NaN          NaN          NaN  \n",
       "5           NaN           NaN          NaN          NaN  \n",
       "6           NaN           NaN          NaN          NaN  \n",
       "\n",
       "[7 rows x 75 columns]"
      ]
     },
     "execution_count": 17,
     "metadata": {},
     "output_type": "execute_result"
    }
   ],
   "source": [
    "df"
   ]
  },
  {
   "cell_type": "code",
   "execution_count": 11,
   "id": "21ec76c5-dc9f-4b68-9d7f-2552b341cf39",
   "metadata": {},
   "outputs": [],
   "source": [
    "theta_df = jnp.array([df.iloc[0][param] for param in param_names_main])"
   ]
  },
  {
   "cell_type": "code",
   "execution_count": 12,
   "id": "87a9182d-42ea-451f-9a09-e91978a2dfb4",
   "metadata": {},
   "outputs": [],
   "source": [
    "pred_vmap =  jax.jit(jax.vmap(make_prediction_main, in_axes=(None, None, 0, 0, 0), out_axes=0))"
   ]
  },
  {
   "cell_type": "code",
   "execution_count": 14,
   "id": "a3171346-f604-455b-a093-067057c9342b",
   "metadata": {},
   "outputs": [],
   "source": [
    "pred_all = pred_vmap(theta_df, constants, x_forcing_nt, x_forcing_nyrs, x_maps)"
   ]
  },
  {
   "cell_type": "code",
   "execution_count": 15,
   "id": "346c0bd8-e954-447b-8e90-64f04178ad6a",
   "metadata": {},
   "outputs": [
    {
     "data": {
      "text/plain": [
       "(30841, 2555)"
      ]
     },
     "execution_count": 15,
     "metadata": {},
     "output_type": "execute_result"
    }
   ],
   "source": [
    "pred_all.shape"
   ]
  },
  {
   "cell_type": "code",
   "execution_count": 16,
   "id": "6d89f643-b208-4899-9f46-b7dcb1754cfd",
   "metadata": {},
   "outputs": [
    {
     "data": {
      "text/plain": [
       "array([], shape=(0, 1), dtype=int64)"
      ]
     },
     "execution_count": 16,
     "metadata": {},
     "output_type": "execute_result"
    }
   ],
   "source": [
    "np.argwhere(jnp.isnan(pred_all).any(axis=1))"
   ]
  },
  {
   "cell_type": "code",
   "execution_count": 18,
   "id": "8ec52f48-f3d5-4f9f-a389-56b2e96469bb",
   "metadata": {},
   "outputs": [
    {
     "data": {
      "text/plain": [
       "Array(0, dtype=int64)"
      ]
     },
     "execution_count": 18,
     "metadata": {},
     "output_type": "execute_result"
    }
   ],
   "source": [
    "jnp.isnan(pred_all).any(axis=1).sum()"
   ]
  },
  {
   "cell_type": "code",
   "execution_count": 23,
   "id": "47bba73a-f8da-4bfa-ad7a-8a69fb7be791",
   "metadata": {},
   "outputs": [],
   "source": [
    "if True:\n",
    "    def prediction_loss(theta, constants, x_forcing_nt, x_forcing_nyrs, x_maps, ys):\n",
    "        prediction = make_prediction_main(theta, constants, x_forcing_nt, x_forcing_nyrs, x_maps)\n",
    "        return _error_fn(prediction, ys)\n",
    "        \n",
    "    def reg_loss(theta, initial_params, params_lower, params_upper):\n",
    "        return jnp.nansum((theta - initial_params)**2 / ((theta - params_lower) * (params_upper - theta)))\n",
    "    \n",
    "    # Total loss\n",
    "    def loss_fn(theta, reg_const, initial_params, params_lower, params_upper, constants,\n",
    "                x_forcing_nt, x_forcing_nyrs, x_maps, ys):\n",
    "        return prediction_loss(theta, constants, x_forcing_nt, x_forcing_nyrs, x_maps, ys) + \\\n",
    "                reg_const * reg_loss(theta, initial_params, params_lower, params_upper)\n",
    "    \n",
    "    # jit and vmap it\n",
    "    pred_loss_value = jax.jit(jax.vmap(prediction_loss, in_axes=(None, None, 0, 0, 0, 0), out_axes=0))\n",
    "    loss_value_and_grad = jax.jit(jax.vmap(jax.value_and_grad(loss_fn), in_axes=(None, None, None, None, None, None, 0, 0, 0, 0), out_axes=0))"
   ]
  },
  {
   "cell_type": "code",
   "execution_count": 44,
   "id": "b4e90b96-fbda-4d70-b080-8240a015f320",
   "metadata": {},
   "outputs": [],
   "source": [
    "N_train = round(pred_all.shape[0] * 0.8)\n",
    "batch_size = 2**5\n",
    "n_minibatches = 1 + N_train // batch_size\n",
    "reg_const = 0.001"
   ]
  },
  {
   "cell_type": "code",
   "execution_count": 48,
   "id": "f1318656-2578-4377-bd3f-2cca5bb47df0",
   "metadata": {},
   "outputs": [],
   "source": [
    "theta = theta_df\n",
    "\n",
    "adam = optax.adam(learning_rate=1e-3)\n",
    "opt_fn = adam.update\n",
    "opt_state = adam.init(theta)"
   ]
  },
  {
   "cell_type": "code",
   "execution_count": 49,
   "id": "d1402072-1214-4e21-88b4-5f90a7dfd398",
   "metadata": {},
   "outputs": [],
   "source": [
    "for epoch in range(1):\n",
    "    if True:\n",
    "        # Shuffle indices\n",
    "        shuffled_inds = np.random.permutation(N_train)\n",
    "    \n",
    "        # Generate a mini-batch\n",
    "        minibatch_inds = [shuffled_inds[(i*batch_size):((i + 1)*batch_size)] for i in range(n_minibatches)]\n",
    "\n",
    "        # For batch loss\n",
    "        batch_loss = [None] * n_minibatches\n",
    "\n",
    "        for idx, inds in enumerate(minibatch_inds):\n",
    "            # Calculate gradient of loss function, update parameters\n",
    "            loss, grads = loss_value_and_grad(theta, reg_const, initial_params, params_lower, params_upper, constants,\n",
    "                                              x_forcing_nt[inds],\n",
    "                                              x_forcing_nyrs[inds],\n",
    "                                              x_maps[inds],\n",
    "                                              ys[inds])\n",
    "            updates, opt_state = opt_fn(jnp.nanmean(grads, axis=0), opt_state)\n",
    "            theta = optax.apply_updates(theta, updates)\n",
    "            if jnp.isnan(theta).any():\n",
    "                break\n",
    "                print(theta)"
   ]
  },
  {
   "cell_type": "code",
   "execution_count": 50,
   "id": "98e9d028-1d1b-45cc-b6a9-9e162d7d2939",
   "metadata": {},
   "outputs": [
    {
     "data": {
      "text/plain": [
       "Array([ 0.71254596,  0.0423899 ,  0.55709869, -5.12338694,  3.90691277,\n",
       "       -6.46824148, -6.07973376, -5.60797983, -1.55989023,  4.33376006,\n",
       "        5.8045445 , -2.61800135, -1.67606103, -0.97216935, -1.5438321 ,\n",
       "        0.40038076, -0.78608419, -0.95006254,  0.38824379,  4.18886363,\n",
       "        5.74377723, -2.12970934, -1.31404139, -1.43974064, -0.53505142,\n",
       "        0.34894785, -0.31085609, -1.48451861,  0.32847652,  4.2744576 ,\n",
       "        5.6977197 , -1.7354759 , -1.22210428, -0.78418133,  0.07348259,\n",
       "        0.22651104, -0.27485849, -0.21463048,  0.28868797,  4.18543548,\n",
       "        5.73147959, -2.58444779, -1.4097605 , -1.02736683, -0.87796611,\n",
       "        0.15845253, -0.44174001, -1.06083569,  0.12906259,  4.10822167,\n",
       "        5.80379963, -2.92378104, -2.05195101, -0.69929472, -0.69221341,\n",
       "        0.25915993, -0.37343761, -0.68622481,  0.24910735,  4.21113538,\n",
       "        5.58573566, -1.92382461, -1.28052428, -0.8409342 , -0.62910064,\n",
       "        0.21866603, -1.62016852, -0.63024127,  0.18393479], dtype=float64)"
      ]
     },
     "execution_count": 50,
     "metadata": {},
     "output_type": "execute_result"
    }
   ],
   "source": [
    "theta"
   ]
  },
  {
   "cell_type": "code",
   "execution_count": null,
   "id": "de268867-85f8-4f67-b698-8943f9df2c84",
   "metadata": {},
   "outputs": [],
   "source": []
  },
  {
   "cell_type": "code",
   "execution_count": null,
   "id": "5f83c240-742d-48db-9358-5b9adfccefd1",
   "metadata": {},
   "outputs": [],
   "source": []
  },
  {
   "cell_type": "code",
   "execution_count": 20,
   "id": "ec47bad7-0824-44fd-9ae1-179f86aab360",
   "metadata": {},
   "outputs": [],
   "source": [
    "def make_prediction_main(theta, constants, x_forcing_nt, x_forcing_nyrs, x_maps):\n",
    "    # Read inputs\n",
    "    tas, prcp = x_forcing_nt\n",
    "    lai = x_forcing_nyrs\n",
    "\n",
    "    (\n",
    "        awCap,\n",
    "        wiltingp,\n",
    "        Ws_init,\n",
    "        clayfrac,\n",
    "        sandfrac,\n",
    "        siltfrac,\n",
    "        rootDepth,\n",
    "        lats,\n",
    "        elev_std,\n",
    "        corn,\n",
    "        cotton,\n",
    "        rice,\n",
    "        sorghum,\n",
    "        soybeans,\n",
    "        wheat,\n",
    "    ) = x_maps\n",
    "\n",
    "    # print(wiltingp)\n",
    "\n",
    "    # Define all constants\n",
    "    Ts, Tm, Wi_init, Sp_init = constants\n",
    "\n",
    "    # Define all params\n",
    "    (\n",
    "        awCap_scalar,\n",
    "        wiltingp_scalar,\n",
    "        alpha_claycoef,\n",
    "        alpha_sandcoef,\n",
    "        alpha_siltcoef,\n",
    "        betaHBV_claycoef,\n",
    "        betaHBV_sandcoef,\n",
    "        betaHBV_siltcoef,\n",
    "        betaHBV_elevcoef,\n",
    "        GS_start_corn,\n",
    "        GS_end_corn,\n",
    "        L_ini_corn,\n",
    "        L_dev_corn,\n",
    "        L_mid_corn,\n",
    "        Kc_ini_corn,\n",
    "        Kc_mid_corn,\n",
    "        Kc_end_corn,\n",
    "        K_min_corn,\n",
    "        K_max_corn,\n",
    "        GS_start_cotton,\n",
    "        GS_end_cotton,\n",
    "        L_ini_cotton,\n",
    "        L_dev_cotton,\n",
    "        L_mid_cotton,\n",
    "        Kc_ini_cotton,\n",
    "        Kc_mid_cotton,\n",
    "        Kc_end_cotton,\n",
    "        K_min_cotton,\n",
    "        K_max_cotton,\n",
    "        GS_start_rice,\n",
    "        GS_end_rice,\n",
    "        L_ini_rice,\n",
    "        L_dev_rice,\n",
    "        L_mid_rice,\n",
    "        Kc_ini_rice,\n",
    "        Kc_mid_rice,\n",
    "        Kc_end_rice,\n",
    "        K_min_rice,\n",
    "        K_max_rice,\n",
    "        GS_start_sorghum,\n",
    "        GS_end_sorghum,\n",
    "        L_ini_sorghum,\n",
    "        L_dev_sorghum,\n",
    "        L_mid_sorghum,\n",
    "        Kc_ini_sorghum,\n",
    "        Kc_mid_sorghum,\n",
    "        Kc_end_sorghum,\n",
    "        K_min_sorghum,\n",
    "        K_max_sorghum,\n",
    "        GS_start_soybeans,\n",
    "        GS_end_soybeans,\n",
    "        L_ini_soybeans,\n",
    "        L_dev_soybeans,\n",
    "        L_mid_soybeans,\n",
    "        Kc_ini_soybeans,\n",
    "        Kc_mid_soybeans,\n",
    "        Kc_end_soybeans,\n",
    "        K_min_soybeans,\n",
    "        K_max_soybeans,\n",
    "        GS_start_wheat,\n",
    "        GS_end_wheat,\n",
    "        L_ini_wheat,\n",
    "        L_dev_wheat,\n",
    "        L_mid_wheat,\n",
    "        Kc_ini_wheat,\n",
    "        Kc_mid_wheat,\n",
    "        Kc_end_wheat,\n",
    "        K_min_wheat,\n",
    "        K_max_wheat,\n",
    "    ) = jnp.exp(theta)\n",
    "\n",
    "    # Construct Kpet as weighted average\n",
    "    Kpet_corn = construct_Kpet_vec(\n",
    "        GS_start_corn,\n",
    "        GS_end_corn,\n",
    "        L_ini_corn,\n",
    "        L_dev_corn,\n",
    "        L_mid_corn,\n",
    "        1.0 - (L_ini_corn + L_dev_corn + L_mid_corn),\n",
    "        Kc_ini_corn,\n",
    "        Kc_mid_corn,\n",
    "        Kc_end_corn,\n",
    "        K_min_corn,\n",
    "        K_max_corn,\n",
    "        lai,\n",
    "    )\n",
    "    Kpet_cotton = construct_Kpet_vec(\n",
    "        GS_start_cotton,\n",
    "        GS_end_cotton,\n",
    "        L_ini_cotton,\n",
    "        L_dev_cotton,\n",
    "        L_mid_cotton,\n",
    "        1.0 - (L_ini_cotton + L_dev_cotton + L_mid_cotton),\n",
    "        Kc_ini_cotton,\n",
    "        Kc_mid_cotton,\n",
    "        Kc_end_cotton,\n",
    "        K_min_cotton,\n",
    "        K_max_cotton,\n",
    "        lai,\n",
    "    )\n",
    "    Kpet_rice = construct_Kpet_vec(\n",
    "        GS_start_rice,\n",
    "        GS_end_rice,\n",
    "        L_ini_rice,\n",
    "        L_dev_rice,\n",
    "        L_mid_rice,\n",
    "        1.0 - (L_ini_rice + L_dev_rice + L_mid_rice),\n",
    "        Kc_ini_rice,\n",
    "        Kc_mid_rice,\n",
    "        Kc_end_rice,\n",
    "        K_min_rice,\n",
    "        K_max_rice,\n",
    "        lai,\n",
    "    )\n",
    "    Kpet_sorghum = construct_Kpet_vec(\n",
    "        GS_start_sorghum,\n",
    "        GS_end_sorghum,\n",
    "        L_ini_sorghum,\n",
    "        L_dev_sorghum,\n",
    "        L_mid_sorghum,\n",
    "        1.0 - (L_ini_sorghum + L_dev_sorghum + L_mid_sorghum),\n",
    "        Kc_ini_sorghum,\n",
    "        Kc_mid_sorghum,\n",
    "        Kc_end_sorghum,\n",
    "        K_min_sorghum,\n",
    "        K_max_sorghum,\n",
    "        lai,\n",
    "    )\n",
    "    Kpet_soybeans = construct_Kpet_vec(\n",
    "        GS_start_soybeans,\n",
    "        GS_end_soybeans,\n",
    "        L_ini_soybeans,\n",
    "        L_dev_soybeans,\n",
    "        L_mid_soybeans,\n",
    "        1.0 - (L_ini_soybeans + L_dev_soybeans + L_mid_soybeans),\n",
    "        Kc_ini_soybeans,\n",
    "        Kc_mid_soybeans,\n",
    "        Kc_end_soybeans,\n",
    "        K_min_soybeans,\n",
    "        K_max_soybeans,\n",
    "        lai,\n",
    "    )\n",
    "    Kpet_wheat = construct_Kpet_vec(\n",
    "        GS_start_wheat,\n",
    "        GS_end_wheat,\n",
    "        L_ini_wheat,\n",
    "        L_dev_wheat,\n",
    "        L_mid_wheat,\n",
    "        1.0 - (L_ini_wheat + L_dev_wheat + L_mid_wheat),\n",
    "        Kc_ini_wheat,\n",
    "        Kc_mid_wheat,\n",
    "        Kc_end_wheat,\n",
    "        K_min_wheat,\n",
    "        K_max_wheat,\n",
    "        lai,\n",
    "    )\n",
    "\n",
    "    other = 1.0 - (corn + cotton + rice + sorghum + soybeans + wheat)\n",
    "    weights = jnp.array([corn, cotton, rice, sorghum, soybeans, wheat, other])\n",
    "    Kpets = jnp.array(\n",
    "        [\n",
    "            Kpet_corn,\n",
    "            Kpet_cotton,\n",
    "            Kpet_rice,\n",
    "            Kpet_sorghum,\n",
    "            Kpet_soybeans,\n",
    "            Kpet_wheat,\n",
    "            jnp.ones(365),\n",
    "        ]\n",
    "    )\n",
    "    Kpet = jnp.average(Kpets, weights=weights, axis=0)\n",
    "\n",
    "    # params that WBM sees\n",
    "    awCap_scaled = 2 * awCap_scalar * awCap\n",
    "    wiltingp_scaled = 2 * wiltingp_scalar * wiltingp\n",
    "\n",
    "    alpha = (\n",
    "        1.0\n",
    "        + (alpha_claycoef * clayfrac)\n",
    "        + (alpha_sandcoef * sandfrac)\n",
    "        + (alpha_siltcoef * siltfrac)\n",
    "    )\n",
    "    betaHBV = (\n",
    "        1.0\n",
    "        + (betaHBV_claycoef * clayfrac)\n",
    "        + (betaHBV_sandcoef * sandfrac)\n",
    "        + (betaHBV_siltcoef * siltfrac)\n",
    "        + (betaHBV_elevcoef * elev_std)\n",
    "    )\n",
    "\n",
    "    params = (Ts, Tm, wiltingp_scaled, awCap_scaled, rootDepth, alpha, betaHBV)\n",
    "\n",
    "    # Make prediction\n",
    "    prediction = wbm_jax(\n",
    "        tas, prcp, Kpet, Ws_init, Wi_init, Sp_init, lai, lats, params\n",
    "    )\n",
    "\n",
    "    return prediction, alpha, betaHBV, awCap_scaled, wiltingp_scaled, Kpet, other\n",
    "    # return prediction"
   ]
  },
  {
   "cell_type": "code",
   "execution_count": 38,
   "id": "872cd39f-2c1b-43e6-9728-2e23ff7c6b31",
   "metadata": {},
   "outputs": [],
   "source": [
    "ixy = 14044 \n",
    "\n",
    "params = (\n",
    "        -1.,\n",
    "        1.,\n",
    "    x_maps[ixy, 1] * np.exp(df['wiltingp_scalar'].iloc[0]),\n",
    "    x_maps[ixy, 0] * np.exp(df['awCap_scalar'].iloc[0]),\n",
    "        1.,\n",
    "        alpha,\n",
    "        betaHBV,\n",
    "    )\n",
    "\n",
    "out = wbm_jax(\n",
    "    x_forcing_nt[ixy, 0, :],\n",
    "    x_forcing_nt[ixy, 1, :],\n",
    "    np.ones(365),\n",
    "    ys[ixy, 0],\n",
    "    0.,\n",
    "    0.,\n",
    "    x_forcing_nyrs[ixy, :],\n",
    "    lat,\n",
    "    params,\n",
    ")\n",
    "\n",
    "# # plt.plot(out)\n",
    "# prediction, alpha, betaHBV, awCap_scaled, wiltingp_scaled, Kpet, other = make_prediction_main(theta_df, constants, x_forcing_nt[ixy,:,:], x_forcing_nyrs[ixy,:], x_maps[ixy,:])\n",
    "# # prediction = make_prediction_main(theta_df, constants, x_forcing_nt[ixy,:,:], x_forcing_nyrs[ixy,:], x_maps[ixy,:])\n",
    "# plt.plot(prediction)"
   ]
  },
  {
   "cell_type": "code",
   "execution_count": 39,
   "id": "efb93a99-d282-4296-87ad-6cf1c70a18d4",
   "metadata": {},
   "outputs": [
    {
     "data": {
      "text/plain": [
       "Array([422.1862793 , 214.45167391, 213.16115769, ..., 214.24362143,\n",
       "       212.04520818, 212.2010234 ], dtype=float64)"
      ]
     },
     "execution_count": 39,
     "metadata": {},
     "output_type": "execute_result"
    }
   ],
   "source": [
    "out"
   ]
  },
  {
   "cell_type": "code",
   "execution_count": 37,
   "id": "e229461e-c946-4ef9-96e1-8ee015de794b",
   "metadata": {},
   "outputs": [],
   "source": [
    "jax.config.update(\"jax_enable_x64\", True)"
   ]
  },
  {
   "cell_type": "code",
   "execution_count": 33,
   "id": "c0e8ff21-61fc-4653-a45b-5bf693694585",
   "metadata": {},
   "outputs": [],
   "source": [
    "from jax import config\n",
    "config.update(\"jax_debug_nans\", True)"
   ]
  },
  {
   "cell_type": "code",
   "execution_count": 23,
   "id": "a5f08fd5-42ad-49b5-a0bb-f02f14ced4a4",
   "metadata": {},
   "outputs": [],
   "source": [
    "from functools import partial\n",
    "\n",
    "import jax\n",
    "import jax.numpy as jnp\n",
    "\n",
    "\n",
    "###############################\n",
    "# STATE UPDATE FUNCTION\n",
    "###############################\n",
    "@jax.jit\n",
    "def update_state(state, forcing, params):\n",
    "    \"\"\"\n",
    "    Stateless update function for WBM soil moisture simulation.\n",
    "    \"\"\"\n",
    "\n",
    "    # Retrieve previous iteration values\n",
    "    Ws_prev, Wi, Sp = state\n",
    "\n",
    "    # Retrieve parameter values\n",
    "    (\n",
    "        Ts,\n",
    "        Tm,\n",
    "        wiltingp,\n",
    "        alpha,\n",
    "        betaHBV,\n",
    "        Wcap,\n",
    "        phi,\n",
    "    ) = params\n",
    "\n",
    "    # Retrieve forcing\n",
    "    tas, prcp, lai, Kpet, doy = forcing\n",
    "\n",
    "    # PET function\n",
    "    def calculate_potential_evapotranspiration(tas, doy, phi):\n",
    "        \"\"\"\n",
    "        Inputs:\n",
    "         - tas: daily mean temperature [C]\n",
    "         - N:   day of year\n",
    "         - phi: latitude [deg]\n",
    "        Outputs:\n",
    "         - daily potential evapotranspiration calculated via the Hamon method [mm]\n",
    "        Notes: (e.g.) http://data.snap.uaf.edu/data/Base/AK_2km/PET/Hamon_PET_equations.pdf\n",
    "        \"\"\"\n",
    "\n",
    "        # Calculate solar declination (delta)\n",
    "        delta = -23.44 * jnp.cos(jnp.radians((360 / 365) * (doy + 10)))\n",
    "\n",
    "        # Calculate fractional day length (Lambda)\n",
    "        pi = 3.14159265359\n",
    "        Lambda = (1 / pi) * jnp.arccos(\n",
    "            -jnp.tan(jnp.radians(phi)) * jnp.tan(jnp.radians(delta))\n",
    "        )\n",
    "\n",
    "        # Calculate saturation vapor pressure\n",
    "        tas_gt_zero = tas > 0\n",
    "        Psat = (\n",
    "            tas_gt_zero * (0.61078 * jnp.exp((17.26939 * tas) / (tas + 237.3)))\n",
    "        ) + (\n",
    "            (1 - tas_gt_zero)\n",
    "            * (0.61078 * jnp.exp((21.87456 * tas) / (tas + 265.5)))\n",
    "        )\n",
    "\n",
    "        # Calculate saturation vapor density (rho_sat)\n",
    "        rho_sat = (2.167 * Psat) / (tas + 273.15)\n",
    "\n",
    "        # Calculate potential evapotranspiration (PET)\n",
    "        PET = 330.2 * Lambda * rho_sat\n",
    "\n",
    "        return PET\n",
    "\n",
    "    ######################################\n",
    "    # Begin simulation\n",
    "    ######################################\n",
    "\n",
    "    ################\n",
    "    # Snowfall\n",
    "    ################\n",
    "    # Precipitation is assumed to be entirely snow/rain\n",
    "    # if temperature is below/above threshold (Ts)\n",
    "    is_snowfall = tas < -Ts\n",
    "\n",
    "    Ps = (is_snowfall * prcp) + ((1 - is_snowfall) * 0.0)\n",
    "    Pa = (is_snowfall * 0.0) + ((1 - is_snowfall) * prcp)\n",
    "\n",
    "    Sp = Sp + Ps\n",
    "\n",
    "    ################\n",
    "    # Snowmelt\n",
    "    ################\n",
    "    # Snowmelt is assumed to occur if temperature\n",
    "    # is above a threshold (Tm), but is limited to\n",
    "    # the volume of the snowpack\n",
    "    is_snowmelt = tas > Tm\n",
    "    Ms = is_snowmelt * (2.63 + 2.55 * tas + 0.0912 * tas * Pa) + (\n",
    "        (1 - is_snowmelt) * 0.0\n",
    "    )\n",
    "\n",
    "    snowmelt_gt_snowpack = Ms > Sp\n",
    "    Ms = (snowmelt_gt_snowpack * Sp) + ((1 - snowmelt_gt_snowpack) * Ms)\n",
    "    Sp = (snowmelt_gt_snowpack * 0.0) + (\n",
    "        (1 - snowmelt_gt_snowpack) * (Sp - Ms)\n",
    "    )\n",
    "\n",
    "    #########################\n",
    "    # Canopy & throughfall\n",
    "    #########################\n",
    "    # Maximum canopy storage scales with LAI\n",
    "    Wi_max = 0.25 * lai\n",
    "\n",
    "    # Open water evaporation rate assumed to be PET\n",
    "    Eow = calculate_potential_evapotranspiration(tas, doy, phi)\n",
    "    # Canopy evaporation\n",
    "    Ec = Eow * ((Wi / Wi_max) ** 0.6666667)\n",
    "\n",
    "    # Throughfall is rainfall minus (canopy storage plus canopy evaporation)\n",
    "    # Throughfall if zero if all rainfall goes to canopy\n",
    "    canopy_full = Wi_max < Wi + Pa - Ec\n",
    "    Pt = (canopy_full * (Pa - Ec - (Wi_max - Wi))) + ((1 - canopy_full) * 0.0)\n",
    "\n",
    "    # Update canopy storage\n",
    "    canopy_space = Wi + (Pa - Pt) - Ec <= Wi_max\n",
    "    canopy_leftover = Wi + (Pa - Pt) - Ec > 0.0\n",
    "\n",
    "    Wi = (\n",
    "        ((canopy_space * canopy_leftover) * (Wi + (Pa - Pt) - Ec))\n",
    "        + ((canopy_space * (1 - canopy_leftover)) * 0.0)\n",
    "        + ((1 - canopy_space) * Wi_max)\n",
    "    )\n",
    "\n",
    "    ########################\n",
    "    # Evapotranspiration\n",
    "    ########################\n",
    "    # Potential ET scales with (annual) coefficient\n",
    "    PET = Kpet * calculate_potential_evapotranspiration(tas, doy, phi)\n",
    "\n",
    "    # Calculate actual evapotranspiration\n",
    "    # Actual ET is limited by water availability (throughfall + snowmelt)\n",
    "    # otherwise the difference is scaled by drying function\n",
    "    avail_water = (Pt + Ms) >= PET\n",
    "    AET = (avail_water * PET) + (\n",
    "        (1 - avail_water)\n",
    "        * ((1 - jnp.exp(-alpha * Ws_prev / Wcap)) / (1 - jnp.exp(-alpha)))\n",
    "        * (PET - Pt - Ms)\n",
    "    )\n",
    "\n",
    "    ################\n",
    "    # Runoff\n",
    "    ################\n",
    "    # HBV direct groundwater recharge (can also be thought of as runoff)\n",
    "    # scales nonlinearly with saturation in the active zone\n",
    "    # Direct groundwater recharge (HBV)\n",
    "    Ws_prev = jnp.maximum(Ws_prev, Wcap)\n",
    "    Id = (Pt + Ms) * (Ws_prev / Wcap) ** betaHBV\n",
    "\n",
    "    ################\n",
    "    # Soil moisture\n",
    "    ################\n",
    "    # Soil surplus is the leftover water after saturating soils\n",
    "    # It gets partitioned to more runoff and groundwater recharge\n",
    "    soil_full = Wcap < Ws_prev + (Pt + Ms - Id) - AET\n",
    "    S = (soil_full * (Ws_prev + (Pt + Ms - Id) - AET - Wcap)) + (\n",
    "        (1 - soil_full) * 0.0\n",
    "    )\n",
    "\n",
    "    # Update soil moisture\n",
    "    Ws_new = Ws_prev + (Pt + Ms - Id) - AET - S\n",
    "\n",
    "    # Soil moisture must be positive\n",
    "    Ws_new = jnp.maximum(Ws_new, 0.0)\n",
    "\n",
    "    # Soil moisture out (+ wilting point)\n",
    "    Ws_out = Ws_new + wiltingp\n",
    "\n",
    "    return (Ws_new, Wi, Sp), Ws_out\n",
    "\n",
    "\n",
    "###############################\n",
    "# RUN WBM FUNCTION\n",
    "###############################\n",
    "@jax.jit\n",
    "def wbm_jax(\n",
    "    tas,\n",
    "    prcp,\n",
    "    Kpet,\n",
    "    Ws_init,\n",
    "    Wi_init,\n",
    "    Sp_init,\n",
    "    lai,\n",
    "    phi,\n",
    "    params,\n",
    "):\n",
    "    \"\"\"\n",
    "    Run JAX version of WBM.\n",
    "    \"\"\"\n",
    "\n",
    "    # Read parameters (must be correct order!)\n",
    "    (\n",
    "        Ts,\n",
    "        Tm,\n",
    "        wiltingp,\n",
    "        awCap,\n",
    "        rootDepth,\n",
    "        alpha,\n",
    "        betaHBV,\n",
    "    ) = params\n",
    "\n",
    "    # Soil moisture capacity\n",
    "    Wcap = awCap * rootDepth\n",
    "    wiltingp_scaled = wiltingp * rootDepth\n",
    "\n",
    "    # Prepare passing to jax lax scan\n",
    "    n_yrs = int(tas.shape[0] / 365)\n",
    "    doy_rep = jnp.tile(jnp.arange(1, 366), n_yrs)\n",
    "    Kpet_rep = jnp.tile(Kpet, n_yrs)\n",
    "    lai_rep = jnp.tile(lai, n_yrs)\n",
    "\n",
    "    scan_forcing = jnp.stack([tas, prcp, lai_rep, Kpet_rep, doy_rep], axis=1)\n",
    "    scan_forcing = scan_forcing[1:,]  # skip first day since provided by init\n",
    "\n",
    "    scan_params = (\n",
    "        Ts,\n",
    "        Tm,\n",
    "        wiltingp_scaled,\n",
    "        alpha,\n",
    "        betaHBV,\n",
    "        Wcap,\n",
    "        phi,\n",
    "    )\n",
    "\n",
    "    # Update function\n",
    "    update_fn = partial(update_state, params=scan_params)\n",
    "\n",
    "    # Initial conditions\n",
    "    init = (jnp.maximum(Ws_init - wiltingp_scaled, 0.0), Wi_init, Sp_init)\n",
    "\n",
    "    # Run it\n",
    "    outs, Ws_out = jax.lax.scan(update_fn, init, scan_forcing)\n",
    "\n",
    "    return jnp.insert(\n",
    "        Ws_out, 0, Ws_init\n",
    "    )  # return with initial condition included"
   ]
  },
  {
   "cell_type": "code",
   "execution_count": null,
   "id": "c8d37388-a706-4551-9d6a-ae8d49ce219d",
   "metadata": {},
   "outputs": [],
   "source": []
  },
  {
   "cell_type": "code",
   "execution_count": null,
   "id": "af9b6e53-bab4-4cd1-8553-86d3065a4abd",
   "metadata": {},
   "outputs": [],
   "source": []
  },
  {
   "cell_type": "code",
   "execution_count": 328,
   "id": "3ad5fd4b-6c29-44de-8b9b-ab68cabd359e",
   "metadata": {},
   "outputs": [
    {
     "data": {
      "text/plain": [
       "Array(108.15384, dtype=float32)"
      ]
     },
     "execution_count": 328,
     "metadata": {},
     "output_type": "execute_result"
    }
   ],
   "source": [
    "x_maps[ixy, 1] * np.exp(df['wiltingp_scalar'].iloc[0])"
   ]
  },
  {
   "cell_type": "code",
   "execution_count": 331,
   "id": "2d84e45a-ba17-4236-8e36-88b2f51d06e4",
   "metadata": {},
   "outputs": [
    {
     "data": {
      "text/plain": [
       "Array(106.29784, dtype=float32)"
      ]
     },
     "execution_count": 331,
     "metadata": {},
     "output_type": "execute_result"
    }
   ],
   "source": [
    "x_maps[ixy, 0] * np.exp(df['awCap_scalar'].iloc[0])"
   ]
  },
  {
   "cell_type": "code",
   "execution_count": 329,
   "id": "ca2753eb-ba8e-4d13-8214-5458662e3487",
   "metadata": {},
   "outputs": [
    {
     "data": {
      "text/plain": [
       "Array(82.24851, dtype=float32)"
      ]
     },
     "execution_count": 329,
     "metadata": {},
     "output_type": "execute_result"
    }
   ],
   "source": [
    "awCap_scaled"
   ]
  },
  {
   "cell_type": "code",
   "execution_count": 330,
   "id": "d6e493e7-650c-4598-9178-0ddd5f2d5535",
   "metadata": {},
   "outputs": [
    {
     "data": {
      "text/plain": [
       "Array(126.5565, dtype=float32)"
      ]
     },
     "execution_count": 330,
     "metadata": {},
     "output_type": "execute_result"
    }
   ],
   "source": [
    "wiltingp_scaled"
   ]
  },
  {
   "cell_type": "code",
   "execution_count": null,
   "id": "c1983810-bca3-401b-ac7b-a5dd3e8e9882",
   "metadata": {},
   "outputs": [],
   "source": []
  },
  {
   "cell_type": "code",
   "execution_count": null,
   "id": "68f58605-a9ad-480c-9552-d62cb63a5af1",
   "metadata": {},
   "outputs": [],
   "source": []
  },
  {
   "cell_type": "code",
   "execution_count": null,
   "id": "38dd042d-223b-4777-a3ba-2689768ad1b9",
   "metadata": {},
   "outputs": [],
   "source": []
  },
  {
   "cell_type": "code",
   "execution_count": null,
   "id": "316af264-0747-46d1-ad83-39d75dc5a228",
   "metadata": {},
   "outputs": [],
   "source": []
  },
  {
   "cell_type": "code",
   "execution_count": 188,
   "id": "171a2bd3-aaf3-4628-83ec-98ddea9d0087",
   "metadata": {},
   "outputs": [
    {
     "data": {
      "text/plain": [
       "[<matplotlib.lines.Line2D at 0x14d5d7e84110>]"
      ]
     },
     "execution_count": 188,
     "metadata": {},
     "output_type": "execute_result"
    },
    {
     "data": {
      "image/png": "[encoded data removed]",
      "text/plain": [
       "<Figure size 640x480 with 1 Axes>"
      ]
     },
     "metadata": {},
     "output_type": "display_data"
    }
   ],
   "source": [
    "# plt.plot(out)\n",
    "plt.plot(loss[2518,:])"
   ]
  },
  {
   "cell_type": "code",
   "execution_count": 97,
   "id": "7983ea96-c2a2-48a3-8c06-c5b27c1b8191",
   "metadata": {},
   "outputs": [],
   "source": [
    "pred_loss_value = jax.jit(jax.vmap(prediction_loss, in_axes=(None, None, 0, 0, 0, 0), out_axes=0))"
   ]
  },
  {
   "cell_type": "code",
   "execution_count": 15,
   "id": "5a590b1b-ff7f-45a9-8c32-6e7f1b37985a",
   "metadata": {},
   "outputs": [],
   "source": [
    "theta_init = jnp.array([-6.0781652e-01, -7.4462712e-01,  3.5184588e+00,  5.4686189e-01,\n",
    "       -1.0913883e+00,  5.2840942e-01,  3.4589937e+00, -2.6044300e+00,\n",
    "        2.7951126e+00,  4.9484010e+00,  5.6696477e+00, -2.0681891e+00,\n",
    "       -1.6069070e+00, -9.8562026e-01, -1.9708636e+00,  3.7333626e-01,\n",
    "       -8.5588342e-01, -1.3457820e+00,  1.3749516e-01,  4.7659159e+00,\n",
    "        5.6544399e+00, -1.6361110e+00, -1.0592579e+00, -1.8263711e+00,\n",
    "       -6.5376675e-01,  5.3482950e-02, -8.1026787e-01, -1.2710721e+00,\n",
    "        3.3735830e-01,  4.8072858e+00,  5.3927007e+00, -1.6410534e+00,\n",
    "       -1.2736772e+00, -9.1073114e-01,  2.8500117e-02,  1.2802005e-01,\n",
    "       -2.9407603e-01, -2.9304323e-01,  2.0585996e-03,  4.8657904e+00,\n",
    "        5.7590842e+00, -2.1941569e+00, -1.6112928e+00, -1.3542119e+00,\n",
    "       -2.1762712e+00,  4.2314015e-02, -3.0457318e-01, -1.3361717e+00,\n",
    "        1.5368794e-01,  4.3093610e+00,  5.8076801e+00, -2.6438172e+00,\n",
    "       -2.1497254e+00, -1.0340763e+00, -1.2143546e+00,  2.7606837e-02,\n",
    "       -3.8350862e-01, -6.1475533e-01,  1.8734965e-01,  4.1830583e+00,\n",
    "        5.3854079e+00, -1.7294077e+00, -1.2242651e+00, -9.2366338e-01,\n",
    "       -1.3280846e+00,  1.1299133e-01, -1.3014480e+00, -1.0776204e+00,\n",
    "        8.0365327e-04])"
   ]
  },
  {
   "cell_type": "code",
   "execution_count": 177,
   "id": "d7885a94-5b5f-40b4-8aee-d9307186b6b1",
   "metadata": {},
   "outputs": [],
   "source": [
    "def reg_loss(theta, initial_params, params_lower, params_upper):\n",
    "        return jnp.nansum((theta - initial_params)**2 / ((theta - params_lower) * (params_upper - theta)))"
   ]
  },
  {
   "cell_type": "code",
   "execution_count": 178,
   "id": "7603e5a2-06de-4dc8-8724-4d319472d353",
   "metadata": {},
   "outputs": [],
   "source": [
    "def prediction(theta, constants, x_forcing_nt, x_forcing_nyrs, x_maps, ys):\n",
    "        return make_prediction_main(theta, constants, x_forcing_nt, x_forcing_nyrs, x_maps)"
   ]
  },
  {
   "cell_type": "code",
   "execution_count": 179,
   "id": "ce81b869-1223-4fb4-999a-12c2f22e7f15",
   "metadata": {},
   "outputs": [],
   "source": [
    "loss = pred_loss_value(theta_init, constants, x_forcing_nt, x_forcing_nyrs, x_maps, ys)"
   ]
  },
  {
   "cell_type": "code",
   "execution_count": 180,
   "id": "cd61f453-f4b1-496d-a10d-fa18d3b15d97",
   "metadata": {},
   "outputs": [
    {
     "data": {
      "text/plain": [
       "Array(20884, dtype=int32)"
      ]
     },
     "execution_count": 180,
     "metadata": {},
     "output_type": "execute_result"
    }
   ],
   "source": [
    "jnp.isnan(loss).any(axis=1).sum()"
   ]
  },
  {
   "cell_type": "code",
   "execution_count": 67,
   "id": "3ded0089-2ebc-4bf3-8807-859b67e255bf",
   "metadata": {},
   "outputs": [],
   "source": [
    "# Construct xr \n",
    "import xarray as xr\n",
    "ds_grid = xr.open_dataset(f\"{project_data_path}/WBM/calibration/{subset_name}/{obs_name}/{obs_name}_validation.nc\")\n",
    "lons = ds_grid.lon\n",
    "lats = ds_grid.lat"
   ]
  },
  {
   "cell_type": "code",
   "execution_count": 68,
   "id": "7064ba96-cafa-4e21-b1f7-2dc970bc84b4",
   "metadata": {},
   "outputs": [
    {
     "data": {
      "text/plain": [
       "(317,)"
      ]
     },
     "execution_count": 68,
     "metadata": {},
     "output_type": "execute_result"
    }
   ],
   "source": [
    "lons.shape"
   ]
  },
  {
   "cell_type": "code",
   "execution_count": 69,
   "id": "df375ab4-b2eb-4bb5-bebd-2b20bccb4b36",
   "metadata": {},
   "outputs": [
    {
     "data": {
      "text/plain": [
       "(194,)"
      ]
     },
     "execution_count": 69,
     "metadata": {},
     "output_type": "execute_result"
    }
   ],
   "source": [
    "lats.shape"
   ]
  },
  {
   "cell_type": "code",
   "execution_count": 72,
   "id": "21143915-a16b-4cc3-9c35-896539006bcc",
   "metadata": {},
   "outputs": [
    {
     "data": {
      "text/plain": [
       "(194, 317, 2555)"
      ]
     },
     "execution_count": 72,
     "metadata": {},
     "output_type": "execute_result"
    }
   ],
   "source": [
    "loss.reshape(len(lats), len(lons), loss.shape[1]).shape"
   ]
  },
  {
   "cell_type": "code",
   "execution_count": 74,
   "id": "db68c6de-cbd5-4cfb-9dd2-f24784c81791",
   "metadata": {},
   "outputs": [
    {
     "data": {
      "text/plain": [
       "<matplotlib.image.AxesImage at 0x14d5e0b245d0>"
      ]
     },
     "execution_count": 74,
     "metadata": {},
     "output_type": "execute_result"
    },
    {
     "data": {
      "image/png": "[encoded data removed]",
      "text/plain": [
       "<Figure size 640x480 with 1 Axes>"
      ]
     },
     "metadata": {},
     "output_type": "display_data"
    }
   ],
   "source": [
    "plt.imshow(loss.reshape(len(lons), len(lats), loss.shape[1])[:,:,1])"
   ]
  },
  {
   "cell_type": "code",
   "execution_count": 109,
   "id": "64f765f5-5850-421b-93de-b9c807d64268",
   "metadata": {},
   "outputs": [
    {
     "data": {
      "text/plain": [
       "(30841, 2555)"
      ]
     },
     "execution_count": 109,
     "metadata": {},
     "output_type": "execute_result"
    }
   ],
   "source": [
    "loss.shape"
   ]
  },
  {
   "cell_type": "code",
   "execution_count": 131,
   "id": "03e47ed0-575f-4cea-aa60-b65e2eaa6acb",
   "metadata": {},
   "outputs": [
    {
     "data": {
      "text/plain": [
       "[<matplotlib.lines.Line2D at 0x14d5de479410>]"
      ]
     },
     "execution_count": 131,
     "metadata": {},
     "output_type": "execute_result"
    },
    {
     "data": {
      "image/png": "[encoded data removed]",
      "text/plain": [
       "<Figure size 640x480 with 1 Axes>"
      ]
     },
     "metadata": {},
     "output_type": "display_data"
    }
   ],
   "source": [
    "plt.plot(loss[10,:])"
   ]
  },
  {
   "cell_type": "code",
   "execution_count": 107,
   "id": "59dfcf30-a2b3-4714-8391-1203134965e1",
   "metadata": {},
   "outputs": [
    {
     "data": {
      "text/plain": [
       "[<matplotlib.lines.Line2D at 0x14d5e03d9d50>]"
      ]
     },
     "execution_count": 107,
     "metadata": {},
     "output_type": "execute_result"
    },
    {
     "data": {
      "image/png": "[encoded data removed]",
      "text/plain": [
       "<Figure size 640x480 with 1 Axes>"
      ]
     },
     "metadata": {},
     "output_type": "display_data"
    }
   ],
   "source": [
    "plt.plot(loss[0,:])"
   ]
  },
  {
   "cell_type": "code",
   "execution_count": null,
   "id": "2b252320-d469-4f6d-a5ef-54cc1dcc93c9",
   "metadata": {},
   "outputs": [],
   "source": []
  },
  {
   "cell_type": "markdown",
   "id": "f746119c-d74f-4f54-a3d3-62809522617a",
   "metadata": {},
   "source": [
    "### SMAP"
   ]
  },
  {
   "cell_type": "code",
   "execution_count": 15,
   "id": "d66c3bf2-ed26-4d19-bdde-66530af5c656",
   "metadata": {},
   "outputs": [],
   "source": [
    "# Info\n",
    "subset_name = 'centralUS'\n",
    "obs_name = 'SMAP'"
   ]
  },
  {
   "cell_type": "code",
   "execution_count": 16,
   "id": "efa2c1fc-9f0b-45f1-9e72-e4dcb035f9f2",
   "metadata": {},
   "outputs": [],
   "source": [
    "# Get dimensions\n",
    "ys, _, _, _ = read_inputs(subset_name, obs_name, True)\n",
    "Nspace = ys.shape[0]\n",
    "Ntime = ys.shape[1]\n",
    "\n",
    "# Get validation indices\n",
    "val_frac = 0.2\n",
    "val_inds_all = np.array_split(np.random.permutation(Nspace), 1/val_frac)"
   ]
  },
  {
   "cell_type": "code",
   "execution_count": 17,
   "id": "3d5f2c94-bffc-44d2-af8d-68b0d7339f44",
   "metadata": {},
   "outputs": [
    {
     "name": "stdout",
     "output_type": "stream",
     "text": [
      "Epoch 0 pred loss: 139.7927, reg_loss: 109.3204, val loss: 140.4135\n",
      "Epoch 1 total loss: 135.2182, pred loss: 135.1628, reg_loss: 55.4158, val loss: 130.9500\n",
      "Epoch 6 total loss: 77.2987, pred loss: 77.2152, reg_loss: 83.5444, val loss: 71.2894\n",
      "Epoch 11 total loss: 40.2665, pred loss: 40.2246, reg_loss: 41.9135, val loss: 39.6651\n",
      "Epoch 16 total loss: 35.5767, pred loss: 35.5234, reg_loss: 53.3870, val loss: 35.3186\n",
      "Epoch 21 total loss: 34.5100, pred loss: 34.4479, reg_loss: 62.0669, val loss: 34.5404\n",
      "CPU times: user 21min 45s, sys: 9.08 s, total: 21min 54s\n",
      "Wall time: 22min 2s\n"
     ]
    }
   ],
   "source": [
    "%%time\n",
    "_error_fn = _rmse\n",
    "error_fn_name = 'rmse'\n",
    "\n",
    "train_loss_out, pred_loss_out, reg_loss_out, val_loss_out, theta = train_and_store(subset_name = subset_name,\n",
    "                                                                                   obs_name = obs_name,\n",
    "                                                                                   _error_fn = _error_fn,\n",
    "                                                                                   val_inds = val_inds_all[0],\n",
    "                                                                                   learning_rate = 1e-4,\n",
    "                                                                                   error_fn_name = error_fn_name,\n",
    "                                                                                   param_names = param_names,\n",
    "                                                                                   n_epochs = 20)"
   ]
  },
  {
   "cell_type": "code",
   "execution_count": null,
   "id": "bb585a73-c848-4fc4-868b-70444a9a2e3c",
   "metadata": {},
   "outputs": [],
   "source": []
  },
  {
   "cell_type": "code",
   "execution_count": null,
   "id": "d407c66f-a715-4783-b635-136ea851c22a",
   "metadata": {},
   "outputs": [],
   "source": []
  },
  {
   "cell_type": "code",
   "execution_count": 24,
   "id": "58ccef39-b939-40ad-b694-0cd667d7a9da",
   "metadata": {},
   "outputs": [
    {
     "name": "stdout",
     "output_type": "stream",
     "text": [
      "CPU times: user 6min 41s, sys: 27.7 s, total: 7min 8s\n",
      "Wall time: 51min 12s\n"
     ]
    }
   ],
   "source": [
    "%%time\n",
    "# Parallelize with dask delayed\n",
    "delayed = []\n",
    "\n",
    "for _error_fn, error_fn_name in zip(_error_fns, error_fn_names):\n",
    "    for _ in range(4):\n",
    "        for val_inds in val_inds_all:\n",
    "            delayed.append(dask.delayed(train_and_store)(subset_name = subset_name,\n",
    "                                                         obs_name = obs_name,\n",
    "                                                         _error_fn = _error_fn,\n",
    "                                                         error_fn_name = error_fn_name,\n",
    "                                                         val_inds = val_inds))\n",
    "\n",
    "_ = dask.compute(*delayed)"
   ]
  },
  {
   "cell_type": "markdown",
   "id": "2b78298f-5adc-4abe-9c51-0e8d4699cc6e",
   "metadata": {},
   "source": [
    "### VIC"
   ]
  },
  {
   "cell_type": "code",
   "execution_count": 13,
   "id": "b521f9df-98f6-48a2-aa33-a8c015979e09",
   "metadata": {},
   "outputs": [],
   "source": [
    "# Info\n",
    "subset_name = 'centralUS'\n",
    "obs_name = 'VIC'"
   ]
  },
  {
   "cell_type": "code",
   "execution_count": 14,
   "id": "349d5a80-eb75-4f6b-a28e-5120215ada8d",
   "metadata": {},
   "outputs": [
    {
     "name": "stdout",
     "output_type": "stream",
     "text": [
      "Epoch 0 pred loss: 151.2948, reg_loss: 210.8976, val loss: nan\n",
      "Epoch 1 total loss: 145.2396, pred loss: 144.4348, reg_loss: 80.4860, val loss: nan\n",
      "Epoch 6 total loss: 69.4841, pred loss: 69.0368, reg_loss: 44.7317, val loss: nan\n",
      "Epoch 11 total loss: 43.8797, pred loss: 43.6616, reg_loss: 21.8073, val loss: nan\n",
      "Epoch 16 total loss: 33.9699, pred loss: 33.7160, reg_loss: 25.3886, val loss: nan\n",
      "Epoch 21 total loss: 29.3166, pred loss: 29.0769, reg_loss: 23.9760, val loss: nan\n",
      "Epoch 26 total loss: 26.9986, pred loss: 26.7692, reg_loss: 22.9425, val loss: nan\n",
      "Epoch 31 total loss: 26.6741, pred loss: 26.4396, reg_loss: 23.4555, val loss: nan\n"
     ]
    }
   ],
   "source": [
    "# soil class scalar using log, random start, scaled\n",
    "_error_fn = _rmse\n",
    "error_fn_name = 'rmse'\n",
    "\n",
    "train_loss_out, pred_loss_out, reg_loss_out, val_loss_out, theta = train_and_store(subset_name = subset_name,\n",
    "                                                                                   obs_name = obs_name,\n",
    "                                                                                   _error_fn = _error_fn,\n",
    "                                                                                   error_fn_name = error_fn_name,\n",
    "                                                                                   learning_rate = 0.001,\n",
    "                                                                                   n_epochs = 30,\n",
    "                                                                                   val_frac = 0.0)"
   ]
  },
  {
   "cell_type": "code",
   "execution_count": null,
   "id": "6c5ab6a6-8fb7-4278-89b5-36201d682b20",
   "metadata": {},
   "outputs": [],
   "source": []
  },
  {
   "cell_type": "code",
   "execution_count": null,
   "id": "bdb46dd6-c971-4c2a-a6fe-7b41afec608f",
   "metadata": {},
   "outputs": [],
   "source": []
  },
  {
   "cell_type": "code",
   "execution_count": 12,
   "id": "cb1b7ab2-0ffd-4dfb-8e0e-315c78e7be37",
   "metadata": {},
   "outputs": [
    {
     "name": "stdout",
     "output_type": "stream",
     "text": [
      "Epoch 0 pred loss: 193.0402, reg_loss: 275.4830, val loss: nan\n",
      "Epoch 1 total loss: 188.6235, pred loss: 187.8289, reg_loss: 79.4585, val loss: nan\n",
      "Epoch 6 total loss: 126.1107, pred loss: 125.7390, reg_loss: 37.1648, val loss: nan\n",
      "Epoch 11 total loss: 72.8450, pred loss: 72.5604, reg_loss: 28.4649, val loss: nan\n",
      "Epoch 16 total loss: 46.6197, pred loss: 46.3994, reg_loss: 22.0373, val loss: nan\n",
      "Epoch 21 total loss: 37.7458, pred loss: 37.4790, reg_loss: 26.6730, val loss: nan\n",
      "Epoch 26 total loss: 33.6993, pred loss: 33.4204, reg_loss: 27.8836, val loss: nan\n",
      "Epoch 31 total loss: 32.5981, pred loss: 32.3313, reg_loss: 26.6761, val loss: nan\n"
     ]
    }
   ],
   "source": [
    "# soil class scalar using log, random start\n",
    "_error_fn = _rmse\n",
    "error_fn_name = 'rmse'\n",
    "\n",
    "train_loss_out, pred_loss_out, reg_loss_out, val_loss_out, theta = train_and_store(subset_name = subset_name,\n",
    "                                                                                   obs_name = obs_name,\n",
    "                                                                                   _error_fn = _error_fn,\n",
    "                                                                                   error_fn_name = error_fn_name,\n",
    "                                                                                   learning_rate = 0.001,\n",
    "                                                                                   n_epochs = 30,\n",
    "                                                                                   val_frac = 0.0)"
   ]
  },
  {
   "cell_type": "code",
   "execution_count": 17,
   "id": "14e21297-78f4-4e48-9d83-e56fdcd9ead9",
   "metadata": {},
   "outputs": [
    {
     "name": "stdout",
     "output_type": "stream",
     "text": [
      "Epoch 0 pred loss: 135.3471, reg_loss: 619.0754, val loss: nan\n",
      "Epoch 1 total loss: 117.6131, pred loss: 116.4815, reg_loss: 113.1661, val loss: nan\n",
      "Epoch 6 total loss: 51.9875, pred loss: 51.4211, reg_loss: 56.6422, val loss: nan\n",
      "Epoch 11 total loss: 42.1469, pred loss: 41.7205, reg_loss: 42.6382, val loss: nan\n",
      "Epoch 16 total loss: 38.3026, pred loss: 37.9357, reg_loss: 36.6916, val loss: nan\n",
      "Epoch 21 total loss: 36.0634, pred loss: 35.7291, reg_loss: 33.4250, val loss: nan\n",
      "Epoch 26 total loss: 34.8380, pred loss: 34.5312, reg_loss: 30.6831, val loss: nan\n",
      "Epoch 31 total loss: 34.2670, pred loss: 33.9823, reg_loss: 28.4617, val loss: nan\n"
     ]
    }
   ],
   "source": [
    "# NOAH + regression on soil contents using log, random start\n",
    "_error_fn = _rmse\n",
    "error_fn_name = 'rmse'\n",
    "\n",
    "train_loss_out, pred_loss_out, reg_loss_out, val_loss_out, theta = train_and_store(subset_name = subset_name,\n",
    "                                                                                   obs_name = obs_name,\n",
    "                                                                                   _error_fn = _error_fn,\n",
    "                                                                                   error_fn_name = error_fn_name,\n",
    "                                                                                   learning_rate = 0.001,\n",
    "                                                                                   n_epochs = 30,\n",
    "                                                                                   val_frac = 0.0)"
   ]
  },
  {
   "cell_type": "code",
   "execution_count": 20,
   "id": "f507a9f5-188a-4a31-8124-3009179601fb",
   "metadata": {},
   "outputs": [
    {
     "name": "stdout",
     "output_type": "stream",
     "text": [
      "Epoch 0 pred loss: 123.8417, reg_loss: 195.7297, val loss: nan\n",
      "Epoch 1 total loss: 112.4669, pred loss: 111.8620, reg_loss: 60.4960, val loss: nan\n",
      "Epoch 6 total loss: 64.0041, pred loss: 63.6166, reg_loss: 38.7476, val loss: nan\n",
      "Epoch 11 total loss: 48.7567, pred loss: 48.4685, reg_loss: 28.8285, val loss: nan\n",
      "Epoch 16 total loss: 44.0785, pred loss: 43.8326, reg_loss: 24.5905, val loss: nan\n",
      "Epoch 21 total loss: 41.5831, pred loss: 41.3319, reg_loss: 25.1146, val loss: nan\n",
      "Epoch 26 total loss: 39.6683, pred loss: 39.4182, reg_loss: 25.0046, val loss: nan\n",
      "Epoch 31 total loss: 38.1857, pred loss: 37.9466, reg_loss: 23.9035, val loss: nan\n"
     ]
    }
   ],
   "source": [
    "# NOAH, log, random start\n",
    "_error_fn = _rmse\n",
    "error_fn_name = 'rmse'\n",
    "\n",
    "train_loss_out, pred_loss_out, reg_loss_out, val_loss_out, theta = train_and_store(subset_name = subset_name,\n",
    "                                                                                   obs_name = obs_name,\n",
    "                                                                                   _error_fn = _error_fn,\n",
    "                                                                                   error_fn_name = error_fn_name,\n",
    "                                                                                   learning_rate = 0.001,\n",
    "                                                                                   n_epochs = 30,\n",
    "                                                                                   val_frac = 0.0)"
   ]
  },
  {
   "cell_type": "code",
   "execution_count": 15,
   "id": "620a8ab1-74c4-4f45-8eb2-8b9c3f8cbb58",
   "metadata": {},
   "outputs": [
    {
     "name": "stdout",
     "output_type": "stream",
     "text": [
      "Epoch 0 pred loss: 139.6269, reg_loss: 0.0000, val loss: nan\n",
      "Epoch 1 total loss: 115.5750, pred loss: 115.4117, reg_loss: 16.3227, val loss: nan\n",
      "Epoch 6 total loss: 39.4394, pred loss: 39.2534, reg_loss: 18.6035, val loss: nan\n",
      "Epoch 11 total loss: 36.1339, pred loss: 35.9304, reg_loss: 20.3449, val loss: nan\n",
      "Epoch 16 total loss: 34.4622, pred loss: 34.2524, reg_loss: 20.9795, val loss: nan\n",
      "Epoch 21 total loss: 33.8736, pred loss: 33.6661, reg_loss: 20.7497, val loss: nan\n",
      "Epoch 26 total loss: 33.6492, pred loss: 33.4455, reg_loss: 20.3705, val loss: nan\n",
      "Epoch 31 total loss: 33.4985, pred loss: 33.2909, reg_loss: 20.7576, val loss: nan\n"
     ]
    }
   ],
   "source": [
    "# NOAH + regression on soil contents using log\n",
    "_error_fn = _rmse\n",
    "error_fn_name = 'rmse'\n",
    "\n",
    "train_loss_out, pred_loss_out, reg_loss_out, val_loss_out, theta = train_and_store(subset_name = subset_name,\n",
    "                                                                                   obs_name = obs_name,\n",
    "                                                                                   _error_fn = _error_fn,\n",
    "                                                                                   error_fn_name = error_fn_name,\n",
    "                                                                                   learning_rate = 0.001,\n",
    "                                                                                   n_epochs = 30,\n",
    "                                                                                   val_frac = 0.0)"
   ]
  },
  {
   "cell_type": "code",
   "execution_count": 12,
   "id": "85ba39f1-4283-4075-b3ed-00a3e13ec6ef",
   "metadata": {},
   "outputs": [
    {
     "name": "stdout",
     "output_type": "stream",
     "text": [
      "Epoch 0 pred loss: 398.7293, reg_loss: 149.0950, val loss: nan\n",
      "Epoch 1 total loss: 357.0240, pred loss: 356.3212, reg_loss: 70.2793, val loss: nan\n",
      "Epoch 6 total loss: 109.7697, pred loss: 109.0889, reg_loss: 68.0762, val loss: nan\n",
      "Epoch 11 total loss: 55.9770, pred loss: 55.7513, reg_loss: 22.5671, val loss: nan\n",
      "Epoch 16 total loss: 46.4427, pred loss: 46.3075, reg_loss: 13.5284, val loss: nan\n",
      "Epoch 21 total loss: 41.7153, pred loss: 41.5609, reg_loss: 15.4350, val loss: nan\n",
      "Epoch 26 total loss: 39.8752, pred loss: 39.7038, reg_loss: 17.1428, val loss: nan\n",
      "Epoch 31 total loss: 39.2561, pred loss: 39.0825, reg_loss: 17.3580, val loss: nan\n"
     ]
    }
   ],
   "source": [
    "# Regression on soil contents plus intercept using log, random start\n",
    "_error_fn = _rmse\n",
    "error_fn_name = 'rmse'\n",
    "\n",
    "train_loss_out, pred_loss_out, reg_loss_out, val_loss_out, theta = train_and_store(subset_name = subset_name,\n",
    "                                                                                   obs_name = obs_name,\n",
    "                                                                                   _error_fn = _error_fn,\n",
    "                                                                                   error_fn_name = error_fn_name,\n",
    "                                                                                   learning_rate = 0.001,\n",
    "                                                                                   n_epochs = 30,\n",
    "                                                                                   val_frac = 0.0)"
   ]
  },
  {
   "cell_type": "code",
   "execution_count": 27,
   "id": "77d9231b-6c57-48b9-8f63-13dc7f8faf2a",
   "metadata": {},
   "outputs": [
    {
     "name": "stdout",
     "output_type": "stream",
     "text": [
      "Epoch 0 pred loss: 56.6325, reg_loss: 0.0000, val loss: nan\n",
      "Epoch 1 total loss: 49.9408, pred loss: 49.8898, reg_loss: 5.1048, val loss: nan\n",
      "Epoch 6 total loss: 40.4870, pred loss: 40.3236, reg_loss: 16.3395, val loss: nan\n",
      "Epoch 11 total loss: 39.0435, pred loss: 38.8532, reg_loss: 19.0305, val loss: nan\n",
      "Epoch 16 total loss: 38.5324, pred loss: 38.3486, reg_loss: 18.3766, val loss: nan\n",
      "Epoch 21 total loss: 38.1424, pred loss: 37.9535, reg_loss: 18.8949, val loss: nan\n",
      "Epoch 26 total loss: 37.8405, pred loss: 37.6562, reg_loss: 18.4250, val loss: nan\n",
      "Epoch 31 total loss: 37.6220, pred loss: 37.4392, reg_loss: 18.2792, val loss: nan\n"
     ]
    }
   ],
   "source": [
    "# Regression on soil contents plus intercept using log\n",
    "_error_fn = _rmse\n",
    "error_fn_name = 'rmse'\n",
    "\n",
    "train_loss_out, pred_loss_out, reg_loss_out, val_loss_out, theta = train_and_store(subset_name = subset_name,\n",
    "                                                                                   obs_name = obs_name,\n",
    "                                                                                   _error_fn = _error_fn,\n",
    "                                                                                   error_fn_name = error_fn_name,\n",
    "                                                                                   learning_rate = 0.001,\n",
    "                                                                                   n_epochs = 30,\n",
    "                                                                                   val_frac = 0.0)"
   ]
  },
  {
   "cell_type": "code",
   "execution_count": 14,
   "id": "e8c994d7-6090-459a-8da4-0e7d800be859",
   "metadata": {},
   "outputs": [
    {
     "name": "stdout",
     "output_type": "stream",
     "text": [
      "Epoch 0 pred loss: 56.2360, reg_loss: 0.0000, val loss: nan\n",
      "Epoch 1 total loss: 49.7308, pred loss: 49.6789, reg_loss: 5.1875, val loss: nan\n",
      "Epoch 6 total loss: 40.0404, pred loss: 39.8642, reg_loss: 17.6196, val loss: nan\n",
      "Epoch 11 total loss: 39.1196, pred loss: 38.9322, reg_loss: 18.7309, val loss: nan\n",
      "Epoch 16 total loss: 38.4627, pred loss: 38.2776, reg_loss: 18.5110, val loss: nan\n",
      "Epoch 21 total loss: 37.9999, pred loss: 37.8117, reg_loss: 18.8236, val loss: nan\n",
      "Epoch 26 total loss: 37.7233, pred loss: 37.5467, reg_loss: 17.6600, val loss: nan\n",
      "Epoch 31 total loss: 37.5629, pred loss: 37.3785, reg_loss: 18.4447, val loss: nan\n"
     ]
    }
   ],
   "source": [
    "# Regression on soil contents using log\n",
    "_error_fn = _rmse\n",
    "error_fn_name = 'rmse'\n",
    "\n",
    "train_loss_out, pred_loss_out, reg_loss_out, val_loss_out, theta = train_and_store(subset_name = subset_name,\n",
    "                                                                                   obs_name = obs_name,\n",
    "                                                                                   _error_fn = _error_fn,\n",
    "                                                                                   error_fn_name = error_fn_name,\n",
    "                                                                                   learning_rate = 0.001,\n",
    "                                                                                   n_epochs = 30,\n",
    "                                                                                   val_frac = 0.0)"
   ]
  },
  {
   "cell_type": "code",
   "execution_count": 15,
   "id": "b74bf2b8-75a0-4512-bae7-9bbd3ca72e4c",
   "metadata": {},
   "outputs": [
    {
     "name": "stdout",
     "output_type": "stream",
     "text": [
      "Epoch 0 pred loss: 56.2178, reg_loss: 0.0000, val loss: nan\n",
      "Epoch 1 total loss: 54.7293, pred loss: 54.6346, reg_loss: 9.4750, val loss: nan\n",
      "Epoch 6 total loss: 46.0005, pred loss: 45.8825, reg_loss: 11.7977, val loss: nan\n",
      "Epoch 11 total loss: 45.2821, pred loss: 45.1470, reg_loss: 13.5068, val loss: nan\n",
      "Epoch 16 total loss: 44.7553, pred loss: 44.6166, reg_loss: 13.8699, val loss: nan\n",
      "Epoch 21 total loss: 44.3233, pred loss: 44.1600, reg_loss: 16.3280, val loss: nan\n",
      "Epoch 26 total loss: 43.9569, pred loss: 43.7966, reg_loss: 16.0265, val loss: nan\n",
      "Epoch 31 total loss: 43.6540, pred loss: 43.4892, reg_loss: 16.4812, val loss: nan\n"
     ]
    }
   ],
   "source": [
    "# Regression on soil contents using non-log\n",
    "_error_fn = _rmse\n",
    "error_fn_name = 'rmse'\n",
    "\n",
    "train_loss_out, pred_loss_out, reg_loss_out, val_loss_out, theta = train_and_store(subset_name = subset_name,\n",
    "                                                                                   obs_name = obs_name,\n",
    "                                                                                   _error_fn = _error_fn,\n",
    "                                                                                   error_fn_name = error_fn_name,\n",
    "                                                                                   learning_rate = 0.001,\n",
    "                                                                                   n_epochs = 30,\n",
    "                                                                                   val_frac = 0.0)"
   ]
  },
  {
   "cell_type": "code",
   "execution_count": null,
   "id": "17e9230a-d22a-4317-ae66-ef84df102e78",
   "metadata": {},
   "outputs": [],
   "source": []
  },
  {
   "cell_type": "code",
   "execution_count": null,
   "id": "c5c10b78-78ac-4912-b5f7-daba0f967211",
   "metadata": {},
   "outputs": [],
   "source": [
    "# %%time\n",
    "# # Parallelize with dask delayed\n",
    "# delayed = []\n",
    "\n",
    "# for _error_fn, error_fn_name in zip(_error_fns, error_fn_names):\n",
    "#     # Hyperparameter adjustments\n",
    "#     if error_fn_name == 'kge':\n",
    "#         reg_const = 0.001\n",
    "#     else:\n",
    "#         reg_const = 0.01\n",
    "\n",
    "#     if error_fn_name == 'mse':\n",
    "#         learning_rate = 1e-3\n",
    "#     else:\n",
    "#         learning_rate = 1e-2\n",
    "        \n",
    "#     for batch_size in [2**5, 2**6, 2**7, 2**8, 2**9]:\n",
    "#         delayed.append(dask.delayed(train_and_store)(subset_name = subset_name,\n",
    "#                                                      obs_name = obs_name,\n",
    "#                                                      _error_fn = _error_fn,\n",
    "#                                                      error_fn_name = error_fn_name,\n",
    "#                                                      batch_size = batch_size,\n",
    "#                                                      reg_const = reg_const,\n",
    "#                                                      learning_rate = learning_rate,\n",
    "#                                                      n_epochs = 30,\n",
    "#                                                      val_frac = 0.0))\n",
    "\n",
    "# out = dask.compute(*delayed)"
   ]
  },
  {
   "cell_type": "markdown",
   "id": "9c5f30aa-6bdc-491c-9efb-4adcf412fcde",
   "metadata": {},
   "source": [
    "### MOSAIC"
   ]
  },
  {
   "cell_type": "code",
   "execution_count": 18,
   "id": "34239120-98d7-44a9-be56-2061e53f8cd3",
   "metadata": {},
   "outputs": [],
   "source": [
    "# Info\n",
    "subset_name = 'centralUS'\n",
    "obs_name = 'MOSAIC'\n",
    "\n",
    "# needed for quantile RMSE\n",
    "N = np.load(f'{project_data_path}/WBM/calibration/{subset_name}/{obs_name}/{obs_name}_validation.npy').shape[-1]"
   ]
  },
  {
   "cell_type": "code",
   "execution_count": 19,
   "id": "f882d851-9169-4706-b866-fb52b3c33c56",
   "metadata": {},
   "outputs": [
    {
     "name": "stdout",
     "output_type": "stream",
     "text": [
      "CPU times: user 4min 23s, sys: 20.8 s, total: 4min 43s\n",
      "Wall time: 56min 43s\n"
     ]
    }
   ],
   "source": [
    "%%time\n",
    "# Parallelize with dask delayed\n",
    "delayed = []\n",
    "\n",
    "for _error_fn, error_fn_name in zip(_error_fns, error_fn_names):\n",
    "    # Hyperparameter adjustments\n",
    "    if error_fn_name == 'kge':\n",
    "        reg_const = 0.001\n",
    "    else:\n",
    "        reg_const = 0.01\n",
    "\n",
    "    if error_fn_name == 'mse':\n",
    "        learning_rate = 1e-3\n",
    "    else:\n",
    "        learning_rate = 1e-2\n",
    "        \n",
    "    for batch_size in [2**5, 2**6, 2**7, 2**8, 2**9]:\n",
    "        delayed.append(dask.delayed(train_and_store)(subset_name = subset_name,\n",
    "                                                     obs_name = obs_name,\n",
    "                                                     _error_fn = _error_fn,\n",
    "                                                     error_fn_name = error_fn_name,\n",
    "                                                     batch_size = batch_size,\n",
    "                                                     reg_const = reg_const,\n",
    "                                                     learning_rate = learning_rate,\n",
    "                                                     n_epochs = 30,\n",
    "                                                     val_frac = 0.0))\n",
    "\n",
    "out = dask.compute(*delayed)"
   ]
  },
  {
   "cell_type": "markdown",
   "id": "73dac970-d6d5-454a-a595-7c7d44487e61",
   "metadata": {},
   "source": [
    "### NOAH"
   ]
  },
  {
   "cell_type": "code",
   "execution_count": 20,
   "id": "5a960759-af42-4edb-8066-ad431f90c275",
   "metadata": {},
   "outputs": [],
   "source": [
    "# Info\n",
    "subset_name = 'centralUS'\n",
    "obs_name = 'NOAH'\n",
    "\n",
    "# needed for quantile RMSE\n",
    "N = np.load(f'{project_data_path}/WBM/calibration/{subset_name}/{obs_name}/{obs_name}_validation.npy').shape[-1]"
   ]
  },
  {
   "cell_type": "code",
   "execution_count": null,
   "id": "d53e9352-6283-411a-97ec-ce4866781bba",
   "metadata": {},
   "outputs": [],
   "source": [
    "%%time\n",
    "# Parallelize with dask delayed\n",
    "delayed = []\n",
    "\n",
    "for _error_fn, error_fn_name in zip(_error_fns, error_fn_names):\n",
    "    # Hyperparameter adjustments\n",
    "    if error_fn_name == 'kge':\n",
    "        reg_const = 0.001\n",
    "    else:\n",
    "        reg_const = 0.01\n",
    "\n",
    "    if error_fn_name == 'mse':\n",
    "        learning_rate = 1e-3\n",
    "    else:\n",
    "        learning_rate = 1e-2\n",
    "        \n",
    "    for batch_size in [2**5, 2**6, 2**7, 2**8, 2**9]:\n",
    "        delayed.append(dask.delayed(train_and_store)(subset_name = subset_name,\n",
    "                                                     obs_name = obs_name,\n",
    "                                                     _error_fn = _error_fn,\n",
    "                                                     error_fn_name = error_fn_name,\n",
    "                                                     batch_size = batch_size,\n",
    "                                                     reg_const = reg_const,\n",
    "                                                     learning_rate = learning_rate,\n",
    "                                                     n_epochs = 30,\n",
    "                                                     val_frac = 0.0))\n",
    "\n",
    "out = dask.compute(*delayed)"
   ]
  },
  {
   "cell_type": "code",
   "execution_count": null,
   "id": "c872df4b-4415-4b2d-a666-2b98dd230e6f",
   "metadata": {},
   "outputs": [],
   "source": []
  },
  {
   "cell_type": "code",
   "execution_count": null,
   "id": "137beaed-9ad8-4da4-bade-d02819c31ecf",
   "metadata": {},
   "outputs": [],
   "source": []
  }
 ],
 "metadata": {
  "kernelspec": {
   "display_name": "Python 3 (ipykernel)",
   "language": "python",
   "name": "python3"
  },
  "language_info": {
   "codemirror_mode": {
    "name": "ipython",
    "version": 3
   },
   "file_extension": ".py",
   "mimetype": "text/x-python",
   "name": "python",
   "nbconvert_exporter": "python",
   "pygments_lexer": "ipython3",
   "version": "3.11.7"
  }
 },
 "nbformat": 4,
 "nbformat_minor": 5
}
