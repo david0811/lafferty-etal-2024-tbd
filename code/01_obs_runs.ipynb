{
 "cells": [
  {
   "cell_type": "code",
   "execution_count": 1,
   "id": "b44a500c-1401-41b5-a61b-aae4c4c7cc36",
   "metadata": {},
   "outputs": [],
   "source": [
    "from run_WBM import run_WBM"
   ]
  },
  {
   "cell_type": "markdown",
   "id": "978cdde7-ce45-4027-88fe-32d066f6feda",
   "metadata": {},
   "source": [
    "# Historical runs: observational datasets"
   ]
  },
  {
   "cell_type": "code",
   "execution_count": 4,
   "id": "9443de2a-0dd3-43f0-b045-37fc5d93dc61",
   "metadata": {},
   "outputs": [],
   "source": [
    "#######################\n",
    "# Constant for all runs\n",
    "#######################\n",
    "\n",
    "# Main directory\n",
    "main_path = \"/gpfs/group/kaf26/default/dcl5300/wbm_soilM_crop_uc_lafferty-etal-2024-tbd_DATA\"\n",
    "\n",
    "# Simulation length\n",
    "run_start=\"1981-01-01\"\n",
    "run_end=\"2015-12-31\"\n",
    "\n",
    "# Spunup\n",
    "spinup_start=\"1981-01-01\"\n",
    "spinup_end=\"1981-12-31\"\n",
    "spinup_loops = 5\n",
    "\n",
    "# Output variables\n",
    "output_vars=[\"soilMoist\", \"soilMoistFrac\"]\n",
    "    \n",
    "# River network (defines grid spacing)\n",
    "network = \"/gpfs/group/kaf26/default/private/WBM_data/squam.sr.unh.edu/US_CDL_v3_data/network/flowdirection206_us.asc\"\n",
    "\n",
    "# PET method\n",
    "pet_method = \"Hamon\"\n",
    "\n",
    "# Cloud fraction\n",
    "cloudFr_primary = \"merra2_cldtot_d.init\"\n",
    "\n",
    "# Rooting depth\n",
    "rootingDepth = \"/wbm/data_init/Effective_Rooting_Depth_mod.init\"\n",
    "\n",
    "# Available water capacity\n",
    "soilAWC = \"/gpfs/group/kaf26/default/private/WBM_data/squam.sr.unh.edu/US_CDL_v3_data/soil/SSURGO_SoilData_awc_frac_mm_m_CONUS_1km.tif\"\n",
    "\n",
    "# Canopy height\n",
    "canopyHt = \"/gpfs/group/kaf26/default/private/WBM_data/squam.sr.unh.edu/US_CDL_v3_data/canopy/Simard_Pinto_3DGlobalVeg_JGR_10km.tif\"\n",
    "\n",
    "# Leaf Area Index\n",
    "lai = \"merra2_lai2_dc.init\"\n",
    "\n",
    "# Lan collapse method\n",
    "land_collapse=\"average\"\n",
    "\n",
    "# Crop parameter file\n",
    "crop_par = \"CDL-US-M_CropParameters.csv\"\n",
    "\n",
    "# Crop area timeseries\n",
    "crop_area_frac=\"cdl_cropland.init\"\n",
    "\n",
    "# Project ID\n",
    "project_ID = \"PCHES_crop_yield_UC_climate_param\""
   ]
  },
  {
   "cell_type": "code",
   "execution_count": 2,
   "id": "19bc9ec5-5549-48ba-8a2e-6d7597b544ab",
   "metadata": {},
   "outputs": [
    {
     "ename": "TypeError",
     "evalue": "run_WBM() missing 25 required positional arguments: 'sim_ID', 'run_start', 'run_end', 'spinup_start', 'spinup_end', 'output_vars', 'network', 'pet_method', 'airT_primary', 'airT_secondary', 'airT_min', 'airT_max', 'precip_primary', 'precip_secondary', 'cloudFr_primary', 'windU_primary', 'windV_primary', 'humidity_primary', 'albedo_primary', 'lai', 'land_collapse', 'crop_area_frac', 'crop_area_frac_patch', 'crop_par', and 'crop_par_patch'",
     "output_type": "error",
     "traceback": [
      "\u001b[0;31m---------------------------------------------------------------------------\u001b[0m",
      "\u001b[0;31mTypeError\u001b[0m                                 Traceback (most recent call last)",
      "Cell \u001b[0;32mIn[2], line 1\u001b[0m\n\u001b[0;32m----> 1\u001b[0m \u001b[43mrun_WBM\u001b[49m\u001b[43m(\u001b[49m\u001b[43m)\u001b[49m\n",
      "\u001b[0;31mTypeError\u001b[0m: run_WBM() missing 25 required positional arguments: 'sim_ID', 'run_start', 'run_end', 'spinup_start', 'spinup_end', 'output_vars', 'network', 'pet_method', 'airT_primary', 'airT_secondary', 'airT_min', 'airT_max', 'precip_primary', 'precip_secondary', 'cloudFr_primary', 'windU_primary', 'windV_primary', 'humidity_primary', 'albedo_primary', 'lai', 'land_collapse', 'crop_area_frac', 'crop_area_frac_patch', 'crop_par', and 'crop_par_patch'"
     ]
    }
   ],
   "source": [
    "##################\n",
    "# Dataset: GMFD\n",
    "##################\n",
    "run_WBM(\n",
    "    sim_ID=\"obs/GMFD_soilM_HamonTP_cropAverage\",\n",
    "    run_start=run_start,\n",
    "    run_end=run_end,\n",
    "    spinup_start=spinup_start,\n",
    "    spinup_end=spinup_end,\n",
    "    spinup_loops=spinup_loops,\n",
    "    output_vars=output_vars,\n",
    "    network=network,\n",
    "    pet_method=pet_method,\n",
    "    airT_primary=\"GMFD_tas_daily.init\",\n",
    "    airT_secondary=\"\",\n",
    "    airT_min=\"\",\n",
    "    airT_max=\"\",\n",
    "    precip_primary=\"GMFD_prcp_daily.init\",\n",
    "    precip_secondary=\"\",\n",
    "    windU_primary=\"\",\n",
    "    windV_primary=\"\",\n",
    "    humidity_primary=\"\",\n",
    "    albedo_primary=\"\",\n",
    "    cloudFr_primary=cloudFr_primary,\n",
    "    rootingDepth=rootingDepth,\n",
    "    soilAWC=soilAWC,\n",
    "    canopyHt=canopyHt,\n",
    "    lai=lai,\n",
    "    land_collapse=land_collapse,\n",
    "    crop_area_frac=crop_area_frac,\n",
    "    crop_area_frac_patch=\"\",\n",
    "    crop_par=crop_par,\n",
    "    crop_par_patch=\"\",\n",
    "    main_path=main_path,\n",
    "    project_ID=project_ID\n",
    ")"
   ]
  },
  {
   "cell_type": "code",
   "execution_count": null,
   "id": "bf16bdae-db75-4978-be89-aca7ea39e858",
   "metadata": {},
   "outputs": [],
   "source": []
  }
 ],
 "metadata": {
  "kernelspec": {
   "display_name": "Python 3 (ipykernel)",
   "language": "python",
   "name": "python3"
  },
  "language_info": {
   "codemirror_mode": {
    "name": "ipython",
    "version": 3
   },
   "file_extension": ".py",
   "mimetype": "text/x-python",
   "name": "python",
   "nbconvert_exporter": "python",
   "pygments_lexer": "ipython3",
   "version": "3.10.8"
  }
 },
 "nbformat": 4,
 "nbformat_minor": 5
}
