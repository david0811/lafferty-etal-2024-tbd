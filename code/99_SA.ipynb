{
 "cells": [
  {
   "cell_type": "code",
   "execution_count": 72,
   "id": "cd7346c0-3c66-4da3-af32-23ae115f94f1",
   "metadata": {},
   "outputs": [],
   "source": [
    "import numpy as np\n",
    "import pandas as pd\n",
    "from SALib.analyze import delta\n",
    "from SALib.analyze import pawn\n",
    "from SALib.util import read_param_file"
   ]
  },
  {
   "cell_type": "code",
   "execution_count": 73,
   "id": "0739ee15-61b0-4d49-8b1c-7f3a9ad02bfe",
   "metadata": {},
   "outputs": [],
   "source": [
    "# Read the parameter range file and generate samples\n",
    "# Since this is \"given data\", the bounds in the parameter file will not be used\n",
    "# but the columns are still expected\n",
    "problem = read_param_file(\"../data/Ishigami.txt\")\n",
    "X = np.loadtxt(\"../data/model_input.txt\")\n",
    "Y = np.loadtxt(\"../data/model_output.txt\")"
   ]
  },
  {
   "cell_type": "code",
   "execution_count": 74,
   "id": "614578fd-bae7-45ad-84a9-fdb7eab0ce4e",
   "metadata": {},
   "outputs": [
    {
     "name": "stdout",
     "output_type": "stream",
     "text": [
      "       delta  delta_conf        S1   S1_conf\n",
      "x1  0.313063    0.023111  0.183910  0.061531\n",
      "x2  0.154828    0.021756  0.092322  0.034706\n",
      "x3  0.208364    0.043316  0.012630  0.042593\n"
     ]
    }
   ],
   "source": [
    "# Perform the sensitivity analysis using the model output\n",
    "# Specify which column of the output file to analyze (zero-indexed)\n",
    "# Returns a dictionary with keys 'delta', 'delta_conf', 'S1', 'S1_conf'\n",
    "Si = delta.analyze(\n",
    "    problem, X, Y, num_resamples=10, conf_level=0.95, print_to_console=True\n",
    ")"
   ]
  },
  {
   "cell_type": "code",
   "execution_count": 75,
   "id": "987a7674-0453-4bf1-88c2-f723a856666e",
   "metadata": {},
   "outputs": [],
   "source": [
    "################################"
   ]
  },
  {
   "cell_type": "code",
   "execution_count": 76,
   "id": "ae290882-fe82-4005-989c-2e0618458a5d",
   "metadata": {},
   "outputs": [],
   "source": [
    "# Champaign example\n",
    "df = pd.read_csv(\"../data/champaign_ssp585_tasmax_soilM.csv\")"
   ]
  },
  {
   "cell_type": "code",
   "execution_count": 159,
   "id": "7528acc3-c29b-4ed0-bd53-ecb642aaa149",
   "metadata": {},
   "outputs": [
    {
     "data": {
      "text/html": [
       "<div>\n",
       "<style scoped>\n",
       "    .dataframe tbody tr th:only-of-type {\n",
       "        vertical-align: middle;\n",
       "    }\n",
       "\n",
       "    .dataframe tbody tr th {\n",
       "        vertical-align: top;\n",
       "    }\n",
       "\n",
       "    .dataframe thead th {\n",
       "        text-align: right;\n",
       "    }\n",
       "</style>\n",
       "<table border=\"1\" class=\"dataframe\">\n",
       "  <thead>\n",
       "    <tr style=\"text-align: right;\">\n",
       "      <th></th>\n",
       "      <th>index</th>\n",
       "      <th>time</th>\n",
       "      <th>tasmax</th>\n",
       "      <th>model</th>\n",
       "      <th>ssp</th>\n",
       "      <th>method</th>\n",
       "      <th>soilMoist</th>\n",
       "      <th>soilMoistFrac</th>\n",
       "      <th>year</th>\n",
       "    </tr>\n",
       "  </thead>\n",
       "  <tbody>\n",
       "    <tr>\n",
       "      <th>0</th>\n",
       "      <td>90</td>\n",
       "      <td>2030-04-01</td>\n",
       "      <td>17.452295</td>\n",
       "      <td>ACCESS-CM2</td>\n",
       "      <td>ssp585</td>\n",
       "      <td>LOCA2</td>\n",
       "      <td>66.350160</td>\n",
       "      <td>0.991211</td>\n",
       "      <td>2030</td>\n",
       "    </tr>\n",
       "    <tr>\n",
       "      <th>1</th>\n",
       "      <td>91</td>\n",
       "      <td>2030-04-02</td>\n",
       "      <td>22.542719</td>\n",
       "      <td>ACCESS-CM2</td>\n",
       "      <td>ssp585</td>\n",
       "      <td>LOCA2</td>\n",
       "      <td>66.938480</td>\n",
       "      <td>1.000000</td>\n",
       "      <td>2030</td>\n",
       "    </tr>\n",
       "    <tr>\n",
       "      <th>2</th>\n",
       "      <td>92</td>\n",
       "      <td>2030-04-03</td>\n",
       "      <td>20.697656</td>\n",
       "      <td>ACCESS-CM2</td>\n",
       "      <td>ssp585</td>\n",
       "      <td>LOCA2</td>\n",
       "      <td>66.938480</td>\n",
       "      <td>1.000000</td>\n",
       "      <td>2030</td>\n",
       "    </tr>\n",
       "    <tr>\n",
       "      <th>3</th>\n",
       "      <td>93</td>\n",
       "      <td>2030-04-04</td>\n",
       "      <td>19.958459</td>\n",
       "      <td>ACCESS-CM2</td>\n",
       "      <td>ssp585</td>\n",
       "      <td>LOCA2</td>\n",
       "      <td>66.938480</td>\n",
       "      <td>1.000000</td>\n",
       "      <td>2030</td>\n",
       "    </tr>\n",
       "    <tr>\n",
       "      <th>4</th>\n",
       "      <td>94</td>\n",
       "      <td>2030-04-05</td>\n",
       "      <td>11.775781</td>\n",
       "      <td>ACCESS-CM2</td>\n",
       "      <td>ssp585</td>\n",
       "      <td>LOCA2</td>\n",
       "      <td>66.938480</td>\n",
       "      <td>1.000000</td>\n",
       "      <td>2030</td>\n",
       "    </tr>\n",
       "    <tr>\n",
       "      <th>...</th>\n",
       "      <td>...</td>\n",
       "      <td>...</td>\n",
       "      <td>...</td>\n",
       "      <td>...</td>\n",
       "      <td>...</td>\n",
       "      <td>...</td>\n",
       "      <td>...</td>\n",
       "      <td>...</td>\n",
       "      <td>...</td>\n",
       "    </tr>\n",
       "    <tr>\n",
       "      <th>197635</th>\n",
       "      <td>394313</td>\n",
       "      <td>2059-09-26</td>\n",
       "      <td>20.241419</td>\n",
       "      <td>NorESM2-MM</td>\n",
       "      <td>ssp585</td>\n",
       "      <td>OKR_RegCM_Livneh</td>\n",
       "      <td>66.709045</td>\n",
       "      <td>0.364648</td>\n",
       "      <td>2059</td>\n",
       "    </tr>\n",
       "    <tr>\n",
       "      <th>197636</th>\n",
       "      <td>394314</td>\n",
       "      <td>2059-09-27</td>\n",
       "      <td>23.992615</td>\n",
       "      <td>NorESM2-MM</td>\n",
       "      <td>ssp585</td>\n",
       "      <td>OKR_RegCM_Livneh</td>\n",
       "      <td>82.597690</td>\n",
       "      <td>0.456352</td>\n",
       "      <td>2059</td>\n",
       "    </tr>\n",
       "    <tr>\n",
       "      <th>197637</th>\n",
       "      <td>394315</td>\n",
       "      <td>2059-09-28</td>\n",
       "      <td>24.090342</td>\n",
       "      <td>NorESM2-MM</td>\n",
       "      <td>ssp585</td>\n",
       "      <td>OKR_RegCM_Livneh</td>\n",
       "      <td>100.055510</td>\n",
       "      <td>0.553829</td>\n",
       "      <td>2059</td>\n",
       "    </tr>\n",
       "    <tr>\n",
       "      <th>197638</th>\n",
       "      <td>394316</td>\n",
       "      <td>2059-09-29</td>\n",
       "      <td>23.337286</td>\n",
       "      <td>NorESM2-MM</td>\n",
       "      <td>ssp585</td>\n",
       "      <td>OKR_RegCM_Livneh</td>\n",
       "      <td>101.118416</td>\n",
       "      <td>0.558993</td>\n",
       "      <td>2059</td>\n",
       "    </tr>\n",
       "    <tr>\n",
       "      <th>197639</th>\n",
       "      <td>394317</td>\n",
       "      <td>2059-09-30</td>\n",
       "      <td>24.571653</td>\n",
       "      <td>NorESM2-MM</td>\n",
       "      <td>ssp585</td>\n",
       "      <td>OKR_RegCM_Livneh</td>\n",
       "      <td>99.331436</td>\n",
       "      <td>0.547804</td>\n",
       "      <td>2059</td>\n",
       "    </tr>\n",
       "  </tbody>\n",
       "</table>\n",
       "<p>197640 rows × 9 columns</p>\n",
       "</div>"
      ],
      "text/plain": [
       "         index        time     tasmax       model     ssp            method  \\\n",
       "0           90  2030-04-01  17.452295  ACCESS-CM2  ssp585             LOCA2   \n",
       "1           91  2030-04-02  22.542719  ACCESS-CM2  ssp585             LOCA2   \n",
       "2           92  2030-04-03  20.697656  ACCESS-CM2  ssp585             LOCA2   \n",
       "3           93  2030-04-04  19.958459  ACCESS-CM2  ssp585             LOCA2   \n",
       "4           94  2030-04-05  11.775781  ACCESS-CM2  ssp585             LOCA2   \n",
       "...        ...         ...        ...         ...     ...               ...   \n",
       "197635  394313  2059-09-26  20.241419  NorESM2-MM  ssp585  OKR_RegCM_Livneh   \n",
       "197636  394314  2059-09-27  23.992615  NorESM2-MM  ssp585  OKR_RegCM_Livneh   \n",
       "197637  394315  2059-09-28  24.090342  NorESM2-MM  ssp585  OKR_RegCM_Livneh   \n",
       "197638  394316  2059-09-29  23.337286  NorESM2-MM  ssp585  OKR_RegCM_Livneh   \n",
       "197639  394317  2059-09-30  24.571653  NorESM2-MM  ssp585  OKR_RegCM_Livneh   \n",
       "\n",
       "         soilMoist  soilMoistFrac  year  \n",
       "0        66.350160       0.991211  2030  \n",
       "1        66.938480       1.000000  2030  \n",
       "2        66.938480       1.000000  2030  \n",
       "3        66.938480       1.000000  2030  \n",
       "4        66.938480       1.000000  2030  \n",
       "...            ...            ...   ...  \n",
       "197635   66.709045       0.364648  2059  \n",
       "197636   82.597690       0.456352  2059  \n",
       "197637  100.055510       0.553829  2059  \n",
       "197638  101.118416       0.558993  2059  \n",
       "197639   99.331436       0.547804  2059  \n",
       "\n",
       "[197640 rows x 9 columns]"
      ]
     },
     "execution_count": 159,
     "metadata": {},
     "output_type": "execute_result"
    }
   ],
   "source": [
    "df"
   ]
  },
  {
   "cell_type": "code",
   "execution_count": 143,
   "id": "1c203b9e-6be2-4bf2-8771-cc2dc66025c7",
   "metadata": {},
   "outputs": [],
   "source": [
    "# Calculate metric\n",
    "df_days = df.groupby([\"year\", \"method\", \"model\"]).apply(\n",
    "    lambda x: ((x[\"soilMoistFrac\"] <= 0.1) & (x[\"tasmax\"] >= 29.0)).sum()).reset_index(name=\"days\").groupby([\"method\",\"model\"]).max().reset_index()"
   ]
  },
  {
   "cell_type": "code",
   "execution_count": 144,
   "id": "e1357e54-6e54-4938-b6be-753b8a0ca6bb",
   "metadata": {},
   "outputs": [],
   "source": [
    "X,Y = df_days[[\"method\", \"model\"]].to_numpy(), df_days[\"days\"].to_numpy()"
   ]
  },
  {
   "cell_type": "code",
   "execution_count": 145,
   "id": "3e0d6e4c-4f40-4db1-82d4-3d9f76a79db3",
   "metadata": {},
   "outputs": [
    {
     "name": "stdout",
     "output_type": "stream",
     "text": [
      "           delta  delta_conf        S1   S1_conf\n",
      "method  0.088171    0.051565  0.131423  0.172539\n",
      "model   0.098516    0.058824  0.060068  0.215044\n"
     ]
    }
   ],
   "source": [
    "# Analyze\n",
    "Si = delta.analyze(\n",
    "    problem, X, Y, num_resamples=10, conf_level=0.95, print_to_console=True\n",
    ")"
   ]
  },
  {
   "cell_type": "code",
   "execution_count": 156,
   "id": "11960283-944a-469d-9390-0a8db724e2b4",
   "metadata": {},
   "outputs": [
    {
     "data": {
      "text/plain": [
       "0.26526272140276036"
      ]
     },
     "execution_count": 156,
     "metadata": {},
     "output_type": "execute_result"
    }
   ],
   "source": [
    "df_days.groupby(\"method\")[\"days\"].mean().var() / df_days[\"days\"].var()"
   ]
  },
  {
   "cell_type": "code",
   "execution_count": 158,
   "id": "740ce29f-862d-44e2-b13c-72e55f023e86",
   "metadata": {},
   "outputs": [
    {
     "data": {
      "text/plain": [
       "0.6690160535513299"
      ]
     },
     "execution_count": 158,
     "metadata": {},
     "output_type": "execute_result"
    }
   ],
   "source": [
    "df_days.groupby(\"model\")[\"days\"].mean().var() / df_days[\"days\"].var()"
   ]
  },
  {
   "cell_type": "code",
   "execution_count": null,
   "id": "5e104912-528d-4c0d-b9e0-f65a24ae5278",
   "metadata": {},
   "outputs": [],
   "source": []
  },
  {
   "cell_type": "code",
   "execution_count": 111,
   "id": "d1fbcc04-a28b-4a08-a802-7087a80ebb84",
   "metadata": {},
   "outputs": [],
   "source": [
    "# Calculate metric\n",
    "df_days = df.groupby([\"year\", \"method\", \"model\"]).apply(\n",
    "    lambda x: ((x[\"soilMoistFrac\"] <= 0.1) & (x[\"tasmax\"] >= 29.0)).sum()).reset_index(name=\"days\")"
   ]
  },
  {
   "cell_type": "code",
   "execution_count": 112,
   "id": "8a3daa4d-a31d-4505-838c-a8ef21af514d",
   "metadata": {},
   "outputs": [],
   "source": [
    "problem = {\n",
    "    'num_vars': 2,\n",
    "    'names': ['method', 'model'],\n",
    "    'bounds': [[0, 0],\n",
    "               [0, 0]]\n",
    "}\n",
    "\n",
    "df_out = pd.DataFrame(columns=[\"method\", \"model\", \"year\"])\n",
    "\n",
    "for year in df_days.year.unique():\n",
    "    # Select year\n",
    "    df_tmp = df_days[df_days.year == year].copy()\n",
    "    # Get outputs\n",
    "    Y = df_tmp[\"days\"].to_numpy()\n",
    "    X = df_tmp[[\"method\", \"model\"]].to_numpy()\n",
    "    # Analyze\n",
    "    delta_df = delta.analyze(\n",
    "        problem, X, Y, num_resamples=10, conf_level=0.95, print_to_console=False\n",
    "    ).to_df()[[\"delta\"]].T\n",
    "    delta_df[\"year\"] = year\n",
    "    delta_df = delta_df.reset_index()[['method', 'model', 'year']].copy()\n",
    "    # Append\n",
    "    df_out = pd.concat([df_out, delta_df])"
   ]
  },
  {
   "cell_type": "code",
   "execution_count": 113,
   "id": "e6a6a469-1db0-4fb4-9023-120e7928263e",
   "metadata": {},
   "outputs": [
    {
     "data": {
      "text/plain": [
       "<AxesSubplot: xlabel='year'>"
      ]
     },
     "execution_count": 113,
     "metadata": {},
     "output_type": "execute_result"
    },
    {
     "data": {
      "image/png": "[encoded data removed]",
      "text/plain": [
       "<Figure size 640x480 with 1 Axes>"
      ]
     },
     "metadata": {},
     "output_type": "display_data"
    }
   ],
   "source": [
    "df_out.plot(x=\"year\")"
   ]
  },
  {
   "cell_type": "code",
   "execution_count": null,
   "id": "701c54cf-4ca4-4395-9c5f-a08c54b6f339",
   "metadata": {},
   "outputs": [],
   "source": []
  }
 ],
 "metadata": {
  "kernelspec": {
   "display_name": "Python 3 (ipykernel)",
   "language": "python",
   "name": "python3"
  },
  "language_info": {
   "codemirror_mode": {
    "name": "ipython",
    "version": 3
   },
   "file_extension": ".py",
   "mimetype": "text/x-python",
   "name": "python",
   "nbconvert_exporter": "python",
   "pygments_lexer": "ipython3",
   "version": "3.10.8"
  }
 },
 "nbformat": 4,
 "nbformat_minor": 5
}
