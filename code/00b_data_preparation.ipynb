{
 "cells": [
  {
   "cell_type": "code",
   "execution_count": 1,
   "id": "9384c76f-a951-4f90-a73f-d3106230bf5c",
   "metadata": {},
   "outputs": [],
   "source": [
    "import os\n",
    "from data_processing import _subset_states, process_smap, process_nldas, process_forcing\n",
    "from global_paths import project_data_path"
   ]
  },
  {
   "cell_type": "markdown",
   "id": "332416eb-c27b-406c-9408-cecafbde895d",
   "metadata": {
    "jp-MarkdownHeadingCollapsed": true
   },
   "source": [
    "### Entire domain"
   ]
  },
  {
   "cell_type": "code",
   "execution_count": 4,
   "id": "49f39e22-2567-4676-b1e3-c91b36f1a3b1",
   "metadata": {},
   "outputs": [],
   "source": [
    "subset_name = \"CONUS\"\n",
    "list_of_states = None"
   ]
  },
  {
   "cell_type": "code",
   "execution_count": 5,
   "id": "3042c557-36fc-42eb-8fbc-13fc79d729d5",
   "metadata": {},
   "outputs": [],
   "source": [
    "# Make directories\n",
    "output_path = f\"{project_data_path}/WBM/precalibration/{subset_name}\"\n",
    "\n",
    "# Main\n",
    "if not os.path.isdir(output_path):\n",
    "    os.mkdir(output_path)\n",
    "    \n",
    "# Subs\n",
    "for sub in [\"SMAP\", \"VIC\", \"NOAH\", \"MOSAIC\"]:\n",
    "    if not os.path.isdir(f\"{output_path}/{sub}\"):\n",
    "        os.mkdir(f\"{output_path}/{sub}\")"
   ]
  },
  {
   "cell_type": "code",
   "execution_count": 6,
   "id": "4a2cf1e4-8408-49c1-80fc-1988e46c64e8",
   "metadata": {},
   "outputs": [
    {
     "name": "stdout",
     "output_type": "stream",
     "text": [
      "SMAP already processed\n",
      "CPU times: user 694 µs, sys: 0 ns, total: 694 µs\n",
      "Wall time: 775 µs\n"
     ]
    }
   ],
   "source": [
    "%%time\n",
    "# SMAP\n",
    "process_smap(subset_name, list_of_states)"
   ]
  },
  {
   "cell_type": "code",
   "execution_count": 7,
   "id": "966a8e81-2869-4960-8ce9-8ae9c7a27447",
   "metadata": {},
   "outputs": [
    {
     "name": "stdout",
     "output_type": "stream",
     "text": [
      "CPU times: user 1min 1s, sys: 23.5 s, total: 1min 24s\n",
      "Wall time: 2min 25s\n"
     ]
    }
   ],
   "source": [
    "%%time\n",
    "# NLDAS\n",
    "process_nldas(subset_name, list_of_states)"
   ]
  },
  {
   "cell_type": "code",
   "execution_count": 8,
   "id": "9ca6e5b6-6457-4a3f-85f5-96b2ee365c1c",
   "metadata": {},
   "outputs": [
    {
     "name": "stdout",
     "output_type": "stream",
     "text": [
      "CPU times: user 3min 18s, sys: 1min 3s, total: 4min 22s\n",
      "Wall time: 10min 30s\n"
     ]
    }
   ],
   "source": [
    "%%time\n",
    "# Forcing\n",
    "process_forcing(subset_name, list_of_states)"
   ]
  },
  {
   "cell_type": "markdown",
   "id": "946b761e-56e8-4f57-a936-b34893862375",
   "metadata": {},
   "source": [
    "### Central US"
   ]
  },
  {
   "cell_type": "code",
   "execution_count": 2,
   "id": "4f63b04c-9d38-4c37-94d2-ed77dde23fd1",
   "metadata": {},
   "outputs": [],
   "source": [
    "subset_name = \"centralUS\"\n",
    "list_of_states = ['Alabama', 'Arkansas', 'Connecticut', 'Delaware', 'Florida', 'Georgia', 'Illinois', \n",
    "                  'Indiana', 'Iowa', 'Kansas', 'Kentucky', 'Louisiana', 'Maine', 'Maryland', \n",
    "                  'Massachusetts', 'Michigan', 'Minnesota', 'Mississippi', 'Missouri', 'Nebraska', 'New Hampshire', \n",
    "                  'New Jersey', 'New York', 'North Carolina', 'North Dakota', 'Ohio', 'Oklahoma', 'Pennsylvania', \n",
    "                  'Rhode Island', 'South Carolina', 'South Dakota', 'Tennessee', 'Texas', 'Vermont', 'Virginia', \n",
    "                  'West Virginia', 'Wisconsin']"
   ]
  },
  {
   "cell_type": "code",
   "execution_count": 3,
   "id": "9742308f-6e68-441d-a940-f4e1ba010d05",
   "metadata": {},
   "outputs": [],
   "source": [
    "# Make directories\n",
    "output_path = f\"{project_data_path}/WBM/calibration/{subset_name}\"\n",
    "\n",
    "# Main\n",
    "if not os.path.isdir(output_path):\n",
    "    os.mkdir(output_path)\n",
    "    \n",
    "# Subs\n",
    "for sub in [\"SMAP\", \"VIC\", \"NOAH\", \"MOSAIC\"]:\n",
    "    if not os.path.isdir(f\"{output_path}/{sub}\"):\n",
    "        os.mkdir(f\"{output_path}/{sub}\")"
   ]
  },
  {
   "cell_type": "code",
   "execution_count": 4,
   "id": "55a33927-3a0f-4d59-a5a5-5a2ae50f97f5",
   "metadata": {},
   "outputs": [
    {
     "name": "stdout",
     "output_type": "stream",
     "text": [
      "SMAP already processed\n",
      "CPU times: user 300 µs, sys: 81 µs, total: 381 µs\n",
      "Wall time: 405 µs\n"
     ]
    }
   ],
   "source": [
    "%%time\n",
    "# SMAP\n",
    "process_smap(subset_name, list_of_states)"
   ]
  },
  {
   "cell_type": "code",
   "execution_count": 5,
   "id": "0aad8e47-54a7-4f7f-8450-9c17492f52aa",
   "metadata": {},
   "outputs": [
    {
     "name": "stdout",
     "output_type": "stream",
     "text": [
      "CPU times: user 397 µs, sys: 107 µs, total: 504 µs\n",
      "Wall time: 1.1 ms\n"
     ]
    }
   ],
   "source": [
    "%%time\n",
    "# NLDAS\n",
    "process_nldas(subset_name, list_of_states)"
   ]
  },
  {
   "cell_type": "code",
   "execution_count": 6,
   "id": "48ae2e87-6e10-492f-acc4-75cb386e01de",
   "metadata": {},
   "outputs": [
    {
     "name": "stdout",
     "output_type": "stream",
     "text": [
      "CPU times: user 1min 55s, sys: 36.2 s, total: 2min 31s\n",
      "Wall time: 4min 9s\n"
     ]
    }
   ],
   "source": [
    "%%time\n",
    "# Forcing\n",
    "process_forcing(subset_name, list_of_states)"
   ]
  },
  {
   "cell_type": "code",
   "execution_count": null,
   "id": "11cd667c-f0f6-4ccb-864b-f003fd04e44c",
   "metadata": {},
   "outputs": [],
   "source": []
  }
 ],
 "metadata": {
  "kernelspec": {
   "display_name": "Python 3 (ipykernel)",
   "language": "python",
   "name": "python3"
  },
  "language_info": {
   "codemirror_mode": {
    "name": "ipython",
    "version": 3
   },
   "file_extension": ".py",
   "mimetype": "text/x-python",
   "name": "python",
   "nbconvert_exporter": "python",
   "pygments_lexer": "ipython3",
   "version": "3.11.7"
  }
 },
 "nbformat": 4,
 "nbformat_minor": 5
}
