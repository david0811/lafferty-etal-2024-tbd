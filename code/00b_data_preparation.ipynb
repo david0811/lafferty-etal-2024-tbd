{
 "cells": [
  {
   "cell_type": "code",
   "execution_count": 1,
   "id": "9384c76f-a951-4f90-a73f-d3106230bf5c",
   "metadata": {},
   "outputs": [],
   "source": [
    "import numpy as np\n",
    "import pandas as pd\n",
    "import xarray as xr\n",
    "\n",
    "import regionmask\n",
    "\n",
    "from glob import glob\n",
    "import os\n",
    "\n",
    "import dask"
   ]
  },
  {
   "cell_type": "code",
   "execution_count": 2,
   "id": "626b7594-9a8e-49ec-9f5d-a45a3469319c",
   "metadata": {},
   "outputs": [],
   "source": [
    "#####################\n",
    "#### Directories ####\n",
    "#####################\n",
    "nldas_path = '/storage/group/pches/default/public/NLDAS/'\n",
    "smap_path = '/storage/group/pches/default/public/SMAP/'\n",
    "project_data_path = '/storage/group/pches/default/users/dcl5300/wbm_soilM_crop_uc_lafferty-etal-2024-tbd_DATA'\n",
    "log_path = '/storage/home/dcl5300/work/current_projects/wbm_soilM_crop_uc_lafferty-etal-2024-tbd/code/logs'"
   ]
  },
  {
   "cell_type": "code",
   "execution_count": 3,
   "id": "052fa90a-0e0a-47ab-8661-15faf7157026",
   "metadata": {},
   "outputs": [],
   "source": [
    "#######################\n",
    "# Function definitions\n",
    "#######################\n",
    "\n",
    "# Subsetting function\n",
    "def _subset_states(ds, list_of_states):\n",
    "    \"\"\"\n",
    "    Subsets a netCDF file to a list of states using regionmask\n",
    "    \"\"\"\n",
    "    if list_of_states == None:\n",
    "        return ds\n",
    "    # Subset\n",
    "    subset_index = regionmask.defined_regions.natural_earth_v5_0_0.us_states_50.map_keys(list_of_states)\n",
    "    subset_mask = regionmask.defined_regions.natural_earth_v5_0_0.us_states_50.mask(ds)\n",
    "    ds_subset = ds.where(subset_mask.isin(subset_index), drop=True)\n",
    "    # Return\n",
    "    return ds_subset\n",
    "\n",
    "# SMAP processing\n",
    "def process_smap(subset_name, list_of_states):\n",
    "    \"\"\"\n",
    "    Grabs SMAP outputs and stores as one netCDF file with after subsetting to list_of_states.\n",
    "    \"\"\"\n",
    "    if not os.path.isfile(f'{project_data_path}/WBM/precalibration/{subset_name}/SMAP/SMAP_validation.nc'):\n",
    "        # Read all\n",
    "        files = glob(f'{smap_path}/processed_nldas_grid/SMAP_L4_SM_gph_all_nldas_*.nc')\n",
    "        ds_smap = xr.concat([_subset_states(xr.open_dataset(file)['sm_rootzone'], list_of_states) for file in files], dim='time')\n",
    "\n",
    "        # 365 day calendar\n",
    "        ds_smap = ds_smap.convert_calendar(calendar='noleap', dim='time')\n",
    "    \n",
    "        # Merge and store (and change units to kg/m3)\n",
    "        ds_out = xr.Dataset({'soilMoist':1000*ds_smap})\n",
    "        ds_out.attrs['units'] = 'kg/m3'\n",
    "        ds_out.to_netcdf(f'{project_data_path}/WBM/precalibration/{subset_name}/SMAP/SMAP_validation.nc')\n",
    "\n",
    "        # Also store numpy array for quicker evaluations\n",
    "        npy_out = np.transpose(ds_out['soilMoist'].to_numpy(), (2,1,0))\n",
    "        np.save(f'{project_data_path}/WBM/precalibration/{subset_name}/SMAP/SMAP_validation.npy', npy_out)\n",
    "    else:\n",
    "        print('SMAP already processed')\n",
    "\n",
    "# NLDAS processing\n",
    "def process_nldas(subset_name, list_of_states):\n",
    "    \"\"\"\n",
    "    Grabs NDLAS outputs and stores as one netCDF file with after subsetting to list_of_states.\n",
    "    \"\"\"\n",
    "    nldas_dict = {'VIC':'SOILM0_100cm', 'NOAH':'SOILM', 'MOSAIC':'SOILM'}\n",
    "    \n",
    "    # Loop through each\n",
    "    for model, var_id in nldas_dict.items():\n",
    "        if not os.path.isfile(f'{project_data_path}/WBM/precalibration/{subset_name}/{model}/{model}_validation.nc'):\n",
    "            # Read all\n",
    "            files = glob(f'{nldas_path}/{model}/daily/*.nc')\n",
    "            ds_nldas = xr.concat([_subset_states(xr.open_dataset(file)[var_id], list_of_states) for file in files], dim='time')\n",
    "\n",
    "            # 365 day calendar\n",
    "            ds_nldas = ds_nldas.convert_calendar(calendar='noleap', dim='time')\n",
    "    \n",
    "            # Select correct depth\n",
    "            if model in ['MOSAIC', 'NOAH']:\n",
    "                ds_nldas = ds_nldas.isel(depth=1)\n",
    "            else:\n",
    "                ds_nldas = ds_nldas.isel(depth=0)\n",
    "        \n",
    "            # Merge and store\n",
    "            ds_out = xr.Dataset({'soilMoist':ds_nldas})\n",
    "            ds_out.attrs['units'] = 'kg/m3'\n",
    "            ds_out.to_netcdf(f'{project_data_path}/WBM/precalibration/{subset_name}/{model}/{model}_validation.nc')\n",
    "\n",
    "            # Also store numpy array for quicker evaluations\n",
    "            npy_out = np.transpose(ds_out['soilMoist'].to_numpy(), (2,1,0))\n",
    "            np.save(f'{project_data_path}/WBM/precalibration/{subset_name}/{model}/{model}_validation.npy', npy_out)\n",
    "\n",
    "# Forcing processing\n",
    "def process_forcing(subset_name, list_of_states):\n",
    "    \"\"\"\n",
    "    Grabs all forcing inputs are stores as single numpy npz file.\n",
    "    SMAP and NLDAS handled separately since meteo forcing is different. \n",
    "    \"\"\"\n",
    "    for obs in ['MOSAIC', 'NOAH', 'VIC', 'SMAP']:\n",
    "        if not os.path.isfile(f'{project_data_path}/WBM/precalibration/{subset_name}/{obs}/inputs.npz'):\n",
    "            # Climate drivers\n",
    "            if obs == \"SMAP\":\n",
    "                files = glob(f'{smap_path}/processed_nldas_grid/SMAP_L4_SM_gph_all_nldas_*.nc')\n",
    "                ds_forcing = xr.concat([_subset_states(xr.open_dataset(file), list_of_states) for file in files], dim='time')\n",
    "            else:\n",
    "                files = glob(f'{nldas_path}/forcing/daily/NLDAS_FORA0125_H.A*.nc')\n",
    "                ds_forcing = xr.concat([_subset_states(xr.open_dataset(file), list_of_states) for file in files], dim='time')\n",
    "\n",
    "            # 365 day calendar\n",
    "            ds_forcing = ds_forcing.convert_calendar(calendar='noleap', dim='time')\n",
    "\n",
    "            # Geophysical inputs\n",
    "            ds_lai = _subset_states(xr.open_dataset(f'{project_data_path}/WBM/geo_inputs/LAI_GLDAS_clima_NLDASgrid.nc'), list_of_states)\n",
    "            if obs == 'VIC': # VIC does not provide awCap, wiltingp, so use NOAH\n",
    "                obs_soilp = 'NOAH'\n",
    "            else:\n",
    "                obs_soilp = obs\n",
    "            ds_awCap = _subset_states(xr.open_dataset(f'{project_data_path}/WBM/geo_inputs/{obs_soilp}_awCap.nc'), list_of_states)\n",
    "            ds_wiltingp = _subset_states(xr.open_dataset(f'{project_data_path}/WBM/geo_inputs/{obs_soilp}_wiltingp.nc'), list_of_states)\n",
    "    \n",
    "            ds_clayfrac = _subset_states(xr.open_dataset(f'{project_data_path}/WBM/geo_inputs/clayfrac_NLDASgrid.nc'), list_of_states)\n",
    "            ds_sandfrac = _subset_states(xr.open_dataset(f'{project_data_path}/WBM/geo_inputs/sandfrac_NLDASgrid.nc'), list_of_states)\n",
    "            ds_siltfrac = _subset_states(xr.open_dataset(f'{project_data_path}/WBM/geo_inputs/siltfrac_NLDASgrid.nc'), list_of_states)\n",
    "    \n",
    "            # Initial conditions\n",
    "            ds_init = _subset_states(xr.open_dataset(f'{project_data_path}/WBM/precalibration/{subset_name}/{obs}/{obs}_validation.nc'), list_of_states).isel(time=0)\n",
    "    \n",
    "            # Numpy arrays in correct order\n",
    "            lats = ds_lai.lat.to_numpy()\n",
    "            lons = ds_lai.lon.to_numpy()\n",
    "    \n",
    "            if obs == \"SMAP\":\n",
    "                tas = np.transpose(ds_forcing['temp_lowatmmodlay'].to_numpy() - 273.15, (2,1,0))\n",
    "                prcp = np.transpose(ds_forcing['precipitation_total_surface_flux'].to_numpy() * 86400, (2,1,0))\n",
    "            else:\n",
    "                tas = np.transpose(ds_forcing['TMP'].to_numpy() - 273.15, (2,1,0))\n",
    "                prcp = np.transpose(ds_forcing['APCP'].to_numpy(), (2,1,0))\n",
    "    \n",
    "            lai = np.transpose(ds_lai['LAI'].to_numpy(), (2,1,0))\n",
    "            awCap = np.transpose(ds_awCap['awCap'].to_numpy())\n",
    "            wiltingp = np.transpose(ds_wiltingp['wiltingp'].to_numpy())\n",
    "    \n",
    "            clayfrac = np.transpose(ds_clayfrac['clayfrac'].to_numpy() / 100) # percentage -> fraction\n",
    "            sandfrac = np.transpose(ds_sandfrac['sandfrac'].to_numpy() / 100) # percentage -> fraction\n",
    "            siltfrac = np.transpose(ds_siltfrac['siltfrac'].to_numpy() / 100) # percentage -> fraction\n",
    "    \n",
    "            soilMoist_init = np.transpose(ds_init['soilMoist'].to_numpy())\n",
    "    \n",
    "            # Store numpy for easy access\n",
    "            np.savez(f'{project_data_path}/WBM/precalibration/{subset_name}/{obs}/inputs.npz',\n",
    "                     tas=tas, prcp=prcp,\n",
    "                     lai=lai, awCap=awCap, wiltingp=wiltingp,\n",
    "                     lats=lats, lons=lons,\n",
    "                     clayfrac=clayfrac, sandfrac=sandfrac, siltfrac=siltfrac,\n",
    "                     soilMoist_init=soilMoist_init)"
   ]
  },
  {
   "cell_type": "markdown",
   "id": "332416eb-c27b-406c-9408-cecafbde895d",
   "metadata": {
    "jp-MarkdownHeadingCollapsed": true
   },
   "source": [
    "### Entire domain"
   ]
  },
  {
   "cell_type": "code",
   "execution_count": 4,
   "id": "49f39e22-2567-4676-b1e3-c91b36f1a3b1",
   "metadata": {},
   "outputs": [],
   "source": [
    "subset_name = \"CONUS\"\n",
    "list_of_states = None"
   ]
  },
  {
   "cell_type": "code",
   "execution_count": 5,
   "id": "3042c557-36fc-42eb-8fbc-13fc79d729d5",
   "metadata": {},
   "outputs": [],
   "source": [
    "# Make directories\n",
    "output_path = f\"{project_data_path}/WBM/precalibration/{subset_name}\"\n",
    "\n",
    "# Main\n",
    "if not os.path.isdir(output_path):\n",
    "    os.mkdir(output_path)\n",
    "    \n",
    "# Subs\n",
    "for sub in [\"SMAP\", \"VIC\", \"NOAH\", \"MOSAIC\"]:\n",
    "    if not os.path.isdir(f\"{output_path}/{sub}\"):\n",
    "        os.mkdir(f\"{output_path}/{sub}\")"
   ]
  },
  {
   "cell_type": "code",
   "execution_count": 6,
   "id": "4a2cf1e4-8408-49c1-80fc-1988e46c64e8",
   "metadata": {},
   "outputs": [
    {
     "name": "stdout",
     "output_type": "stream",
     "text": [
      "SMAP already processed\n",
      "CPU times: user 694 µs, sys: 0 ns, total: 694 µs\n",
      "Wall time: 775 µs\n"
     ]
    }
   ],
   "source": [
    "%%time\n",
    "# SMAP\n",
    "process_smap(subset_name, list_of_states)"
   ]
  },
  {
   "cell_type": "code",
   "execution_count": 7,
   "id": "966a8e81-2869-4960-8ce9-8ae9c7a27447",
   "metadata": {},
   "outputs": [
    {
     "name": "stdout",
     "output_type": "stream",
     "text": [
      "CPU times: user 1min 1s, sys: 23.5 s, total: 1min 24s\n",
      "Wall time: 2min 25s\n"
     ]
    }
   ],
   "source": [
    "%%time\n",
    "# NLDAS\n",
    "process_nldas(subset_name, list_of_states)"
   ]
  },
  {
   "cell_type": "code",
   "execution_count": 8,
   "id": "9ca6e5b6-6457-4a3f-85f5-96b2ee365c1c",
   "metadata": {},
   "outputs": [
    {
     "name": "stdout",
     "output_type": "stream",
     "text": [
      "CPU times: user 3min 18s, sys: 1min 3s, total: 4min 22s\n",
      "Wall time: 10min 30s\n"
     ]
    }
   ],
   "source": [
    "%%time\n",
    "# Forcing\n",
    "process_forcing(subset_name, list_of_states)"
   ]
  },
  {
   "cell_type": "markdown",
   "id": "946b761e-56e8-4f57-a936-b34893862375",
   "metadata": {},
   "source": [
    "### Central US"
   ]
  },
  {
   "cell_type": "code",
   "execution_count": 4,
   "id": "4f63b04c-9d38-4c37-94d2-ed77dde23fd1",
   "metadata": {},
   "outputs": [],
   "source": [
    "subset_name = \"centralUS_test\"\n",
    "list_of_states = [\"Illinois\", \"Iowa\", \"Wisconsin\", \"Minnesota\", \"North Dakota\", \"South Dakota\", \"Nebraska\", \"Kansas\", \"Missouri\", \"Indiana\", \"Ohio\", \"Michigan\", \"Kentucky\"]"
   ]
  },
  {
   "cell_type": "code",
   "execution_count": 5,
   "id": "9742308f-6e68-441d-a940-f4e1ba010d05",
   "metadata": {},
   "outputs": [],
   "source": [
    "# Make directories\n",
    "output_path = f\"{project_data_path}/WBM/precalibration/{subset_name}\"\n",
    "\n",
    "# Main\n",
    "if not os.path.isdir(output_path):\n",
    "    os.mkdir(output_path)\n",
    "    \n",
    "# Subs\n",
    "for sub in [\"SMAP\", \"VIC\", \"NOAH\", \"MOSAIC\"]:\n",
    "    if not os.path.isdir(f\"{output_path}/{sub}\"):\n",
    "        os.mkdir(f\"{output_path}/{sub}\")"
   ]
  },
  {
   "cell_type": "code",
   "execution_count": 16,
   "id": "55a33927-3a0f-4d59-a5a5-5a2ae50f97f5",
   "metadata": {},
   "outputs": [
    {
     "name": "stdout",
     "output_type": "stream",
     "text": [
      "CPU times: user 1min 44s, sys: 6.74 s, total: 1min 51s\n",
      "Wall time: 2min 51s\n"
     ]
    }
   ],
   "source": [
    "%%time\n",
    "# SMAP\n",
    "process_smap(subset_name, list_of_states)"
   ]
  },
  {
   "cell_type": "code",
   "execution_count": 17,
   "id": "0aad8e47-54a7-4f7f-8450-9c17492f52aa",
   "metadata": {},
   "outputs": [
    {
     "name": "stdout",
     "output_type": "stream",
     "text": [
      "CPU times: user 5min 54s, sys: 25.7 s, total: 6min 19s\n",
      "Wall time: 9min 39s\n"
     ]
    }
   ],
   "source": [
    "%%time\n",
    "# NLDAS\n",
    "process_nldas(subset_name, list_of_states)"
   ]
  },
  {
   "cell_type": "code",
   "execution_count": 6,
   "id": "48ae2e87-6e10-492f-acc4-75cb386e01de",
   "metadata": {},
   "outputs": [
    {
     "name": "stdout",
     "output_type": "stream",
     "text": [
      "CPU times: user 7min 37s, sys: 26.1 s, total: 8min 3s\n",
      "Wall time: 10min 42s\n"
     ]
    }
   ],
   "source": [
    "%%time\n",
    "# Forcing\n",
    "process_forcing(subset_name, list_of_states)"
   ]
  },
  {
   "cell_type": "code",
   "execution_count": null,
   "id": "8bdf5351-efa9-4fa4-aab3-fb81289b7293",
   "metadata": {},
   "outputs": [],
   "source": []
  }
 ],
 "metadata": {
  "kernelspec": {
   "display_name": "Python 3 (ipykernel)",
   "language": "python",
   "name": "python3"
  },
  "language_info": {
   "codemirror_mode": {
    "name": "ipython",
    "version": 3
   },
   "file_extension": ".py",
   "mimetype": "text/x-python",
   "name": "python",
   "nbconvert_exporter": "python",
   "pygments_lexer": "ipython3",
   "version": "3.11.7"
  }
 },
 "nbformat": 4,
 "nbformat_minor": 5
}
