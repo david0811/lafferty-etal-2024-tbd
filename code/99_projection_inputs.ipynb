{
 "cells": [
  {
   "cell_type": "code",
   "execution_count": 3,
   "id": "0aba80bc-3f50-4267-9f96-e75293336b23",
   "metadata": {},
   "outputs": [
    {
     "data": {
      "text/plain": [
       "<dask.config.set at 0x2af0be969900>"
      ]
     },
     "execution_count": 3,
     "metadata": {},
     "output_type": "execute_result"
    }
   ],
   "source": [
    "import os \n",
    "\n",
    "import numpy as np\n",
    "import pandas as pd\n",
    "import xarray as xr\n",
    "\n",
    "import dask\n",
    "dask.config.set(**{'array.slicing.split_large_chunks': False})"
   ]
  },
  {
   "cell_type": "code",
   "execution_count": 19,
   "id": "dadf973d-1df0-4a94-b7d3-a65036da828e",
   "metadata": {},
   "outputs": [],
   "source": [
    "# ############\n",
    "# # Dask\n",
    "# ############\n",
    "# from dask_jobqueue import PBSCluster\n",
    "\n",
    "# cluster = PBSCluster(\n",
    "#     cores=1,\n",
    "#     memory=\"40GB\",\n",
    "#     resource_spec=\"pmem=40GB\",\n",
    "#     # account='open',\n",
    "#     worker_extra_args=[\"#PBS -l feature=rhel7\"],\n",
    "#     walltime=\"00:30:00\",\n",
    "# )\n",
    "\n",
    "# cluster.scale(jobs=20)  # ask for jobs\n",
    "\n",
    "# from dask.distributed import Client\n",
    "\n",
    "# client = Client(cluster)\n",
    "\n",
    "# client"
   ]
  },
  {
   "cell_type": "code",
   "execution_count": 4,
   "id": "39c512c4-eba0-4499-bd42-c31ff181175e",
   "metadata": {},
   "outputs": [],
   "source": [
    "############################\n",
    "######## Set paths #########\n",
    "############################\n",
    "\n",
    "data_path = \"/gpfs/group/kaf26/default/private/WBM_data/squam.sr.unh.edu/US_CDL_v3_data/\"\n",
    "out_path = \"/gpfs/group/kaf26/default/dcl5300/wbm_soilM_crop_uc_lafferty-etal-2024-tbd_DATA/nonclim_proj_inputs\""
   ]
  },
  {
   "cell_type": "markdown",
   "id": "8d62b24c-e2e7-462b-9bb5-31675eebe5d1",
   "metadata": {},
   "source": [
    "## Inputs required for projections"
   ]
  },
  {
   "cell_type": "markdown",
   "id": "d4ad326c-59d0-45aa-a318-fcc0b1721815",
   "metadata": {},
   "source": [
    "### CLDTOT"
   ]
  },
  {
   "cell_type": "code",
   "execution_count": 5,
   "id": "c4a65846-fbc5-4fa7-9250-681bf1a2376e",
   "metadata": {},
   "outputs": [],
   "source": [
    "# Functiont to calculate climatology on given date\n",
    "def get_climatology(date, year_start, year_end):\n",
    "    # Read all\n",
    "    ds = xr.concat([xr.open_dataset(f\"{data_path}/climate/CLDTOT/{str(year)}/MERRA2.CLDTOT.{str(year)}-{date}.nc\") for year in range(year_start,year_end+1)], dim=\"time\")\n",
    "    # Calculate climatology\n",
    "    ds_out = ds.mean(dim=\"time\")\n",
    "    # Assign date\n",
    "    ds_out = ds_out.assign_coords(time = pd.to_datetime(f\"2000-{date}\"))\n",
    "    # Return\n",
    "    return ds_out"
   ]
  },
  {
   "cell_type": "code",
   "execution_count": 6,
   "id": "62e7ae3f-a5df-4f6a-9733-c2fb42469cf9",
   "metadata": {},
   "outputs": [],
   "source": [
    "# Get all DOYs\n",
    "dates = [date[19:-3] for date in os.listdir(f\"{data_path}/climate/CLDTOT/2009/\")]"
   ]
  },
  {
   "cell_type": "code",
   "execution_count": 15,
   "id": "a6a9ae71-ee7a-4cae-9cd9-f874559c1853",
   "metadata": {},
   "outputs": [
    {
     "name": "stdout",
     "output_type": "stream",
     "text": [
      "CPU times: user 2min 26s, sys: 15.6 s, total: 2min 41s\n",
      "Wall time: 8min 20s\n"
     ]
    }
   ],
   "source": [
    "%%time \n",
    "\n",
    "# Calculate all\n",
    "year_start = 1980\n",
    "year_end = 2014\n",
    "\n",
    "ds = xr.concat([get_climatology(date, year_start, year_end) for date in dates], dim=\"time\").sortby(\"time\")"
   ]
  },
  {
   "cell_type": "code",
   "execution_count": 17,
   "id": "d5a16615-f59f-464e-bddf-b5e3ca3beb45",
   "metadata": {},
   "outputs": [],
   "source": [
    "# Store\n",
    "ds.to_netcdf(f\"{out_path}/MERRA2.CLDTOT.daily_clim.nc\")"
   ]
  },
  {
   "cell_type": "markdown",
   "id": "756ece2d-9570-43b4-9512-94a00ffe2d67",
   "metadata": {},
   "source": [
    "### Other"
   ]
  },
  {
   "cell_type": "code",
   "execution_count": 18,
   "id": "ec9e6a94-cdc1-4f91-9689-5b3319d82155",
   "metadata": {},
   "outputs": [],
   "source": [
    "# # Fallow fraction\n",
    "# ds_fallow_fr = xr.concat([xr.open_dataset(f\"{crop_data_path}/crop_fraction/{str(year)}/MC_fallow_fr.nc\", chunks=\"auto\") for year in range(2009,2016)], dim=\"time\")\n",
    "# ds_fallow_fr.chunk({\"time\":-1, \"lat\":100, \"lon\":100}).groupby(\"time.dayofyear\").mean(dim=\"time\").to_netcdf(f\"{out_path}/MC_fallow_fr.nc\")\n",
    "\n",
    "# # Non-Rice Irr AwCap\n",
    "# ds_nonrice_irr_awCap_av = xr.concat([xr.open_dataset(f\"{crop_data_path}/awCap_av/{str(year)}/MC_nonrice_irr_awCap_av.nc\") for year in range(2009,2017)], dim=\"time\")\n",
    "# ds_nonrice_irr_awCap_av.groupby(\"time.dayofyear\").mean(dim=\"time\").to_netcdf(f\"{out_path}/nonrice_irr_awCap_av.nc\")\n",
    "\n",
    "# # Non-Rice Irr CDF\n",
    "# ds_nonrice_irr_CDF_av = xr.concat([xr.open_dataset(f\"{crop_data_path}/CDF_av/{str(year)}/MC_nonrice_irr_CDF_av.nc\") for year in range(2009,2017)], dim=\"time\")\n",
    "# ds_nonrice_irr_CDF_av.groupby(\"time.dayofyear\").mean(dim=\"time\").to_netcdf(f\"{out_path}/nonrice_irr_CDF_av.nc\")\n",
    "\n",
    "# # Non-Rice Irr Fr\n",
    "# ds_nonrice_irr_fr_av = xr.concat([xr.open_dataset(f\"{crop_data_path}/crop_fraction_av/{str(year)}/MC_nonrice_irr_fr_av.nc\") for year in range(2009,2017)], dim=\"time\")\n",
    "# ds_nonrice_irr_fr_av.groupby(\"time.dayofyear\").mean(dim=\"time\").to_netcdf(f\"{out_path}/nonrice_irr_fr_av.nc\")\n",
    "\n",
    "# # Non-Rice Irr Kc\n",
    "# ds_nonrice_irr_Kc_av = xr.concat([xr.open_dataset(f\"{crop_data_path}/Kc_av/{str(year)}/MC_nonrice_irr_Kc_av.nc\") for year in range(2009,2017)], dim=\"time\")\n",
    "# ds_nonrice_irr_Kc_av.groupby(\"time.dayofyear\").mean(dim=\"time\").to_netcdf(f\"{out_path}/nonrice_irr_Kc_av.nc\")\n",
    "\n",
    "# # Rainfed AwCap\n",
    "# ds_rfd_awCap_av = xr.concat([xr.open_dataset(f\"{crop_data_path}/awCap_av/{str(year)}/MC_rfd_awCap_av.nc\") for year in range(2009,2017)], dim=\"time\")\n",
    "# ds_rfd_awCap_av.groupby(\"time.dayofyear\").mean(dim=\"time\").to_netcdf(f\"{out_path}/rfd_awCap_av.nc\")\n",
    "\n",
    "# # Rainfed Fr\n",
    "# ds_rfd_fr_av = xr.concat([xr.open_dataset(f\"{crop_data_path}/crop_fraction_av/{str(year)}/MC_rfd_fr_av.nc\") for year in range(2009,2017)], dim=\"time\")\n",
    "# ds_rfd_fr_av.groupby(\"time.dayofyear\").mean(dim=\"time\").to_netcdf(f\"{out_path}/rfd_fr_av.nc\")\n",
    "\n",
    "# # Rainfed Kc\n",
    "# ds_rfd_Kc_av = xr.concat([xr.open_dataset(f\"{crop_data_path}/Kc_av/{str(year)}/MC_rfd_Kc_av.nc\") for year in range(2009,2017)], dim=\"time\")\n",
    "# ds_rfd_Kc_av.groupby(\"time.dayofyear\").mean(dim=\"time\").to_netcdf(f\"{out_path}/rfd_Kc_av.nc\")\n",
    "\n",
    "# # Rice AddedWater\n",
    "# ds_rice_irr_AddedWater_av = xr.concat([xr.open_dataset(f\"{crop_data_path}/added_water/{str(year)}/MC_rice_irr_AddedWater_av.nc\") for year in range(2009,2017)], dim=\"time\")\n",
    "# ds_rice_irr_AddedWater_av.groupby(\"time.dayofyear\").mean(dim=\"time\").to_netcdf(f\"{out_path}/rice_irr_AddedWater_av.nc\")\n",
    "\n",
    "# # Rice Irr AwCap\n",
    "# ds_rice_irr_awCap_av = xr.concat([xr.open_dataset(f\"{crop_data_path}/awCap_av/{str(year)}/MC_rice_irr_awCap_av.nc\") for year in range(2009,2017)], dim=\"time\")\n",
    "# ds_rice_irr_awCap_av.groupby(\"time.dayofyear\").mean(dim=\"time\").to_netcdf(f\"{out_path}/rice_irr_awCap_av.nc\")\n",
    "\n",
    "# # Rice Irr CDF\n",
    "# ds_rice_irr_CDF_av = xr.concat([xr.open_dataset(f\"{crop_data_path}/CDF_av/{str(year)}/MC_rice_irr_CDF_av.nc\") for year in range(2009,2017)], dim=\"time\")\n",
    "# ds_rice_irr_CDF_av.groupby(\"time.dayofyear\").mean(dim=\"time\").to_netcdf(f\"{out_path}/rice_irr_CDF_av.nc\")\n",
    "\n",
    "# # Rice Irr Fr\n",
    "# ds_rice_irr_fr_av = xr.concat([xr.open_dataset(f\"{crop_data_path}/crop_fraction_av/{str(year)}/MC_rice_irr_fr_av.nc\") for year in range(2009,2017)], dim=\"time\")\n",
    "# ds_rice_irr_fr_av.groupby(\"time.dayofyear\").mean(dim=\"time\").to_netcdf(f\"{out_path}/rice_irr_fr_av.nc\")\n",
    "\n",
    "# # Rice Irr Kc\n",
    "# ds_rice_irr_Kc_av = xr.concat([xr.open_dataset(f\"{crop_data_path}/Kc_av/{str(year)}/MC_rice_irr_Kc_av.nc\") for year in range(2009,2017)], dim=\"time\")\n",
    "# ds_rice_irr_Kc_av.groupby(\"time.dayofyear\").mean(dim=\"time\").to_netcdf(f\"{out_path}/rice_irr_Kc_av.nc\")"
   ]
  }
 ],
 "metadata": {
  "kernelspec": {
   "display_name": "Python 3 (ipykernel)",
   "language": "python",
   "name": "python3"
  },
  "language_info": {
   "codemirror_mode": {
    "name": "ipython",
    "version": 3
   },
   "file_extension": ".py",
   "mimetype": "text/x-python",
   "name": "python",
   "nbconvert_exporter": "python",
   "pygments_lexer": "ipython3",
   "version": "3.11.6"
  }
 },
 "nbformat": 4,
 "nbformat_minor": 5
}
